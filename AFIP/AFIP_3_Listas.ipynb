{
 "cells": [
  {
   "cell_type": "code",
   "execution_count": 251,
   "id": "0baa0ba8",
   "metadata": {},
   "outputs": [],
   "source": [
    "Tipos_de_Comprobantes = {'Factura C': 2,\n",
    "                         'Nota de Débito C': 3,\n",
    "                         'Nota de Crédito C': 4,\n",
    "                         'Recibo C': 5,\n",
    "                         'Factura de Crédito Electrónica MiPyMEs (FCE) C': 120,\n",
    "                         'Nota de Débito Electrónica MiPyMEs (FCE) C': 121,\n",
    "                         'Nota de Crédito Electrónica MiPyMEs (FCE) C': 122}"
   ]
  },
  {
   "cell_type": "code",
   "execution_count": 252,
   "id": "ddc99c81",
   "metadata": {},
   "outputs": [],
   "source": [
    "Tipos_de_Conceptos = {'Productos': 1,\n",
    "                      'Servicios': 2,\n",
    "                      'Productos y Servicios': 3}"
   ]
  },
  {
   "cell_type": "code",
   "execution_count": 253,
   "id": "9c961c5c",
   "metadata": {},
   "outputs": [],
   "source": [
    "Tipos_Condicion_IVA = {\"IVA Responsable Inscripto\": \"1\",\n",
    "                       \"IVA Sujeto Exento\": \"4\",\n",
    "                       \"Consumidor Final\": \"5\",\n",
    "                       \"Responsable Monotributo\": \"6\",\n",
    "                       \"Sujeto No Categorizado\": \"7\",\n",
    "                       \"Proveedor del Exterior\": \"8\",\n",
    "                       \"Cliente del Exterior\": \"9\",\n",
    "                       \"IVA Liberado - Ley Nº 19.640\": \"10\",\n",
    "                       \"Monotributista Social\": \"13\",\n",
    "                       \"IVA No Alcanzado\": \"15\",\n",
    "                       \"Monotributista Trabajador Independiente Promovido\": \"16\"}"
   ]
  }
 ],
 "metadata": {
  "kernelspec": {
   "display_name": "Python 3 (ipykernel)",
   "language": "python",
   "name": "python3"
  },
  "language_info": {
   "codemirror_mode": {
    "name": "ipython",
    "version": 3
   },
   "file_extension": ".py",
   "mimetype": "text/x-python",
   "name": "python",
   "nbconvert_exporter": "python",
   "pygments_lexer": "ipython3",
   "version": "3.10.9"
  }
 },
 "nbformat": 4,
 "nbformat_minor": 5
}
