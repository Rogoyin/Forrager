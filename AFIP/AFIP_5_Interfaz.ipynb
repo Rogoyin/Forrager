{
 "cells": [
  {
   "cell_type": "code",
   "execution_count": 17,
   "id": "cb67f124",
   "metadata": {},
   "outputs": [],
   "source": [
    "import tkinter as tk\n",
    "from tkinter import filedialog, messagebox"
   ]
  },
  {
   "cell_type": "code",
   "execution_count": 20,
   "id": "e38da1ea",
   "metadata": {},
   "outputs": [],
   "source": [
    "# Ventana principal.\n",
    "Ventana = tk.Tk()\n",
    "\n",
    "# Título de la aplicación.\n",
    "Ventana.title(\"AFIP\")\n",
    "\n",
    "# Tamaño de la ventana.\n",
    "Ventana.geometry(\"400x300+100+100\")\n",
    "\n",
    "# Cargar archivo.\n",
    "\n",
    "from tkinter import filedialog\n",
    " \n",
    "# Función de carga de archivo.\n",
    "def Cargar_Archivo():\n",
    "    # Abrir el cuadro de diálogo para seleccionar un archivo\n",
    "    Archivo = filedialog.askopenfilename()  \n",
    "    \n",
    "    # Verificar si se seleccionó un archivo.\n",
    "    if Archivo: \n",
    "        # Mensaje con el nombre del archivo seleccionado.\n",
    "        Mensaje = f\"Elegiste el archivo:\\n{Archivo}\"  \n",
    "        # Mostrar el mensaje en un cuadro de diálogo.\n",
    "        messagebox.showinfo(\"Archivo Seleccionado\", Mensaje)\n",
    "\n",
    "# Botón para cargar un archivo.\n",
    "Boton_Cargar = tk.Button(Ventana, text=\"Cargar Archivo\", command=Cargar_Archivo)\n",
    "Boton_Cargar.pack()"
   ]
  },
  {
   "cell_type": "code",
   "execution_count": 21,
   "id": "560cfb76",
   "metadata": {},
   "outputs": [],
   "source": [
    "# Iniciar el bucle de eventos\n",
    "Ventana.mainloop()"
   ]
  },
  {
   "cell_type": "code",
   "execution_count": null,
   "id": "4a8e20b1",
   "metadata": {},
   "outputs": [],
   "source": []
  }
 ],
 "metadata": {
  "kernelspec": {
   "display_name": "Python 3 (ipykernel)",
   "language": "python",
   "name": "python3"
  },
  "language_info": {
   "codemirror_mode": {
    "name": "ipython",
    "version": 3
   },
   "file_extension": ".py",
   "mimetype": "text/x-python",
   "name": "python",
   "nbconvert_exporter": "python",
   "pygments_lexer": "ipython3",
   "version": "3.10.9"
  }
 },
 "nbformat": 4,
 "nbformat_minor": 5
}
