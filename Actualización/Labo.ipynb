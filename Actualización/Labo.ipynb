{
 "cells": [
  {
   "cell_type": "code",
   "execution_count": 1,
   "metadata": {},
   "outputs": [],
   "source": [
    "# ------------------------------------------------------------------------------------------------\n",
    "# Paquetes.\n",
    "# ------------------------------------------------------------------------------------------------\n",
    "\n",
    "import pandas as pd\n",
    "import numpy as np\n",
    "import math \n",
    "import openpyxl\n",
    "from openpyxl import Workbook, load_workbook\n",
    "from openpyxl.utils import get_column_letter        \n",
    "from openpyxl.utils.dataframe import dataframe_to_rows\n",
    "from openpyxl.styles import NamedStyle, Font, PatternFill, Border, Side, Alignment, Color\n",
    "from openpyxl.worksheet.dimensions import ColumnDimension, DimensionHolder\n",
    "from openpyxl.worksheet.worksheet import Worksheet\n",
    "import pyautogui                     \n",
    "import time\n",
    "import pygetwindow as gw\n"
   ]
  },
  {
   "cell_type": "code",
   "execution_count": 2,
   "metadata": {},
   "outputs": [],
   "source": [
    "\n",
    "import sys\n",
    "sys.path.append('c:/Users/tomas/Documents/Programación/Proyectos/Paquetes')\n",
    "import Forpy as fg\n",
    "import Excpy as ex\n",
    "import Frampy as fr\n",
    "import Stringpy as st\n"
   ]
  },
  {
   "cell_type": "code",
   "execution_count": 3,
   "metadata": {},
   "outputs": [],
   "source": [
    "\n",
    "# ------------------------------------------------------------------------------------------------\n",
    "# Variables.\n",
    "# ------------------------------------------------------------------------------------------------\n",
    "\n",
    "# Archivo Proveedores.\n",
    "Proveedores = 'J:/My Drive/Forraje/Proveedores.xlsx'\n",
    "df_Proveedores = pd.read_excel(Proveedores, sheet_name='Centro')\n",
    "\n",
    "# Proveedores.\n",
    "Lista_Proveedores = ['Benavídez', 'Gallo', 'Anea', 'Pilar', 'Tortuguitas', 'Del Viso',\n",
    "                     'Chica Glade', 'San Martín', 'Hipocampus', 'Mundo Mascotas', 'Yaguar',\n",
    "                     'King Clor', 'Diserquim', 'Moreno', 'Roberto', 'Viejo Gets', 'Viejo Cuero', 'Mis Nietos', \n",
    "                     'Profesional Vet', 'Premier', 'Dacam']\n",
    "\n",
    "# Archivo Nex.\n",
    "Nex = 'J:/My Drive/Forraje/Exportar.xls'\n",
    "df_Nex = pd.read_excel(Nex)\n",
    "\n",
    "# Archivo Granel.\n",
    "Granel = 'J:/My Drive/Forraje/Granel.xlsx'\n",
    "df_Granel = pd.read_excel(Granel)\n",
    "\n",
    "# Archivo Fraccionados.\n",
    "Fraccion = 'J:/My Drive/Forraje/Fraccionables.xls'\n",
    "df_Fraccion = pd.read_excel(Fraccion)\n",
    "\n",
    "# Ofertas y precios establecidos.\n",
    "Ofertas = {}\n"
   ]
  },
  {
   "cell_type": "code",
   "execution_count": 4,
   "metadata": {},
   "outputs": [],
   "source": [
    "# ------------------------------------------------------------------------------------------------\n",
    "# ------------------------------------------------------------------------------------------------\n",
    "# ------------------------------------------------------------------------------------------------\n",
    "# PROCESAMIENTO DEL ARCHIVO PROVEEDORES.XLSX\n",
    "# ------------------------------------------------------------------------------------------------\n",
    "# ------------------------------------------------------------------------------------------------\n",
    "# ------------------------------------------------------------------------------------------------\n",
    "\n",
    "# ------------------------------------------------------------------------------------------------\n",
    "# Formatear el texto de las columnas de proveedores.\n",
    "# ------------------------------------------------------------------------------------------------\n",
    "\n",
    "df_Proveedores = fg.Column_Provider_Processing(df_Proveedores, Lista_Proveedores)\n"
   ]
  },
  {
   "cell_type": "code",
   "execution_count": 5,
   "metadata": {},
   "outputs": [
    {
     "name": "stderr",
     "output_type": "stream",
     "text": [
      "C:\\Users\\tomas\\Documents\\Programación\\Github\\Patricionog\\Modulio\\Forpy.py:104: FutureWarning: Setting an item of incompatible dtype is deprecated and will raise an error in a future version of pandas. Value 'Benavídez' has dtype incompatible with float64, please explicitly cast to a compatible dtype first.\n",
      "  df.at[Index, \"Proveedor\"] = Provider\n"
     ]
    }
   ],
   "source": [
    "\n",
    "\n",
    "# ------------------------------------------------------------------------------------------------\n",
    "# Hallar precio mínimo y proveedor.\n",
    "# ------------------------------------------------------------------------------------------------\n",
    "\n",
    "Minimo_Sin_Cero = df_Proveedores[Lista_Proveedores].replace(0, np.nan).min(axis=1, skipna=True)\n",
    "df_Proveedores['Precio'] = Minimo_Sin_Cero\n",
    "\n",
    "df_Proveedores = fg.Find_Best_Provider(df_Proveedores, Lista_Proveedores)\n",
    "\n"
   ]
  },
  {
   "cell_type": "code",
   "execution_count": 6,
   "metadata": {},
   "outputs": [],
   "source": [
    "\n",
    "# ------------------------------------------------------------------------------------------------\n",
    "# Agregar columnas con los precios y proveedores más baratos.\n",
    "# ------------------------------------------------------------------------------------------------\n",
    "\n",
    "Columns = ['Codigo', 'Descripcion', 'Precio', 'Categoria', 'Proveedor']\n",
    "\n",
    "df_Proveedores = df_Proveedores[Columns].copy()\n",
    "df_Proveedores.rename(columns={'Precio': 'Costo'}, inplace=True)\n",
    "\n"
   ]
  },
  {
   "cell_type": "code",
   "execution_count": 7,
   "metadata": {},
   "outputs": [],
   "source": [
    "\n",
    "# ------------------------------------------------------------------------------------------------\n",
    "# Agregar columnas con Markups y tipo de Unidad.\n",
    "# ------------------------------------------------------------------------------------------------\n",
    "\n",
    "df_Proveedores['Markup %'] = df_Proveedores['Categoria'].map(lambda x: fg.Markup_And_Unity[x]['Markup %'])\n",
    "df_Proveedores['Unidad'] = df_Proveedores['Categoria'].map(lambda x: fg.Markup_And_Unity[x]['Unidad'])\n",
    "\n"
   ]
  },
  {
   "cell_type": "code",
   "execution_count": 8,
   "metadata": {},
   "outputs": [],
   "source": [
    "\n",
    "# ------------------------------------------------------------------------------------------------\n",
    "# Filtrar df.\n",
    "# ------------------------------------------------------------------------------------------------\n",
    "\n",
    "Columns = ['Descripcion','Costo','Markup %','Proveedor','Categoria', 'Unidad']\n",
    "df_Proveedores = df_Proveedores[Columns]\n",
    "\n"
   ]
  },
  {
   "cell_type": "code",
   "execution_count": 9,
   "metadata": {},
   "outputs": [],
   "source": [
    "\n",
    "\n",
    "# ------------------------------------------------------------------------------------------------\n",
    "# ------------------------------------------------------------------------------------------------\n",
    "# ------------------------------------------------------------------------------------------------\n",
    "# PROCESAMIENTO DEL ARCHIVO EXPORTAR.XLS, CATÁLOGO DEL SISTEMA NEXTAR\n",
    "# ------------------------------------------------------------------------------------------------\n",
    "# ------------------------------------------------------------------------------------------------\n",
    "# ------------------------------------------------------------------------------------------------\n",
    "# ------------------------------------------------------------------------------------------------\n",
    "\n",
    "# ------------------------------------------------------------------------------------------------\n",
    "# Renombrar columnas y filtrar df.\n",
    "# ------------------------------------------------------------------------------------------------\n",
    "\n",
    "df_Nex.rename(columns={'Costo Unitário': 'Costo'}, inplace=True)\n",
    "\n",
    "df_Nex = fr.Add_Word_To_Name_Columns(df_Nex, Word = \"Nex\", Separator = '_')\n"
   ]
  },
  {
   "cell_type": "code",
   "execution_count": 10,
   "metadata": {},
   "outputs": [],
   "source": [
    "\n",
    "# ------------------------------------------------------------------------------------------------\n",
    "# ------------------------------------------------------------------------------------------------\n",
    "# ------------------------------------------------------------------------------------------------\n",
    "# DATAFRAME FINAL.\n",
    "# ------------------------------------------------------------------------------------------------\n",
    "# ------------------------------------------------------------------------------------------------\n",
    "# ------------------------------------------------------------------------------------------------\n",
    "# ------------------------------------------------------------------------------------------------\n",
    "\n",
    "# ------------------------------------------------------------------------------------------------\n",
    "# Verificar que los dos df tienen el mismo largo y componentes.\n",
    "# ------------------------------------------------------------------------------------------------\n",
    "\n",
    "Is_Same_Lenght = fr.Compare_Columns(df_Nex, 'Descripcion_Nex', df_Proveedores, 'Descripcion')\n",
    "\n",
    "if len(Is_Same_Lenght) != 0:\n",
    "    print(Is_Same_Lenght)\n",
    "    raise Exception(\"Los dfs no tienen la misma longitud o tienen diferencias en los nombres de los productos.\")\n",
    "\n",
    "Columns = ['Codigo_Nex','Costo_Nex','Precio_Nex']\n",
    "df_Nex = df_Nex[Columns]\n",
    "\n",
    "df = pd.concat([df_Nex, df_Proveedores], axis=1)\n",
    "\n",
    "\n",
    "df.rename(columns={'Codigo_Nex': 'Codigo'}, inplace=True)\n",
    "df.rename(columns={'Costo': 'Costo_Prov'}, inplace=True)\n",
    "df.rename(columns={'Precio': 'Precio_Nex'}, inplace=True)\n",
    "\n",
    "Columns_New_Order = [\"Codigo\", \"Descripcion\", \"Costo Final\", \"Precio_Nex\", \"Costo_Nex\", \"Costo_Prov\", \"Markup %\", \"Categoria\", \"Proveedor\"]\n",
    "\n",
    "df = df.reindex(columns=Columns_New_Order)\n"
   ]
  },
  {
   "cell_type": "code",
   "execution_count": 11,
   "metadata": {},
   "outputs": [],
   "source": [
    "\n",
    "# ------------------------------------------------------------------------------------------------\n",
    "# Calcular variables nuevas.\n",
    "# ------------------------------------------------------------------------------------------------\n",
    "\n",
    "df['Costo Final'] = df.apply(lambda row: max(row['Costo_Nex'], row['Costo_Prov']), axis=1).fillna(0)\n",
    "\n"
   ]
  },
  {
   "cell_type": "code",
   "execution_count": 12,
   "metadata": {},
   "outputs": [],
   "source": [
    "\n",
    "# ------------------------------------------------------------------------------------------------\n",
    "# ------------------------------------------------------------------------------------------------\n",
    "# ------------------------------------------------------------------------------------------------\n",
    "# CALCULAR PRECIOS A GRANEL.\n",
    "# ------------------------------------------------------------------------------------------------\n",
    "# ------------------------------------------------------------------------------------------------\n",
    "# ------------------------------------------------------------------------------------------------\n",
    "# ------------------------------------------------------------------------------------------------\n",
    "\n",
    "df_Granel = fr.Get_Last_Number_Of_String_Column(df_Granel, 'Bolsa', 'Kilos')\n",
    "\n",
    "df_Granel = fr.Match_And_Copy_Column_Values(df_Granel, df, 'Bolsa', 'Costo Bolsa', 'Descripcion',  'Costo Final')\n",
    "\n",
    "df_Granel = df_Granel.replace('', 0)\n",
    "\n",
    "df_Granel = fr.Convert_Type_Of_Columns(df_Granel, ['Kilos', 'Costo Bolsa', 'Costo Final'], \"float\")\n",
    "\n",
    "df_Granel['Costo Kilo'] = df_Granel['Costo Bolsa']/df_Granel['Kilos']\n",
    "\n",
    "df = fr.Match_And_Copy_Column_Values(df, df_Granel, 'Descripcion', 'Costo_Prov', 'Granel', 'Costo Kilo')\n",
    "\n"
   ]
  },
  {
   "cell_type": "code",
   "execution_count": 13,
   "metadata": {},
   "outputs": [],
   "source": [
    "\n",
    "\n",
    "# ------------------------------------------------------------------------------------------------\n",
    "# ------------------------------------------------------------------------------------------------\n",
    "# ------------------------------------------------------------------------------------------------\n",
    "# CALCULAR PRECIOS DE FRACCIONADOS.\n",
    "# ------------------------------------------------------------------------------------------------\n",
    "# ------------------------------------------------------------------------------------------------\n",
    "# ------------------------------------------------------------------------------------------------\n",
    "# ------------------------------------------------------------------------------------------------\n",
    "\n",
    "df_Fraccion = fr.Get_Last_Number_Of_String_Column(df_Fraccion, 'Fraccionable', 'Unidades')\n",
    "\n",
    "df_Fraccion = fr.Match_And_Copy_Column_Values(df_Fraccion, df, 'Fraccionable', 'Costo Paquete', 'Descripcion', 'Costo Final')\n",
    "\n",
    "df_Fraccion = df_Fraccion.replace('', 0)\n",
    "\n",
    "df_Fraccion = fr.Convert_Type_Of_Columns(df_Fraccion, ['Unidades', 'Costo Paquete'], \"float\")\n",
    "\n",
    "df_Fraccion['Costo Unidad'] = df_Fraccion['Costo Paquete']/df_Fraccion['Unidades']"
   ]
  },
  {
   "cell_type": "code",
   "execution_count": 14,
   "metadata": {},
   "outputs": [],
   "source": [
    "# ------------------------------------------------------------------------------------------------\n",
    "# Casos especiales: Ivomec.\n",
    "# ------------------------------------------------------------------------------------------------\n",
    "\n",
    "df_Fraccion.loc[df_Fraccion['Fraccionable'] == 'Ivomec x 500 cc.', 'Costo Unidad'] += df_Fraccion.loc[df_Fraccion['Fraccionable'] == 'Jeringa x 100 u.', 'Costo Unidad'].values[0]\n"
   ]
  },
  {
   "cell_type": "code",
   "execution_count": 15,
   "metadata": {},
   "outputs": [],
   "source": [
    "# ------------------------------------------------------------------------------------------------\n",
    "# Casos especiales: A otra parte.\n",
    "# ------------------------------------------------------------------------------------------------\n",
    "\n",
    "# Encontrar la fila donde la columna \"Descripcion\" es igual a \"Envase x 250 cc.\"\n",
    "Fila_Botellita = df.loc[df['Descripcion'] == 'Envase x 250 cc.']\n",
    "\n",
    "# Extraer el valor de la columna \"Costo Final\" de la fila encontrada\n",
    "Costo_Botellita = Fila_Botellita['Costo Final'].values[0]\n",
    "\n",
    "# Utiliza el método .iloc para acceder al primer elemento de la columna y asignarle el nuevo valor\n",
    "df_Fraccion.loc[df_Fraccion['Fraccionable'] == 'A Otra Parte Concentrado x 600 cc.', 'Costo Unidad'] = df_Fraccion['Costo Unidad'].iloc[0]*25 + Costo_Botellita"
   ]
  },
  {
   "cell_type": "code",
   "execution_count": 16,
   "metadata": {},
   "outputs": [],
   "source": [
    "# ------------------------------------------------------------------------------------------------\n",
    "# Casos especiales: Bozales.\n",
    "# ------------------------------------------------------------------------------------------------\n",
    "\n",
    "Costo = df_Fraccion.loc[df_Fraccion['Fraccionable'] == 'Bozal Canasta Pack x 7 u.', 'Costo Paquete'].values[0]\n",
    "\n",
    "df_Fraccion.loc[df_Fraccion['Unidad'] == 'Bozal Canasta N° 1', 'Costo Unidad'] = Costo * 0.10\n",
    "df_Fraccion.loc[df_Fraccion['Unidad'] == 'Bozal Canasta N° 2', 'Costo Unidad'] = Costo * 0.12\n",
    "df_Fraccion.loc[df_Fraccion['Unidad'] == 'Bozal Canasta N° 3', 'Costo Unidad'] = Costo * 0.14\n",
    "df_Fraccion.loc[df_Fraccion['Unidad'] == 'Bozal Canasta N° 4', 'Costo Unidad'] = Costo * 0.16\n",
    "df_Fraccion.loc[df_Fraccion['Unidad'] == 'Bozal Canasta N° 5', 'Costo Unidad'] = Costo * 0.20\n",
    "df_Fraccion.loc[df_Fraccion['Unidad'] == 'Bozal Canasta N° 6', 'Costo Unidad'] = Costo * 0.22"
   ]
  },
  {
   "cell_type": "code",
   "execution_count": 17,
   "metadata": {},
   "outputs": [],
   "source": [
    "# Adicionamos los costos por unidad al df.\n",
    "df = fr.Match_And_Copy_Column_Values(df, df_Fraccion, 'Descripcion', 'Costo_Prov', 'Unidad', 'Costo Unidad')"
   ]
  },
  {
   "cell_type": "code",
   "execution_count": 18,
   "metadata": {},
   "outputs": [],
   "source": [
    "# Convertir Markup a float.\n",
    "df['Markup %'] = df['Markup %'].astype(float)"
   ]
  },
  {
   "cell_type": "code",
   "execution_count": 19,
   "metadata": {},
   "outputs": [],
   "source": [
    "# ------------------------------------------------------------------------------------------------\n",
    "# Casos especiales: Pulmax Perro.\n",
    "# ------------------------------------------------------------------------------------------------\n",
    "\n",
    "Pulmax = ['Pipeta Pulmax 02-05 kg.', 'Pipeta Pulmax 05-10 kg.', 'Pipeta Pulmax 10-20 kg.', \n",
    "          'Pipeta Pulmax 20-40 kg.', 'Pipeta Pulmax 40-60 kg.']\n",
    "    \n",
    "Contador = 50\n",
    "for Pipeta in Pulmax:\n",
    "    df.loc[df['Descripcion'] == Pipeta, 'Markup %'] = Contador\n",
    "    Contador = Contador + 5"
   ]
  },
  {
   "cell_type": "code",
   "execution_count": 20,
   "metadata": {},
   "outputs": [],
   "source": [
    "# ------------------------------------------------------------------------------------------------\n",
    "# Casos especiales: Pulmax Gato.\n",
    "# ------------------------------------------------------------------------------------------------\n",
    "\n",
    "Pulmax_Gato = ['Pipeta Pulmax Gato 00-04 kg.', 'Pipeta Pulmax Gato 04-08 kg.']\n",
    "\n",
    "Contador = 50 \n",
    "for Pipeta in Pulmax_Gato:\n",
    "    df.loc[df['Descripcion'] == Pipeta, 'Markup %'] = Contador\n",
    "    Contador = Contador + 5"
   ]
  },
  {
   "cell_type": "code",
   "execution_count": 21,
   "metadata": {},
   "outputs": [],
   "source": [
    "# ------------------------------------------------------------------------------------------------\n",
    "# Casos especiales: Hectopar Perro.\n",
    "# ------------------------------------------------------------------------------------------------\n",
    "\n",
    "Hectopar = ['Pipeta Hectopar 00-04 kg.', 'Pipeta Hectopar 05-10 kg.', 'Pipeta Hectopar 10-25 kg.',\n",
    "            'Pipeta Hectopar 25-40 kg.', 'Pipeta Hectopar 40-60 kg.']\n",
    "\n",
    "Contador = 50 \n",
    "for Pipeta in Hectopar:\n",
    "    df.loc[df['Descripcion'] == Pipeta, 'Markup %'] = Contador\n",
    "    Contador = Contador + 5"
   ]
  },
  {
   "cell_type": "code",
   "execution_count": 22,
   "metadata": {},
   "outputs": [],
   "source": [
    "# ------------------------------------------------------------------------------------------------\n",
    "# Casos especiales: Hectopar Gato.\n",
    "# ------------------------------------------------------------------------------------------------\n",
    "\n",
    "# Hectopar Gato.\n",
    "Hectopar_Gato = ['Pipeta Hectopar Gato 00-04 kg.', 'Pipeta Hectopar Gato 05-08 kg.']\n",
    "\n",
    "Contador = 50 \n",
    "for Pipeta in Hectopar_Gato:\n",
    "    df.loc[df['Descripcion'] == Pipeta, 'Markup %'] = Contador\n",
    "    Contador = Contador + 5"
   ]
  },
  {
   "cell_type": "code",
   "execution_count": 23,
   "metadata": {},
   "outputs": [],
   "source": [
    "# Columna Precio Proveedores.\n",
    "\n",
    "df['Precio_Prov'] = df['Costo_Prov']* (1 + (df['Markup %']/100))"
   ]
  },
  {
   "cell_type": "code",
   "execution_count": 24,
   "metadata": {},
   "outputs": [],
   "source": [
    "# Llenamos df de 0 si hay NaN.\n",
    "df = df.fillna(0)"
   ]
  },
  {
   "cell_type": "code",
   "execution_count": 25,
   "metadata": {},
   "outputs": [],
   "source": [
    "# Columna de Relaciones.\n",
    "\n",
    "df['Precio_Dif'] = df['Precio_Prov'] / df['Precio_Nex']\n",
    "df['Costo_Dif'] = df['Costo_Prov'] / df['Costo_Nex']"
   ]
  },
  {
   "cell_type": "code",
   "execution_count": 26,
   "metadata": {},
   "outputs": [],
   "source": [
    "# Columna Costo Final.\n",
    "df['Costo_Fin'] = df.apply(lambda row: max(row['Costo_Nex'], row['Costo_Prov']), axis=1)"
   ]
  },
  {
   "cell_type": "code",
   "execution_count": 27,
   "metadata": {},
   "outputs": [],
   "source": [
    "# Columna Precio Final.\n",
    "df['Precio_Fin'] = df.apply(lambda row: max(row['Precio_Nex'], row['Precio_Prov']), axis=1)"
   ]
  },
  {
   "cell_type": "code",
   "execution_count": 28,
   "metadata": {},
   "outputs": [],
   "source": [
    "# Redondeo de Precio Final.\n",
    "df['Precio_Fin'] = df['Precio_Fin'].apply(lambda x: math.ceil(x / 50) * 50)"
   ]
  },
  {
   "cell_type": "code",
   "execution_count": 29,
   "metadata": {},
   "outputs": [],
   "source": [
    "# Columna Markup Final.\n",
    "df['Markup_Fin'] = (df['Precio_Fin']/df['Costo_Fin']) - 1"
   ]
  },
  {
   "cell_type": "code",
   "execution_count": 30,
   "metadata": {},
   "outputs": [],
   "source": [
    "# Columna Markup.\n",
    "df['Markup %'] = df['Markup %']/100"
   ]
  },
  {
   "cell_type": "code",
   "execution_count": 31,
   "metadata": {},
   "outputs": [],
   "source": [
    "# Lista de productos con ofertas.\n",
    "Productos_Ofertas = list(Ofertas.keys())"
   ]
  },
  {
   "cell_type": "code",
   "execution_count": null,
   "metadata": {},
   "outputs": [],
   "source": [
    "# Arreglamos precios de ofertas.\n",
    "for Producto in Productos_Ofertas:\n",
    "    df.loc[df['Descripcion'] == Producto, 'Precio_Fin'] = Ofertas[Producto]"
   ]
  },
  {
   "cell_type": "code",
   "execution_count": 33,
   "metadata": {},
   "outputs": [],
   "source": [
    "# Ordenar columnas.\n",
    "Orden = ['Descripcion', 'Precio_Fin', 'Costo_Fin', 'Markup_Fin',\n",
    "         'Costo_Nex', 'Costo_Prov', 'Precio_Nex', 'Precio_Prov', \n",
    "         'Precio_Dif','Costo_Dif', \n",
    "         'Markup %', 'Proveedor', 'Categoria']"
   ]
  },
  {
   "cell_type": "code",
   "execution_count": 34,
   "metadata": {},
   "outputs": [],
   "source": [
    "# Reasigna el DataFrame con el nuevo orden de columnas\n",
    "df = df[Orden]"
   ]
  },
  {
   "cell_type": "code",
   "execution_count": 35,
   "metadata": {},
   "outputs": [],
   "source": [
    "# Creamos un nuevo DataFrame con los precios a aumentar.\n",
    "df_Aumentos = df[Orden]"
   ]
  },
  {
   "cell_type": "code",
   "execution_count": 36,
   "metadata": {},
   "outputs": [],
   "source": [
    "# Filtramos los productos en los que el Precio_Prov es mayor al Precio_Nex.\n",
    "df_Aumentos = df_Aumentos[df_Aumentos['Precio_Prov'] > df_Aumentos['Precio_Nex']]"
   ]
  },
  {
   "cell_type": "code",
   "execution_count": 37,
   "metadata": {},
   "outputs": [],
   "source": [
    "# Reiniciar index.\n",
    "df_Aumentos.reset_index(drop=True, inplace=True)"
   ]
  },
  {
   "cell_type": "code",
   "execution_count": 38,
   "metadata": {},
   "outputs": [],
   "source": [
    "# Cantidad de productos a aumentar.\n",
    "Cantidad_Productos_A_Aumentar = len(df_Aumentos)"
   ]
  },
  {
   "cell_type": "code",
   "execution_count": 39,
   "metadata": {},
   "outputs": [],
   "source": [
    "# Aumentos.\n",
    "#fg.Aumentar_Nex(df_Aumentos, Cantidad_Productos_A_Aumentar)"
   ]
  },
  {
   "cell_type": "code",
   "execution_count": 43,
   "metadata": {},
   "outputs": [],
   "source": [
    "# Volvemos a cargar el archivo de proveedores.\n",
    "Proveedores = 'J:/My Drive/Forraje/Proveedores.xlsx'\n",
    "\n",
    "# Crear el DataFrame utilizando esas columnas\n",
    "df_Proveedores = pd.read_excel(Proveedores, sheet_name='Centro')"
   ]
  },
  {
   "cell_type": "code",
   "execution_count": 44,
   "metadata": {},
   "outputs": [],
   "source": [
    "# Lista de proveedores.\n",
    "Lista_Proveedores = ['Benavídez', 'Gallo', 'Anea', 'Pilar', 'Tortuguitas', 'Del Viso',\n",
    "                     'Chica Glade', 'San Martín', 'Hipocampus', 'Mundo Mascotas', 'Yaguar',\n",
    "                     'King Clor', 'Diserquim', 'Moreno', 'Roberto', 'Viejo Gets', 'Viejo Cuero', 'Mis Nietos', \n",
    "                     'Profesional Vet', 'Premier', 'Dacam']"
   ]
  },
  {
   "cell_type": "code",
   "execution_count": 45,
   "metadata": {},
   "outputs": [],
   "source": [
    "# Encuentra el mínimo excluyendo los valores de cero.\n",
    "Primer_Minimo = df_Proveedores[Lista_Proveedores].replace(0, np.nan).min(axis=1, skipna=True)"
   ]
  },
  {
   "cell_type": "code",
   "execution_count": 46,
   "metadata": {},
   "outputs": [],
   "source": [
    "# Encuentra el segundo mínimo excluyendo los valores de cero\n",
    "Segundo_Minimo = df_Proveedores[Lista_Proveedores].apply(lambda row: sorted(filter(lambda x: x != 0, row))[:2][1] if len([x for x in row if x != 0]) >= 2 else 0, axis=1)"
   ]
  },
  {
   "cell_type": "code",
   "execution_count": 47,
   "metadata": {},
   "outputs": [],
   "source": [
    "# Encuentra el segundo mínimo excluyendo los valores de cero\n",
    "Tercer_Minimo = df_Proveedores[Lista_Proveedores].apply(lambda row: sorted(filter(lambda x: x != 0, row))[:3][2] if len([x for x in row if x != 0]) >= 3 else 0, axis=1)\n"
   ]
  },
  {
   "cell_type": "code",
   "execution_count": 48,
   "metadata": {},
   "outputs": [],
   "source": [
    "# Actualiza la columna 'Precios 1, 2 y 3' con los mínimos calculados.\n",
    "df_Proveedores['Precio 1'] = Primer_Minimo\n",
    "df_Proveedores['Precio 2'] = Segundo_Minimo\n",
    "df_Proveedores['Precio 3'] = Tercer_Minimo"
   ]
  },
  {
   "cell_type": "code",
   "execution_count": 49,
   "metadata": {},
   "outputs": [],
   "source": [
    "# Columnas de diferencias.\n",
    "df_Proveedores['Diferencia (2°)'] = df_Proveedores['Precio 2'] - df_Proveedores['Precio 1']\n",
    "df_Proveedores['Diferencia (3°)'] = df_Proveedores['Precio 3'] - df_Proveedores['Precio 1']\n"
   ]
  },
  {
   "cell_type": "code",
   "execution_count": 50,
   "metadata": {},
   "outputs": [],
   "source": [
    "# Reemplazar NaN con 0\n",
    "df_Proveedores['Precio 1'] = df_Proveedores['Precio 1'].fillna(0)\n",
    "df_Proveedores['Precio 2'] = df_Proveedores['Precio 2'].fillna(0)\n",
    "df_Proveedores['Precio 3'] = df_Proveedores['Precio 3'].fillna(0)\n",
    "df_Proveedores['Diferencia (2°)'] = df_Proveedores['Diferencia (2°)'].fillna(0)\n",
    "df_Proveedores['Diferencia (3°)'] = df_Proveedores['Diferencia (3°)'].fillna(0)"
   ]
  },
  {
   "cell_type": "code",
   "execution_count": 51,
   "metadata": {},
   "outputs": [
    {
     "name": "stderr",
     "output_type": "stream",
     "text": [
      "C:\\Users\\tomas\\AppData\\Local\\Temp\\ipykernel_26744\\3197066779.py:2: FutureWarning: Setting an item of incompatible dtype is deprecated and will raise an error in a future version of pandas. Value '-' has dtype incompatible with float64, please explicitly cast to a compatible dtype first.\n",
      "  df_Proveedores.loc[df_Proveedores['Diferencia (2°)'] < 0, 'Diferencia (2°)'] = '-'\n",
      "C:\\Users\\tomas\\AppData\\Local\\Temp\\ipykernel_26744\\3197066779.py:3: FutureWarning: Setting an item of incompatible dtype is deprecated and will raise an error in a future version of pandas. Value '-' has dtype incompatible with float64, please explicitly cast to a compatible dtype first.\n",
      "  df_Proveedores.loc[df_Proveedores['Diferencia (3°)'] < 0, 'Diferencia (3°)'] = '-'\n"
     ]
    }
   ],
   "source": [
    "# Reemplazar valores negativos por 0.\n",
    "df_Proveedores.loc[df_Proveedores['Diferencia (2°)'] < 0, 'Diferencia (2°)'] = '-'\n",
    "df_Proveedores.loc[df_Proveedores['Diferencia (3°)'] < 0, 'Diferencia (3°)'] = '-'"
   ]
  },
  {
   "cell_type": "code",
   "execution_count": 52,
   "metadata": {},
   "outputs": [],
   "source": [
    "# Iteramos sobre cada fila del DataFrame.\n",
    "for Indice, Fila in df_Proveedores.iterrows():\n",
    "    # Iteramos sobre cada columna de Lista_Proveedores.\n",
    "    for Columna in Lista_Proveedores:\n",
    "        # Comparamos el valor de \"Precio\" con el valor en la columna actual.\n",
    "        if Fila[\"Precio 1\"] == 0:\n",
    "            df_Proveedores.at[Indice, \"Proveedor 1\"] = \"-\"\n",
    "        elif Fila[\"Precio 1\"] == Fila[Columna]:\n",
    "            # Si coinciden, actualizamos la columna \"Proveedores\" con el nombre de la columna actual.\n",
    "            df_Proveedores.at[Indice, \"Proveedor 1\"] = Columna\n",
    "            # Salimos del bucle interno.\n",
    "            break\n"
   ]
  },
  {
   "cell_type": "code",
   "execution_count": 53,
   "metadata": {},
   "outputs": [],
   "source": [
    "# Iteramos sobre cada fila del DataFrame.\n",
    "for Indice, Fila in df_Proveedores.iterrows():\n",
    "    # Iteramos sobre cada Columna de Lista_Proveedores.\n",
    "    for Columna in Lista_Proveedores:\n",
    "        # Comparamos el valor de \"Precio\" con el valor en la columna actual.\n",
    "        if Fila[\"Precio 2\"] == 0:\n",
    "            df_Proveedores.at[Indice, \"Proveedor 2\"] = \"-\"\n",
    "        elif Fila[\"Precio 2\"] == Fila[Columna]:\n",
    "            # Si coinciden, actualizamos la Columna \"Proveedores\" con el nombre de la columna actual.\n",
    "            df_Proveedores.at[Indice, \"Proveedor 2\"] = Columna\n",
    "            # Salimos del bucle interno.\n",
    "            break"
   ]
  },
  {
   "cell_type": "code",
   "execution_count": 54,
   "metadata": {},
   "outputs": [],
   "source": [
    "# Iteramos sobre cada fila del DataFrame.\n",
    "for Indice, Fila in df_Proveedores.iterrows():\n",
    "    # Iteramos sobre cada Columna de Lista_Proveedores.\n",
    "    for Columna in Lista_Proveedores:\n",
    "        # Comparamos el valor de \"Precio\" con el valor en la columna actual.\n",
    "        if Fila[\"Precio 3\"] == 0:\n",
    "            df_Proveedores.at[Indice, \"Proveedor 3\"] = \"-\"\n",
    "        elif Fila[\"Precio 3\"] == Fila[Columna]:\n",
    "            # Si coinciden, actualizamos la columna \"Proveedores\" con el nombre de la columna actual.\n",
    "            df_Proveedores.at[Indice, \"Proveedor 3\"] = Columna\n",
    "            # Salimos del bucle interno\n",
    "            break"
   ]
  },
  {
   "cell_type": "code",
   "execution_count": 55,
   "metadata": {},
   "outputs": [],
   "source": [
    "df_Proveedores['Precio 1'] = df_Proveedores['Precio 1'].replace(0, '-')\n",
    "df_Proveedores['Precio 2'] = df_Proveedores['Precio 2'].replace(0, '-')\n",
    "df_Proveedores['Precio 3'] = df_Proveedores['Precio 3'].replace(0, '-')\n",
    "df_Proveedores['Diferencia (2°)'] = df_Proveedores['Diferencia (2°)'].replace(0, '-')\n",
    "df_Proveedores['Diferencia (3°)'] = df_Proveedores['Diferencia (3°)'].replace(0, '-')"
   ]
  },
  {
   "cell_type": "code",
   "execution_count": 56,
   "metadata": {},
   "outputs": [],
   "source": [
    "# Se importa Database.\n",
    "\n",
    "Database = 'J:/My Drive/Forraje/Marcas y subcategorías.xlsx'\n",
    "\n",
    "# Crear el DataFrame utilizando esas columnas\n",
    "df_Marcas = pd.read_excel(Database)"
   ]
  },
  {
   "cell_type": "code",
   "execution_count": 57,
   "metadata": {},
   "outputs": [],
   "source": [
    "# Ordenar según la columna 'Descripcion' en orden ascendente.\n",
    "df_Marcas = df_Marcas.sort_values(by='Descripcion')"
   ]
  },
  {
   "cell_type": "code",
   "execution_count": 58,
   "metadata": {},
   "outputs": [],
   "source": [
    "# Resetear index del df.\n",
    "df_Marcas = df_Marcas.reset_index(drop=True)"
   ]
  },
  {
   "cell_type": "code",
   "execution_count": 59,
   "metadata": {},
   "outputs": [
    {
     "name": "stdout",
     "output_type": "stream",
     "text": [
      "2051\n",
      "2051\n"
     ]
    }
   ],
   "source": [
    "# Importar datos de marcas y subcategorias.\n",
    "\n",
    "print(len(df_Marcas))\n",
    "print(len(df_Proveedores))\n",
    "\n",
    "if len(df_Marcas) == len(df_Proveedores):\n",
    "    df_Proveedores['Marca'] = df_Marcas['Marca']\n",
    "    df_Proveedores['Subcategoria'] = df_Marcas['Subcategoria']"
   ]
  },
  {
   "cell_type": "code",
   "execution_count": 60,
   "metadata": {},
   "outputs": [],
   "source": [
    "# Nombres de las columnas en orden.\n",
    "Orden = ['Codigo', 'Descripcion', 'Categoria', 'Subcategoria', 'Marca',\n",
    "         'Proveedor 1', 'Precio 1', \n",
    "         'Proveedor 2', 'Precio 2', 'Diferencia (2°)',\n",
    "         'Proveedor 3', 'Precio 3', 'Diferencia (3°)']\n",
    "\n",
    "# Ordena el DataFrame\n",
    "df_Proveedores = df_Proveedores[Orden]"
   ]
  },
  {
   "cell_type": "code",
   "execution_count": 61,
   "metadata": {},
   "outputs": [],
   "source": [
    "# Guardar el DataFrame en un archivo.\n",
    "Ruta_1 = f\"J:/My Drive/Forraje/Baratos.xlsx\"\n",
    "df_Proveedores.to_excel(Ruta_1, index=False)"
   ]
  }
 ],
 "metadata": {
  "kernelspec": {
   "display_name": "Python 3",
   "language": "python",
   "name": "python3"
  },
  "language_info": {
   "codemirror_mode": {
    "name": "ipython",
    "version": 3
   },
   "file_extension": ".py",
   "mimetype": "text/x-python",
   "name": "python",
   "nbconvert_exporter": "python",
   "pygments_lexer": "ipython3",
   "version": "3.11.9"
  }
 },
 "nbformat": 4,
 "nbformat_minor": 2
}
