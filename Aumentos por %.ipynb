{
 "cells": [
  {
   "cell_type": "code",
   "execution_count": 2,
   "id": "ba5b4abc",
   "metadata": {},
   "outputs": [],
   "source": [
    "import pandas as pd\n",
    "\n",
    "import sys\n",
    "sys.path.append('c:/Users/tomas/Documents/Programación/Github/Patricionog/Modulio')\n",
    "\n",
    "import Foragio as fg\n",
    "import Excelio as ex\n",
    "import Framio as fr\n",
    "import Stringio as st\n",
    "import Listio as ls\n",
    "import Graphio as gr\n",
    "import Numbio as nm\n",
    "\n",
    "# Imprimir el docstring.\n",
    "# print(Function.__doc__)"
   ]
  },
  {
   "cell_type": "code",
   "execution_count": 3,
   "id": "d9b355c2",
   "metadata": {},
   "outputs": [],
   "source": [
    "# Diccionario de lenguaje-nombre carpeta de Google Drive.\n",
    "Drive_Names_By_Language = {'Español': 'Mi unidad',\n",
    "               'Inglés': 'My Drive'}"
   ]
  },
  {
   "cell_type": "code",
   "execution_count": 4,
   "id": "508ef7d9",
   "metadata": {},
   "outputs": [],
   "source": [
    "# El lenguaje de Windows en la PC.\n",
    "PC_Language = 'Inglés'"
   ]
  },
  {
   "cell_type": "markdown",
   "id": "dc59be72",
   "metadata": {},
   "source": [
    "### __Aumentos porcentuales__\n",
    "***"
   ]
  },
  {
   "cell_type": "code",
   "execution_count": 5,
   "id": "7d213860",
   "metadata": {},
   "outputs": [],
   "source": [
    "Aumentos = {'9 Lives' : 20}"
   ]
  },
  {
   "cell_type": "markdown",
   "id": "f0222c20",
   "metadata": {},
   "source": [
    "### __Database de marcas y subcategorías__\n",
    "***"
   ]
  },
  {
   "cell_type": "code",
   "execution_count": 6,
   "id": "7efde4e5",
   "metadata": {},
   "outputs": [],
   "source": [
    "# Pathway del archivo Marcas y subcategorías.\n",
    "Path_Marcas = f'J:/{Drive_Names_By_Language[PC_Language]}/Forraje/Marcas y subcategorías.xlsx'"
   ]
  },
  {
   "cell_type": "code",
   "execution_count": 7,
   "id": "837bd6db",
   "metadata": {},
   "outputs": [],
   "source": [
    "# Crear un DataFrame del archivo Marcas y subcategorías.\n",
    "df_Marcas = pd.read_excel(Path_Marcas)"
   ]
  },
  {
   "cell_type": "code",
   "execution_count": 8,
   "id": "8e26be30",
   "metadata": {},
   "outputs": [],
   "source": [
    "# Procesamos el DataFrame para evitar errores.\n",
    "df_Marcas = fr.Process_DataFrame(df_Marcas, Fill_NaN=0)"
   ]
  },
  {
   "cell_type": "code",
   "execution_count": 9,
   "id": "d8068b9e",
   "metadata": {},
   "outputs": [],
   "source": [
    "# Agregamos la columna del Markup.\n",
    "df_Marcas['Markup'] = df_Marcas['Categoria'].map(lambda x: fg.Markup_And_Unity[x]['Markup %'])"
   ]
  },
  {
   "cell_type": "code",
   "execution_count": 10,
   "id": "f3bc2f36",
   "metadata": {},
   "outputs": [
    {
     "data": {
      "text/plain": [
       "Index(['Descripcion', 'Subcategoria', 'Marca', 'Categoria', 'Unidad',\n",
       "       'Markup'],\n",
       "      dtype='object')"
      ]
     },
     "execution_count": 10,
     "metadata": {},
     "output_type": "execute_result"
    }
   ],
   "source": [
    "# Chequeamos los nombres de las columnas.\n",
    "df_Marcas.columns"
   ]
  },
  {
   "cell_type": "markdown",
   "id": "5d8a8253",
   "metadata": {},
   "source": [
    "### __Database de Nextar__\n",
    "***"
   ]
  },
  {
   "cell_type": "code",
   "execution_count": 11,
   "id": "c9a296a3",
   "metadata": {},
   "outputs": [],
   "source": [
    "# Pathway del archivo Exportar.\n",
    "Path_Nex = f'J:/{Drive_Names_By_Language[PC_Language]}/Forraje/Exportar.xls'"
   ]
  },
  {
   "cell_type": "code",
   "execution_count": 12,
   "id": "b26e18a9",
   "metadata": {},
   "outputs": [],
   "source": [
    "# Crear un DataFrame del archivo Exportar.\n",
    "df_Nex = pd.read_excel(Path_Nex)"
   ]
  },
  {
   "cell_type": "code",
   "execution_count": 13,
   "id": "d98c42f8",
   "metadata": {},
   "outputs": [],
   "source": [
    "# Mantenemos algunas columnas.\n",
    "df_Nex_Columnas = ['Descripción', 'Costo Unitário']"
   ]
  },
  {
   "cell_type": "code",
   "execution_count": 14,
   "id": "5a695bab",
   "metadata": {},
   "outputs": [],
   "source": [
    "# Procesamos df de Nex para evitar errores.\n",
    "df_Nex = fr.Process_DataFrame(df_Nex, Columns= df_Nex_Columnas, Remove_Accents_In_Name_Columns=True, \n",
    "                              Fill_NaN=0, Replace_In_Name_Columns = [['Costo Unitario'],['Costo']])"
   ]
  },
  {
   "cell_type": "code",
   "execution_count": 15,
   "id": "db37de16",
   "metadata": {},
   "outputs": [
    {
     "data": {
      "text/plain": [
       "Index(['Descripcion', 'Costo'], dtype='object')"
      ]
     },
     "execution_count": 15,
     "metadata": {},
     "output_type": "execute_result"
    }
   ],
   "source": [
    "# Chequeamos los nombres de las columnas.\n",
    "df_Nex.columns"
   ]
  },
  {
   "cell_type": "markdown",
   "id": "b1e6bc62",
   "metadata": {},
   "source": [
    "### __Database agrupado__\n",
    "***"
   ]
  },
  {
   "cell_type": "code",
   "execution_count": 16,
   "id": "c569ec8c",
   "metadata": {},
   "outputs": [],
   "source": [
    "# Creamos otro basándonos en el de Nex.\n",
    "df = df_Marcas.copy()"
   ]
  },
  {
   "cell_type": "code",
   "execution_count": 17,
   "id": "db4de2b5",
   "metadata": {},
   "outputs": [
    {
     "name": "stdout",
     "output_type": "stream",
     "text": [
      "Todo marcha bien, muchacho.\n"
     ]
    }
   ],
   "source": [
    "# Comprobamos que las filas de los dos dfs no difieren.\n",
    "df_Differences = fr.Compare_Columns(df_Marcas, 'Descripcion', df_Nex, 'Descripcion',\n",
    "                   'Marcas', 'Nex')\n",
    "\n",
    "if len(df_Differences) == 0:\n",
    "    print(\"Todo marcha bien, muchacho.\")\n",
    "else:\n",
    "    print(df_Differences)"
   ]
  },
  {
   "cell_type": "code",
   "execution_count": 18,
   "id": "f5a16786",
   "metadata": {},
   "outputs": [],
   "source": [
    "# Agregar columna de Costos.\n",
    "df['Costo'] = df_Nex['Costo'].astype(int)"
   ]
  },
  {
   "cell_type": "code",
   "execution_count": 19,
   "id": "15e0232b",
   "metadata": {},
   "outputs": [],
   "source": [
    "# Convertir Markup a formato int.\n",
    "df['Markup'] = df['Markup'].astype(int)"
   ]
  },
  {
   "cell_type": "code",
   "execution_count": 20,
   "id": "009a9444",
   "metadata": {},
   "outputs": [
    {
     "data": {
      "text/plain": [
       "Index(['Descripcion', 'Subcategoria', 'Marca', 'Categoria', 'Unidad', 'Markup',\n",
       "       'Costo', 'Precio'],\n",
       "      dtype='object')"
      ]
     },
     "execution_count": 20,
     "metadata": {},
     "output_type": "execute_result"
    }
   ],
   "source": [
    "# Agregar columna de Precio.\n",
    "df['Precio'] = df['Costo'] * (1 + (df['Markup']/100))\n",
    "\n",
    "df.columns"
   ]
  },
  {
   "cell_type": "code",
   "execution_count": 21,
   "id": "8cd68239",
   "metadata": {},
   "outputs": [],
   "source": [
    "for Marca, Aumento_Porcentual in Aumentos.items():\n",
    "    df = fr.Apply_Operations_To_Selected_Rows(\n",
    "        df, \n",
    "        Filtered_Column = 'Marca', \n",
    "        Filter_Value = Marca, \n",
    "        Condition = 'Match', \n",
    "        Columns_To_Operate = ['Precio'],\n",
    "        Operations = [lambda x: x * (1 + (Aumento_Porcentual/100))])"
   ]
  },
  {
   "cell_type": "code",
   "execution_count": 22,
   "id": "e11e1021",
   "metadata": {},
   "outputs": [],
   "source": [
    "# Redondear columna de Precio.\n",
    "df['Precio'] = df['Precio'].apply(lambda x: nm.Round_By_Multiple(x, 100, Rounding_Direction='Upper'))"
   ]
  },
  {
   "cell_type": "markdown",
   "id": "ca885ec9",
   "metadata": {},
   "source": [
    "### __Database con aumentos__\n",
    "***"
   ]
  },
  {
   "cell_type": "code",
   "execution_count": 23,
   "id": "06301bc0",
   "metadata": {},
   "outputs": [],
   "source": [
    "# Filtrar df solo con las filas aumentadas.\n",
    "df_Aumentos = df[df['Marca'].isin(Aumentos.keys())]"
   ]
  },
  {
   "cell_type": "code",
   "execution_count": 24,
   "id": "cb53b413",
   "metadata": {},
   "outputs": [
    {
     "data": {
      "text/html": [
       "<div>\n",
       "<style scoped>\n",
       "    .dataframe tbody tr th:only-of-type {\n",
       "        vertical-align: middle;\n",
       "    }\n",
       "\n",
       "    .dataframe tbody tr th {\n",
       "        vertical-align: top;\n",
       "    }\n",
       "\n",
       "    .dataframe thead th {\n",
       "        text-align: right;\n",
       "    }\n",
       "</style>\n",
       "<table border=\"1\" class=\"dataframe\">\n",
       "  <thead>\n",
       "    <tr style=\"text-align: right;\">\n",
       "      <th></th>\n",
       "      <th>Descripcion</th>\n",
       "      <th>Subcategoria</th>\n",
       "      <th>Marca</th>\n",
       "      <th>Categoria</th>\n",
       "      <th>Unidad</th>\n",
       "      <th>Markup</th>\n",
       "      <th>Costo</th>\n",
       "      <th>Precio</th>\n",
       "    </tr>\n",
       "  </thead>\n",
       "  <tbody>\n",
       "    <tr>\n",
       "      <th>0</th>\n",
       "      <td>9 Lives Gatitos</td>\n",
       "      <td>Grupo Pilar</td>\n",
       "      <td>9 Lives</td>\n",
       "      <td>Gato Granel</td>\n",
       "      <td>KG</td>\n",
       "      <td>48</td>\n",
       "      <td>2310</td>\n",
       "      <td>4100</td>\n",
       "    </tr>\n",
       "    <tr>\n",
       "      <th>1</th>\n",
       "      <td>9 Lives Gatitos x 8 kg.</td>\n",
       "      <td>Grupo Pilar</td>\n",
       "      <td>9 Lives</td>\n",
       "      <td>Gato</td>\n",
       "      <td>UN</td>\n",
       "      <td>32</td>\n",
       "      <td>18510</td>\n",
       "      <td>29400</td>\n",
       "    </tr>\n",
       "    <tr>\n",
       "      <th>2</th>\n",
       "      <td>9 Lives Pescado</td>\n",
       "      <td>Grupo Pilar</td>\n",
       "      <td>9 Lives</td>\n",
       "      <td>Gato Granel</td>\n",
       "      <td>KG</td>\n",
       "      <td>48</td>\n",
       "      <td>2000</td>\n",
       "      <td>3700</td>\n",
       "    </tr>\n",
       "    <tr>\n",
       "      <th>3</th>\n",
       "      <td>9 Lives Pescado x 15 kg.</td>\n",
       "      <td>Grupo Pilar</td>\n",
       "      <td>9 Lives</td>\n",
       "      <td>Gato</td>\n",
       "      <td>UN</td>\n",
       "      <td>32</td>\n",
       "      <td>29970</td>\n",
       "      <td>47500</td>\n",
       "    </tr>\n",
       "  </tbody>\n",
       "</table>\n",
       "</div>"
      ],
      "text/plain": [
       "                Descripcion Subcategoria    Marca    Categoria Unidad  Markup  \\\n",
       "0           9 Lives Gatitos  Grupo Pilar  9 Lives  Gato Granel     KG      48   \n",
       "1   9 Lives Gatitos x 8 kg.  Grupo Pilar  9 Lives         Gato     UN      32   \n",
       "2           9 Lives Pescado  Grupo Pilar  9 Lives  Gato Granel     KG      48   \n",
       "3  9 Lives Pescado x 15 kg.  Grupo Pilar  9 Lives         Gato     UN      32   \n",
       "\n",
       "   Costo  Precio  \n",
       "0   2310    4100  \n",
       "1  18510   29400  \n",
       "2   2000    3700  \n",
       "3  29970   47500  "
      ]
     },
     "execution_count": 24,
     "metadata": {},
     "output_type": "execute_result"
    }
   ],
   "source": [
    "df_Aumentos"
   ]
  },
  {
   "cell_type": "code",
   "execution_count": 29,
   "id": "7fb2d9ef",
   "metadata": {},
   "outputs": [
    {
     "ename": "",
     "evalue": "",
     "output_type": "error",
     "traceback": [
      "\u001b[1;31mEl kernel se bloqueó al ejecutar código en la celda actual o en una celda anterior. \n",
      "\u001b[1;31mRevise el código de las celdas para identificar una posible causa del error. \n",
      "\u001b[1;31mHaga clic <a href='https://aka.ms/vscodeJupyterKernelCrash'>aquí</a> para obtener más información. \n",
      "\u001b[1;31mVea Jupyter <a href='command:jupyter.viewOutput'>log</a> para obtener más detalles."
     ]
    }
   ],
   "source": [
    "import pyautogui\n",
    "import pyperclip\n",
    "import time\n",
    "import keyboard\n",
    "import subprocess\n",
    "\n",
    "def Abort_Program():\n",
    "\n",
    "    print(\"Se presionó la tecla de aborto. El programa está haciendo cagadas.\")\n",
    "    exit()\n",
    "\n",
    "# Configura la tecla de aborto.\n",
    "keyboard.add_hotkey('ctrl+shift+a', Abort_Program)\n",
    "\n",
    "def Open_Window(Window_Title, Time_Sleep = 0):\n",
    "\n",
    "    time.sleep(Time_Sleep) \n",
    "    Windows = pyautogui.getWindowsWithTitle(Window_Title)\n",
    "\n",
    "    if Windows:\n",
    "        Windows[0].activate()\n",
    "        time.sleep(Time_Sleep) \n",
    "\n",
    "        # Hacer clic en el centro de la ventana.\n",
    "        pyautogui.click(Windows[0].left + Windows[0].width // 2, Windows[0].top + Windows[0].height // 2)\n",
    "        time.sleep(Time_Sleep) \n",
    "    else:\n",
    "        print(f\"Window '{Window_Title}' not found.\")\n",
    "        return\n",
    "\n",
    "def Open_Program(Program_Path, Time_Sleep = 5):\n",
    "    subprocess.Popen(Program_Path)\n",
    "    time.sleep(Time_Sleep)\n",
    "\n",
    "def Transcribir_Aumentos(df_Aumentos, \n",
    "                         Product_Column, \n",
    "                         Cost_Column,\n",
    "                         Price_Column,\n",
    "                         Time_Sleep = 0.5):\n",
    "\n",
    "    \n",
    "    # Abre el programa de NexAdmin.\n",
    "    Program_Path = \"C:/Nex/NexAdmin.exe\"  \n",
    "    Open_Program(Program_Path)\n",
    "\n",
    "    # Abrir pestaña de Nex.\n",
    "    Open_Window(\"NexAdmin\", Time_Sleep)\n",
    "\n",
    "    for Index, Product in enumerate(df[Product_Column]):\n",
    "\n",
    "        # Copiar descripción al portapapeles.\n",
    "        pyperclip.copy(Product)\n",
    "\n",
    "        # Hacer clic en una posición de Nex para activar la pantalla.\n",
    "        pyautogui.click(x=577, y=371)\n",
    "        time.sleep(Time_Sleep)\n",
    "\n",
    "        # Navegar por opciones hasta casilla Producto.\n",
    "        pyautogui.press('tab', presses=4)\n",
    "        time.sleep(Time_Sleep)\n",
    "\n",
    "        # Pegar Producto.\n",
    "        pyautogui.hotkey('ctrl', 'v')\n",
    "        time.sleep(Time_Sleep*3)\n",
    "        pyautogui.click(x=486, y=314)\n",
    "        time.sleep(Time_Sleep)\n",
    "        pyautogui.press('enter')\n",
    "        time.sleep(Time_Sleep)\n",
    "\n",
    "        # Copiar Precio.\n",
    "        pyperclip.copy(df.loc[Index, Price_Column])\n",
    "\n",
    "        # Navegar por opciones hasta casilla de Precio.\n",
    "        pyautogui.press('tab', presses=8)\n",
    "        time.sleep(Time_Sleep)\n",
    "        pyautogui.press('space')\n",
    "        time.sleep(Time_Sleep)\n",
    "\n",
    "        # Borrar el contenido anterior de Precio.\n",
    "        pyautogui.press('del')\n",
    "        time.sleep(Time_Sleep)\n",
    "\n",
    "        # Escribir el Precio actualizado.\n",
    "        pyautogui.hotkey('ctrl', 'v')\n",
    "        time.sleep(Time_Sleep)\n",
    "\n",
    "        # Copiar Costo.\n",
    "        pyperclip.copy(df.loc[Index, Cost_Column])\n",
    "\n",
    "        # Navegar por opciones hasta casilla de Costo.\n",
    "        pyautogui.press('tab', presses=3)\n",
    "        time.sleep(Time_Sleep)\n",
    "\n",
    "        # Borrar el contenido anterior de Costo.\n",
    "        pyautogui.press('del')\n",
    "        time.sleep(Time_Sleep)\n",
    "\n",
    "        # Escribir el Costo actualizado.\n",
    "        pyautogui.hotkey('ctrl', 'v')\n",
    "        time.sleep(Time_Sleep)\n",
    "\n",
    "        # Presionar F2 y la flecha hacia abajo\n",
    "        pyautogui.press('f2')\n",
    "        time.sleep(Time_Sleep)\n",
    "        pyautogui.press('space')\n",
    "        time.sleep(Time_Sleep)\n",
    "        pyautogui.click(x=486, y=314)\n",
    "        time.sleep(Time_Sleep)\n",
    "\n",
    "Transcribir_Aumentos(df_Aumentos, 'Descripcion', 'Costo', 'Precio')\n",
    "                                 "
   ]
  },
  {
   "cell_type": "code",
   "execution_count": 55,
   "id": "abd8fc4a",
   "metadata": {},
   "outputs": [
    {
     "name": "stderr",
     "output_type": "stream",
     "text": [
      "C:\\Users\\tomas\\AppData\\Local\\Packages\\PythonSoftwareFoundation.Python.3.11_qbz5n2kfra8p0\\LocalCache\\local-packages\\Python311\\site-packages\\pywinauto\\application.py:1085: UserWarning: 32-bit application should be automated using 32-bit Python (you use 64-bit Python)\n",
      "  warnings.warn(\n"
     ]
    }
   ],
   "source": [
    "from pywinauto import Application\n",
    "\n",
    "# Conectar a la aplicación Nex.\n",
    "App = Application(backend=\"win32\").connect(process=11140)"
   ]
  },
  {
   "cell_type": "code",
   "execution_count": null,
   "id": "112ce57e",
   "metadata": {},
   "outputs": [],
   "source": []
  },
  {
   "cell_type": "code",
   "execution_count": 48,
   "id": "1c5eedba",
   "metadata": {},
   "outputs": [
    {
     "ename": "TimeoutError",
     "evalue": "timed out",
     "output_type": "error",
     "traceback": [
      "\u001b[1;31m---------------------------------------------------------------------------\u001b[0m",
      "\u001b[1;31mTimeoutError\u001b[0m                              Traceback (most recent call last)",
      "Cell \u001b[1;32mIn[48], line 3\u001b[0m\n\u001b[0;32m      1\u001b[0m \u001b[38;5;66;03m# Acceder al primer panel (ajusta el título o la clase según sea necesario)\u001b[39;00m\n\u001b[0;32m      2\u001b[0m panel_1 \u001b[38;5;241m=\u001b[39m Window\u001b[38;5;241m.\u001b[39mchild_window(class_name\u001b[38;5;241m=\u001b[39m\u001b[38;5;124m\"\u001b[39m\u001b[38;5;124mTPanel\u001b[39m\u001b[38;5;124m\"\u001b[39m)\n\u001b[1;32m----> 3\u001b[0m \u001b[43mpanel_1\u001b[49m\u001b[38;5;241;43m.\u001b[39;49m\u001b[43mwait\u001b[49m\u001b[43m(\u001b[49m\u001b[38;5;124;43m'\u001b[39;49m\u001b[38;5;124;43mvisible\u001b[39;49m\u001b[38;5;124;43m'\u001b[39;49m\u001b[43m)\u001b[49m  \u001b[38;5;66;03m# Esperar a que el panel sea visible\u001b[39;00m\n\u001b[0;32m      4\u001b[0m panel_1\u001b[38;5;241m.\u001b[39mset_focus()  \u001b[38;5;66;03m# Enfocar el panel\u001b[39;00m\n",
      "File \u001b[1;32m~\\AppData\\Local\\Packages\\PythonSoftwareFoundation.Python.3.11_qbz5n2kfra8p0\\LocalCache\\local-packages\\Python311\\site-packages\\pywinauto\\application.py:529\u001b[0m, in \u001b[0;36mWindowSpecification.wait\u001b[1;34m(self, wait_for, timeout, retry_interval)\u001b[0m\n\u001b[0;32m    499\u001b[0m \u001b[38;5;250m\u001b[39m\u001b[38;5;124;03m\"\"\"\u001b[39;00m\n\u001b[0;32m    500\u001b[0m \u001b[38;5;124;03mWait for the window to be in a particular state/states.\u001b[39;00m\n\u001b[0;32m    501\u001b[0m \n\u001b[1;32m   (...)\u001b[0m\n\u001b[0;32m    526\u001b[0m \u001b[38;5;124;03m    :func:`pywinauto.timings.TimeoutError`\u001b[39;00m\n\u001b[0;32m    527\u001b[0m \u001b[38;5;124;03m\"\"\"\u001b[39;00m\n\u001b[0;32m    528\u001b[0m check_method_names, timeout, retry_interval \u001b[38;5;241m=\u001b[39m \u001b[38;5;28mself\u001b[39m\u001b[38;5;241m.\u001b[39m__parse_wait_args(wait_for, timeout, retry_interval)\n\u001b[1;32m--> 529\u001b[0m \u001b[43mwait_until\u001b[49m\u001b[43m(\u001b[49m\u001b[43mtimeout\u001b[49m\u001b[43m,\u001b[49m\u001b[43m \u001b[49m\u001b[43mretry_interval\u001b[49m\u001b[43m,\u001b[49m\n\u001b[0;32m    530\u001b[0m \u001b[43m           \u001b[49m\u001b[38;5;28;43;01mlambda\u001b[39;49;00m\u001b[43m:\u001b[49m\u001b[43m \u001b[49m\u001b[38;5;28;43mself\u001b[39;49m\u001b[38;5;241;43m.\u001b[39;49m\u001b[43m__check_all_conditions\u001b[49m\u001b[43m(\u001b[49m\u001b[43mcheck_method_names\u001b[49m\u001b[43m,\u001b[49m\u001b[43m \u001b[49m\u001b[43mretry_interval\u001b[49m\u001b[43m)\u001b[49m\u001b[43m)\u001b[49m\n\u001b[0;32m    532\u001b[0m \u001b[38;5;66;03m# Return the wrapped control\u001b[39;00m\n\u001b[0;32m    533\u001b[0m \u001b[38;5;28;01mreturn\u001b[39;00m \u001b[38;5;28mself\u001b[39m\u001b[38;5;241m.\u001b[39mwrapper_object()\n",
      "File \u001b[1;32m~\\AppData\\Local\\Packages\\PythonSoftwareFoundation.Python.3.11_qbz5n2kfra8p0\\LocalCache\\local-packages\\Python311\\site-packages\\pywinauto\\timings.py:375\u001b[0m, in \u001b[0;36mwait_until\u001b[1;34m(timeout, retry_interval, func, value, op, *args, **kwargs)\u001b[0m\n\u001b[0;32m    373\u001b[0m         err \u001b[38;5;241m=\u001b[39m \u001b[38;5;167;01mTimeoutError\u001b[39;00m(\u001b[38;5;124m\"\u001b[39m\u001b[38;5;124mtimed out\u001b[39m\u001b[38;5;124m\"\u001b[39m)\n\u001b[0;32m    374\u001b[0m         err\u001b[38;5;241m.\u001b[39mfunction_value \u001b[38;5;241m=\u001b[39m func_val\n\u001b[1;32m--> 375\u001b[0m         \u001b[38;5;28;01mraise\u001b[39;00m err\n\u001b[0;32m    377\u001b[0m \u001b[38;5;28;01mreturn\u001b[39;00m func_val\n",
      "\u001b[1;31mTimeoutError\u001b[0m: timed out"
     ]
    }
   ],
   "source": [
    "# Acceder al primer panel (ajusta el título o la clase según sea necesario)\n",
    "panel_1 = Window.child_window(class_name=\"TPanel\")\n",
    "panel_1.wait('visible')  # Esperar a que el panel sea visible\n",
    "panel_1.set_focus()  # Enfocar el panel\n"
   ]
  },
  {
   "cell_type": "code",
   "execution_count": null,
   "id": "ae3ddae2",
   "metadata": {},
   "outputs": [],
   "source": [
    "\n",
    "# Acceder al segundo panel\n",
    "panel_2 = panel_1.child_window(title=\"Panel 2 Title\", class_name=\"Panel2Class\")\n",
    "panel_2.wait('visible')\n",
    "panel_2.set_focus()\n",
    "\n",
    "# Finalmente, acceder al botón dentro del último panel\n",
    "button = panel_2.child_window(class_name=\"TnexButtonMenuPri10\")\n",
    "\n",
    "# Verificar si el botón está visible y habilitado antes de hacer clic\n",
    "if button.is_visible() and button.is_enabled():\n",
    "    button.click()\n",
    "else:\n",
    "    print(\"El botón no está visible o habilitado.\")"
   ]
  }
 ],
 "metadata": {
  "kernelspec": {
   "display_name": "Python 3 (ipykernel)",
   "language": "python",
   "name": "python3"
  },
  "language_info": {
   "codemirror_mode": {
    "name": "ipython",
    "version": 3
   },
   "file_extension": ".py",
   "mimetype": "text/x-python",
   "name": "python",
   "nbconvert_exporter": "python",
   "pygments_lexer": "ipython3",
   "version": "3.11.9"
  }
 },
 "nbformat": 4,
 "nbformat_minor": 5
}
