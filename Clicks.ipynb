{
 "cells": [
  {
   "cell_type": "code",
   "execution_count": 1,
   "metadata": {},
   "outputs": [],
   "source": [
    "import pyautogui\n",
    "import time"
   ]
  },
  {
   "cell_type": "code",
   "execution_count": 2,
   "metadata": {},
   "outputs": [],
   "source": [
    "def Click_And_Drag(StartPosition: tuple, EndPosition: tuple, Repetitions: int, Duration: float = 1.0) -> None:\n",
    "\n",
    "    \"\"\"\n",
    "    Simulates clicking, holding, and dragging the mouse from a start position to an end position a specified \n",
    "    number of times.\n",
    "\n",
    "    Parameters:\n",
    "    StartPosition (tuple): The (x, y) coordinates of the starting position.\n",
    "    EndPosition (tuple): The (x, y) coordinates of the ending position.\n",
    "    Repetitions (int): The number of times the click and drag will be performed.\n",
    "    Duration (float): The time (in seconds) it takes to drag the mouse from start to end. Default \n",
    "    is 1.0 second.\n",
    "\n",
    "    \"\"\"\n",
    "    \n",
    "    for _ in range(Repetitions):\n",
    "\n",
    "        # Move to the starting position.\n",
    "        pyautogui.moveTo(StartPosition)\n",
    "        \n",
    "        # Click and hold the mouse.\n",
    "        pyautogui.mouseDown()\n",
    "        \n",
    "        # Drag the mouse to the end position.\n",
    "        pyautogui.moveTo(EndPosition, duration=Duration)\n",
    "        \n",
    "        # Release the mouse button.\n",
    "        pyautogui.mouseUp()\n",
    "        \n",
    "        # Optional: pause between repetitions.\n",
    "        time.sleep(0.5)  # Adjust this sleep time as needed."
   ]
  },
  {
   "cell_type": "code",
   "execution_count": 18,
   "metadata": {},
   "outputs": [],
   "source": [
    "def SimulateKeyPresses(CycleRepetitions: int) -> None:\n",
    "\n",
    "    \"\"\"\n",
    "    Simulates the following sequence of key presses a specified number of times:\n",
    "    - Down arrow 2 times\n",
    "    - Enter\n",
    "    - Tab 28 times\n",
    "    - Enter\n",
    "    - Down arrow 6 times\n",
    "    - Enter\n",
    "    \n",
    "    Parameters:\n",
    "    CycleRepetitions (int): The number of times the entire key press cycle will be repeated.\n",
    "\n",
    "    \"\"\"\n",
    "\n",
    "    for _ in range(CycleRepetitions):\n",
    "\n",
    "        # Flecha abajo 2 veces.\n",
    "        pyautogui.press('down')\n",
    "        time.sleep(0.5)\n",
    "        pyautogui.press('down')\n",
    "        time.sleep(0.5)\n",
    "\n",
    "        # Click derecho.\n",
    "        pyautogui.hotkey('shift', 'f10')\n",
    "        time.sleep(0.5)\n",
    "\n",
    "        # Flecha abajo 8 veces.\n",
    "        for _ in range(8):\n",
    "            pyautogui.press('down')\n",
    "            time.sleep(0.5)\n",
    "        \n",
    "        # Enter.\n",
    "        pyautogui.press('enter')\n",
    "\n",
    "        time.sleep(2)"
   ]
  },
  {
   "cell_type": "code",
   "execution_count": 20,
   "metadata": {},
   "outputs": [
    {
     "ename": "KeyboardInterrupt",
     "evalue": "",
     "output_type": "error",
     "traceback": [
      "\u001b[1;31m---------------------------------------------------------------------------\u001b[0m",
      "\u001b[1;31mKeyboardInterrupt\u001b[0m                         Traceback (most recent call last)",
      "Cell \u001b[1;32mIn[20], line 4\u001b[0m\n\u001b[0;32m      1\u001b[0m time\u001b[38;5;241m.\u001b[39msleep(\u001b[38;5;241m5\u001b[39m)\n\u001b[0;32m      3\u001b[0m \u001b[38;5;66;03m# Ejemplo de uso con 3 repeticiones del ciclo completo\u001b[39;00m\n\u001b[1;32m----> 4\u001b[0m \u001b[43mSimulateKeyPresses\u001b[49m\u001b[43m(\u001b[49m\u001b[43mCycleRepetitions\u001b[49m\u001b[38;5;241;43m=\u001b[39;49m\u001b[38;5;241;43m10\u001b[39;49m\u001b[43m)\u001b[49m\n",
      "Cell \u001b[1;32mIn[18], line 37\u001b[0m, in \u001b[0;36mSimulateKeyPresses\u001b[1;34m(CycleRepetitions)\u001b[0m\n\u001b[0;32m     34\u001b[0m \u001b[38;5;66;03m# Enter.\u001b[39;00m\n\u001b[0;32m     35\u001b[0m pyautogui\u001b[38;5;241m.\u001b[39mpress(\u001b[38;5;124m'\u001b[39m\u001b[38;5;124menter\u001b[39m\u001b[38;5;124m'\u001b[39m)\n\u001b[1;32m---> 37\u001b[0m time\u001b[38;5;241m.\u001b[39msleep(\u001b[38;5;241m2\u001b[39m)\n",
      "\u001b[1;31mKeyboardInterrupt\u001b[0m: "
     ]
    }
   ],
   "source": [
    "time.sleep(5)\n",
    "\n",
    "\n",
    "# Ejemplo de uso con 3 repeticiones del ciclo completo\n",
    "SimulateKeyPresses(CycleRepetitions=10)"
   ]
  },
  {
   "cell_type": "code",
   "execution_count": null,
   "metadata": {},
   "outputs": [],
   "source": [
    "\n"
   ]
  }
 ],
 "metadata": {
  "kernelspec": {
   "display_name": "Python 3",
   "language": "python",
   "name": "python3"
  },
  "language_info": {
   "codemirror_mode": {
    "name": "ipython",
    "version": 3
   },
   "file_extension": ".py",
   "mimetype": "text/x-python",
   "name": "python",
   "nbconvert_exporter": "python",
   "pygments_lexer": "ipython3",
   "version": "3.11.9"
  }
 },
 "nbformat": 4,
 "nbformat_minor": 2
}
