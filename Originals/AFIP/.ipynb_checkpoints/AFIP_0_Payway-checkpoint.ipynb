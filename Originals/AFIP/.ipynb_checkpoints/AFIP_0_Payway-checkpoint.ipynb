{
 "cells": [
  {
   "cell_type": "code",
   "execution_count": 59,
   "id": "c9a11db2",
   "metadata": {},
   "outputs": [],
   "source": [
    "import os\n",
    "import shutil"
   ]
  },
  {
   "cell_type": "code",
   "execution_count": 55,
   "id": "cb67f124",
   "metadata": {},
   "outputs": [],
   "source": [
    "# Ingreso a Payway.\n",
    "\n",
    "def Payway(Driver, Email, Contraseña):\n",
    "    \n",
    "    Login = 'https://mi.payway.com.ar/ms/ui-login/login'\n",
    "    \n",
    "    # Abre la página.\n",
    "    Driver.get(Login)\n",
    "    \n",
    "    # Espera hasta que el campo \"Usuario\" esté presente en la página.\n",
    "    WebDriverWait(Driver, 30).until(EC.presence_of_element_located((By.NAME, \"email\"))) \n",
    "\n",
    "    # Encontrar el campo de entrada de correo electrónico por su nombre\n",
    "    Campo_Email = Driver.find_element(By.NAME, \"email\")\n",
    "\n",
    "    # Envía el nombre de usuario al campo de entrada.\n",
    "    Campo_Email.send_keys(Email)\n",
    "\n",
    "    \n",
    "    # Encuentra el campo de entrada para la contraseña.\n",
    "    Campo_Pass = Driver.find_element(By.NAME, \"pwd\")\n",
    "\n",
    "    # Envía la contraseña al campo de entrada\n",
    "    Campo_Pass.send_keys(Contraseña)\n",
    "\n",
    "    # Presiona la tecla Enter para enviar el formulario.\n",
    "    Campo_Pass.send_keys(Keys.RETURN) \n",
    "    \n",
    "    \n",
    "    # Si el botón Omitir está presente, hace click en él.\n",
    "    try:\n",
    "        WebDriverWait(Driver, 30).until(EC.presence_of_element_located((By.XPATH, \"//button[@title='Skip' and @class='sc-jEACwC cufIKd']\")))\n",
    "        Boton_Omitir = Driver.find_element(By.XPATH, \"//button[@title='Skip' and @class='sc-jEACwC cufIKd']\")\n",
    "        Boton_Omitir.click()\n",
    "    except TimeoutException:\n",
    "        None\n",
    "        \n",
    "                     \n",
    "    Movimientos = 'https://mi.payway.com.ar/movimientos/en-linea'\n",
    "    \n",
    "    # Abre la página.\n",
    "    Driver.get(Movimientos)\n",
    "    \n",
    "    # Esperar hasta que el botón esté presente en la página\n",
    "    Boton_Descargar_CSV = WebDriverWait(Driver, 30).until(\n",
    "        EC.presence_of_element_located((By.CLASS_NAME, \"sc-crHmcD.dMPykX\"))\n",
    "    )\n",
    "\n",
    "    # Hacer clic en el botón \"Descargar CSV\"\n",
    "    Boton_Descargar_CSV.click()\n",
    "    \n",
    "    # Esperar hasta que el botón esté presente en la página\n",
    "    Boton_Comas = WebDriverWait(Driver, 30).until(\n",
    "        EC.presence_of_element_located((By.XPATH, \"//button[@class='sc-gJbFto fMZkYs']//span[text()='Comas']\"))\n",
    "    )\n",
    "\n",
    "    # Hacer clic en el botón \"Comas\"\n",
    "    Boton_Comas.click()\n",
    "    \n",
    "    return Driver\n"
   ]
  },
  {
   "cell_type": "code",
   "execution_count": 60,
   "id": "bc88b67d",
   "metadata": {},
   "outputs": [
    {
     "data": {
      "text/plain": [
       "'J:/My Drive/Forraje/AFIP/Payway.csv'"
      ]
     },
     "execution_count": 60,
     "metadata": {},
     "output_type": "execute_result"
    }
   ],
   "source": [
    "def Mover_y_Cambiar_Nombre_Archivo(Ruta_Original, Ruta_Nueva, Nombre_Nuevo):\n",
    "\n",
    "    \"\"\"\n",
    "    \n",
    "    Mueve un archivo de una ruta original a una nueva ubicación especificada, cambiándole el nombre en el proceso.\n",
    "\n",
    "    Parámetros:\n",
    "    - Ruta_Original: La ruta del archivo original que se va a mover.\n",
    "    - Ruta_Nueva: La ruta de la nueva carpeta donde se moverá el archivo.\n",
    "    - Nombre_Nuevo: El nuevo nombre que se asignará al archivo después de moverlo.\n",
    "\n",
    "    La función utiliza el módulo shutil para mover el archivo desde la ruta original a\n",
    "    la nueva ubicación especificada. Utiliza la función os.path.join() para combinar la\n",
    "    nueva ruta con el nuevo nombre del archivo.\n",
    "\n",
    "    Esta función no devuelve ningún valor, pero mueve el archivo a la nueva ubicación\n",
    "    y le cambia el nombre según lo especificado.\n",
    "    \n",
    "    \"\"\"\n",
    "    \n",
    "    shutil.move(Ruta_Original, os.path.join(Ruta_Nueva, Nombre_Nuevo))"
   ]
  }
 ],
 "metadata": {
  "kernelspec": {
   "display_name": "Python 3 (ipykernel)",
   "language": "python",
   "name": "python3"
  },
  "language_info": {
   "codemirror_mode": {
    "name": "ipython",
    "version": 3
   },
   "file_extension": ".py",
   "mimetype": "text/x-python",
   "name": "python",
   "nbconvert_exporter": "python",
   "pygments_lexer": "ipython3",
   "version": "3.11.7"
  }
 },
 "nbformat": 4,
 "nbformat_minor": 5
}
