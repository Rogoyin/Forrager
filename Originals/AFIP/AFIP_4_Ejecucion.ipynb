{
 "cells": [
  {
   "cell_type": "markdown",
   "id": "fa2f8440-8422-4144-a088-141840109c59",
   "metadata": {},
   "source": [
    "## Fecha de procesamiento de AFIP"
   ]
  },
  {
   "cell_type": "code",
   "execution_count": 1,
   "id": "8994156e-dc38-4dd8-a20d-786f6eb236ec",
   "metadata": {},
   "outputs": [],
   "source": [
    "Fechas = ['09/10/2024']"
   ]
  },
  {
   "cell_type": "markdown",
   "id": "a11c024f-d748-44ed-a4a1-095bed888ef9",
   "metadata": {},
   "source": [
    "## Paquetes"
   ]
  },
  {
   "cell_type": "code",
   "execution_count": 2,
   "id": "cb67f124",
   "metadata": {},
   "outputs": [],
   "source": [
    "from selenium import webdriver\n",
    "from selenium.webdriver.common.by import By\n",
    "from selenium.webdriver.support.ui import WebDriverWait\n",
    "from selenium.webdriver.support import expected_conditions as EC\n",
    "from selenium.webdriver.common.keys import Keys\n",
    "from selenium.webdriver.support.select import Select\n",
    "from selenium.common.exceptions import TimeoutException\n",
    "import time\n",
    "import pandas as pd\n",
    "from datetime import datetime\n",
    "import calendar\n",
    "import locale"
   ]
  },
  {
   "cell_type": "markdown",
   "id": "49f16638-3796-40d1-b58b-f84959b15369",
   "metadata": {},
   "source": [
    "## Cargar programas"
   ]
  },
  {
   "cell_type": "code",
   "execution_count": 3,
   "id": "818bb561",
   "metadata": {},
   "outputs": [],
   "source": [
    "%run \"AFIP_0_Payway.ipynb\"\n",
    "%run \"AFIP_2_Funciones.ipynb\"\n",
    "%run \"AFIP_3_Listas.ipynb\""
   ]
  },
  {
   "cell_type": "markdown",
   "id": "83c0f78f-078a-4e33-a881-4dd34304123b",
   "metadata": {},
   "source": [
    "## Variables"
   ]
  },
  {
   "cell_type": "code",
   "execution_count": 4,
   "id": "cba91209",
   "metadata": {},
   "outputs": [],
   "source": [
    "Ruta_Descarga_Payway = 'C:/Users/tomas/Downloads/Movimientos En Linea Delimitado por comas.csv'\n",
    "Ruta_Nueva_Payway = 'J:/My Drive/Forraje/AFIP' \n",
    "Nombre_Nuevo = 'Payway.csv'"
   ]
  },
  {
   "cell_type": "code",
   "execution_count": 5,
   "id": "112f8f22",
   "metadata": {},
   "outputs": [],
   "source": [
    "Email_Payway = 'carolina8101924@gmail.com'\n",
    "Contraseña_Payway = '123Patri$'"
   ]
  },
  {
   "cell_type": "code",
   "execution_count": 6,
   "id": "1c92d49d",
   "metadata": {},
   "outputs": [],
   "source": [
    "Usuario_AFIP = '27202147025'\n",
    "Contraseña_AFIP = '123Carolina$'"
   ]
  },
  {
   "cell_type": "code",
   "execution_count": 7,
   "id": "98d3c109",
   "metadata": {},
   "outputs": [],
   "source": [
    "Empresa = 'MARQUEZ CAROLINA MARIEL'\n",
    "Punto_de_Ventas = '00002-Las Piedras 2837 - Kilometro 45, Buenos Aires'"
   ]
  },
  {
   "cell_type": "code",
   "execution_count": 8,
   "id": "54cdccaf",
   "metadata": {},
   "outputs": [],
   "source": [
    "Tipo_Comprobante = 'Factura C'\n",
    "Tipo_Concepto = 'Productos'\n",
    "Tipo_Condicion_IVA = 'Consumidor Final'"
   ]
  },
  {
   "cell_type": "code",
   "execution_count": 9,
   "id": "00d58c63",
   "metadata": {},
   "outputs": [],
   "source": [
    "Tipo_Comprobante_Value = Tipos_de_Comprobantes.get(Tipo_Comprobante)\n",
    "Tipo_Concepto_Value = Tipos_de_Conceptos.get(Tipo_Concepto)\n",
    "Tipo_Condicion_IVA_Value = Tipos_Condicion_IVA.get(Tipo_Condicion_IVA)"
   ]
  },
  {
   "cell_type": "markdown",
   "id": "78ff99b7-1e67-4b15-95c1-29495166f529",
   "metadata": {},
   "source": [
    "## Payway"
   ]
  },
  {
   "cell_type": "code",
   "execution_count": 10,
   "id": "2cbd16f5",
   "metadata": {},
   "outputs": [
    {
     "ename": "NoSuchWindowException",
     "evalue": "Message: no such window: target window already closed\nfrom unknown error: web view not found\n  (Session info: chrome=129.0.6668.90)\nStacktrace:\n\tGetHandleVerifier [0x00007FF70951B095+29557]\n\t(No symbol) [0x00007FF70948FA50]\n\t(No symbol) [0x00007FF70934B56A]\n\t(No symbol) [0x00007FF70931FCC5]\n\t(No symbol) [0x00007FF7093CEE07]\n\t(No symbol) [0x00007FF7093E7E21]\n\t(No symbol) [0x00007FF7093C6F33]\n\t(No symbol) [0x00007FF70939116F]\n\t(No symbol) [0x00007FF7093922D1]\n\tGetHandleVerifier [0x00007FF70984C96D+3378253]\n\tGetHandleVerifier [0x00007FF709898497+3688311]\n\tGetHandleVerifier [0x00007FF70988D1CB+3642539]\n\tGetHandleVerifier [0x00007FF7095DA6B6+813462]\n\t(No symbol) [0x00007FF70949AB5F]\n\t(No symbol) [0x00007FF709496B74]\n\t(No symbol) [0x00007FF709496D10]\n\t(No symbol) [0x00007FF709485C1F]\n\tBaseThreadInitThunk [0x00007FFC7D697374+20]\n\tRtlUserThreadStart [0x00007FFC7EF9CC91+33]\n",
     "output_type": "error",
     "traceback": [
      "\u001b[1;31m---------------------------------------------------------------------------\u001b[0m",
      "\u001b[1;31mNoSuchWindowException\u001b[0m                     Traceback (most recent call last)",
      "Cell \u001b[1;32mIn[10], line 5\u001b[0m\n\u001b[0;32m      2\u001b[0m Driver \u001b[38;5;241m=\u001b[39m Chrome()\n\u001b[0;32m      4\u001b[0m \u001b[38;5;66;03m# Descargar archivo de Payway.\u001b[39;00m\n\u001b[1;32m----> 5\u001b[0m Payway \u001b[38;5;241m=\u001b[39m Payway(Driver, Email_Payway, Contraseña_Payway)\n\u001b[0;32m      7\u001b[0m \u001b[38;5;66;03m# Esperar descarga.\u001b[39;00m\n\u001b[0;32m      8\u001b[0m Esperar_Descarga(\u001b[38;5;124m\"\u001b[39m\u001b[38;5;124mC:/Users/tomas/Downloads/Movimientos En Linea Delimitado por comas.csv\u001b[39m\u001b[38;5;124m\"\u001b[39m)\n",
      "File \u001b[1;32m~\\AppData\\Local\\Temp\\ipykernel_6508\\1072693357.py:11\u001b[0m, in \u001b[0;36mPayway\u001b[1;34m(Driver, Email, Contraseña)\u001b[0m\n\u001b[0;32m      8\u001b[0m Driver\u001b[38;5;241m.\u001b[39mget(Login)\n\u001b[0;32m     10\u001b[0m \u001b[38;5;66;03m# Espera hasta que el campo \"Usuario\" esté presente en la página.\u001b[39;00m\n\u001b[1;32m---> 11\u001b[0m WebDriverWait(Driver, \u001b[38;5;241m30\u001b[39m)\u001b[38;5;241m.\u001b[39muntil(EC\u001b[38;5;241m.\u001b[39mpresence_of_element_located((By\u001b[38;5;241m.\u001b[39mNAME, \u001b[38;5;124m\"\u001b[39m\u001b[38;5;124memail\u001b[39m\u001b[38;5;124m\"\u001b[39m))) \n\u001b[0;32m     13\u001b[0m \u001b[38;5;66;03m# Encontrar el campo de entrada de correo electrónico por su nombre\u001b[39;00m\n\u001b[0;32m     14\u001b[0m Campo_Email \u001b[38;5;241m=\u001b[39m Driver\u001b[38;5;241m.\u001b[39mfind_element(By\u001b[38;5;241m.\u001b[39mNAME, \u001b[38;5;124m\"\u001b[39m\u001b[38;5;124memail\u001b[39m\u001b[38;5;124m\"\u001b[39m)\n",
      "File \u001b[1;32m~\\anaconda3\\Lib\\site-packages\\selenium\\webdriver\\support\\wait.py:96\u001b[0m, in \u001b[0;36mWebDriverWait.until\u001b[1;34m(self, method, message)\u001b[0m\n\u001b[0;32m     94\u001b[0m \u001b[38;5;28;01mwhile\u001b[39;00m \u001b[38;5;28;01mTrue\u001b[39;00m:\n\u001b[0;32m     95\u001b[0m     \u001b[38;5;28;01mtry\u001b[39;00m:\n\u001b[1;32m---> 96\u001b[0m         value \u001b[38;5;241m=\u001b[39m method(\u001b[38;5;28mself\u001b[39m\u001b[38;5;241m.\u001b[39m_driver)\n\u001b[0;32m     97\u001b[0m         \u001b[38;5;28;01mif\u001b[39;00m value:\n\u001b[0;32m     98\u001b[0m             \u001b[38;5;28;01mreturn\u001b[39;00m value\n",
      "File \u001b[1;32m~\\anaconda3\\Lib\\site-packages\\selenium\\webdriver\\support\\expected_conditions.py:84\u001b[0m, in \u001b[0;36mpresence_of_element_located.<locals>._predicate\u001b[1;34m(driver)\u001b[0m\n\u001b[0;32m     83\u001b[0m \u001b[38;5;28;01mdef\u001b[39;00m \u001b[38;5;21m_predicate\u001b[39m(driver: WebDriverOrWebElement):\n\u001b[1;32m---> 84\u001b[0m     \u001b[38;5;28;01mreturn\u001b[39;00m driver\u001b[38;5;241m.\u001b[39mfind_element(\u001b[38;5;241m*\u001b[39mlocator)\n",
      "File \u001b[1;32m~\\anaconda3\\Lib\\site-packages\\selenium\\webdriver\\remote\\webdriver.py:741\u001b[0m, in \u001b[0;36mWebDriver.find_element\u001b[1;34m(self, by, value)\u001b[0m\n\u001b[0;32m    738\u001b[0m     by \u001b[38;5;241m=\u001b[39m By\u001b[38;5;241m.\u001b[39mCSS_SELECTOR\n\u001b[0;32m    739\u001b[0m     value \u001b[38;5;241m=\u001b[39m \u001b[38;5;124mf\u001b[39m\u001b[38;5;124m'\u001b[39m\u001b[38;5;124m[name=\u001b[39m\u001b[38;5;124m\"\u001b[39m\u001b[38;5;132;01m{\u001b[39;00mvalue\u001b[38;5;132;01m}\u001b[39;00m\u001b[38;5;124m\"\u001b[39m\u001b[38;5;124m]\u001b[39m\u001b[38;5;124m'\u001b[39m\n\u001b[1;32m--> 741\u001b[0m \u001b[38;5;28;01mreturn\u001b[39;00m \u001b[38;5;28mself\u001b[39m\u001b[38;5;241m.\u001b[39mexecute(Command\u001b[38;5;241m.\u001b[39mFIND_ELEMENT, {\u001b[38;5;124m\"\u001b[39m\u001b[38;5;124musing\u001b[39m\u001b[38;5;124m\"\u001b[39m: by, \u001b[38;5;124m\"\u001b[39m\u001b[38;5;124mvalue\u001b[39m\u001b[38;5;124m\"\u001b[39m: value})[\u001b[38;5;124m\"\u001b[39m\u001b[38;5;124mvalue\u001b[39m\u001b[38;5;124m\"\u001b[39m]\n",
      "File \u001b[1;32m~\\anaconda3\\Lib\\site-packages\\selenium\\webdriver\\remote\\webdriver.py:347\u001b[0m, in \u001b[0;36mWebDriver.execute\u001b[1;34m(self, driver_command, params)\u001b[0m\n\u001b[0;32m    345\u001b[0m response \u001b[38;5;241m=\u001b[39m \u001b[38;5;28mself\u001b[39m\u001b[38;5;241m.\u001b[39mcommand_executor\u001b[38;5;241m.\u001b[39mexecute(driver_command, params)\n\u001b[0;32m    346\u001b[0m \u001b[38;5;28;01mif\u001b[39;00m response:\n\u001b[1;32m--> 347\u001b[0m     \u001b[38;5;28mself\u001b[39m\u001b[38;5;241m.\u001b[39merror_handler\u001b[38;5;241m.\u001b[39mcheck_response(response)\n\u001b[0;32m    348\u001b[0m     response[\u001b[38;5;124m\"\u001b[39m\u001b[38;5;124mvalue\u001b[39m\u001b[38;5;124m\"\u001b[39m] \u001b[38;5;241m=\u001b[39m \u001b[38;5;28mself\u001b[39m\u001b[38;5;241m.\u001b[39m_unwrap_value(response\u001b[38;5;241m.\u001b[39mget(\u001b[38;5;124m\"\u001b[39m\u001b[38;5;124mvalue\u001b[39m\u001b[38;5;124m\"\u001b[39m, \u001b[38;5;28;01mNone\u001b[39;00m))\n\u001b[0;32m    349\u001b[0m     \u001b[38;5;28;01mreturn\u001b[39;00m response\n",
      "File \u001b[1;32m~\\anaconda3\\Lib\\site-packages\\selenium\\webdriver\\remote\\errorhandler.py:229\u001b[0m, in \u001b[0;36mErrorHandler.check_response\u001b[1;34m(self, response)\u001b[0m\n\u001b[0;32m    227\u001b[0m         alert_text \u001b[38;5;241m=\u001b[39m value[\u001b[38;5;124m\"\u001b[39m\u001b[38;5;124malert\u001b[39m\u001b[38;5;124m\"\u001b[39m]\u001b[38;5;241m.\u001b[39mget(\u001b[38;5;124m\"\u001b[39m\u001b[38;5;124mtext\u001b[39m\u001b[38;5;124m\"\u001b[39m)\n\u001b[0;32m    228\u001b[0m     \u001b[38;5;28;01mraise\u001b[39;00m exception_class(message, screen, stacktrace, alert_text)  \u001b[38;5;66;03m# type: ignore[call-arg]  # mypy is not smart enough here\u001b[39;00m\n\u001b[1;32m--> 229\u001b[0m \u001b[38;5;28;01mraise\u001b[39;00m exception_class(message, screen, stacktrace)\n",
      "\u001b[1;31mNoSuchWindowException\u001b[0m: Message: no such window: target window already closed\nfrom unknown error: web view not found\n  (Session info: chrome=129.0.6668.90)\nStacktrace:\n\tGetHandleVerifier [0x00007FF70951B095+29557]\n\t(No symbol) [0x00007FF70948FA50]\n\t(No symbol) [0x00007FF70934B56A]\n\t(No symbol) [0x00007FF70931FCC5]\n\t(No symbol) [0x00007FF7093CEE07]\n\t(No symbol) [0x00007FF7093E7E21]\n\t(No symbol) [0x00007FF7093C6F33]\n\t(No symbol) [0x00007FF70939116F]\n\t(No symbol) [0x00007FF7093922D1]\n\tGetHandleVerifier [0x00007FF70984C96D+3378253]\n\tGetHandleVerifier [0x00007FF709898497+3688311]\n\tGetHandleVerifier [0x00007FF70988D1CB+3642539]\n\tGetHandleVerifier [0x00007FF7095DA6B6+813462]\n\t(No symbol) [0x00007FF70949AB5F]\n\t(No symbol) [0x00007FF709496B74]\n\t(No symbol) [0x00007FF709496D10]\n\t(No symbol) [0x00007FF709485C1F]\n\tBaseThreadInitThunk [0x00007FFC7D697374+20]\n\tRtlUserThreadStart [0x00007FFC7EF9CC91+33]\n"
     ]
    }
   ],
   "source": [
    "# Abrir pestaña.\n",
    "Driver = Chrome()\n",
    "\n",
    "# Descargar archivo de Payway.\n",
    "Payway = Payway(Driver, Email_Payway, Contraseña_Payway)\n",
    "\n",
    "# Esperar descarga.\n",
    "Esperar_Descarga(\"C:/Users/tomas/Downloads/Movimientos En Linea Delimitado por comas.csv\")"
   ]
  },
  {
   "cell_type": "markdown",
   "id": "45ca270d-6a82-46b1-8785-72e9d84e492a",
   "metadata": {},
   "source": [
    "## Cambiar y procesar Excel con precios"
   ]
  },
  {
   "cell_type": "code",
   "execution_count": null,
   "id": "e024d82e",
   "metadata": {},
   "outputs": [],
   "source": [
    "# Cambiar ubicación.\n",
    "Mover_y_Cambiar_Nombre_Archivo(Ruta_Descarga_Payway, Ruta_Nueva_Payway, Nombre_Nuevo)\n",
    "\n",
    "# Convertir archivo de Payway a Excel.\n",
    "%run \"AFIP_1_Excel.ipynb\""
   ]
  },
  {
   "cell_type": "markdown",
   "id": "5be35d26-358f-4076-90fe-d509d95d18cb",
   "metadata": {},
   "source": [
    "## Dataframe"
   ]
  },
  {
   "cell_type": "code",
   "execution_count": null,
   "id": "beafc06d",
   "metadata": {},
   "outputs": [],
   "source": [
    "# Ruta del archivo con los precios a subir.\n",
    "Archivo = f\"J:/My Drive/Forraje/AFIP/AFIP.xlsx\"\n",
    "\n",
    "# Crear DataFrame.\n",
    "df = pd.read_excel(Archivo)"
   ]
  },
  {
   "cell_type": "code",
   "execution_count": null,
   "id": "6b9b6275-5378-412a-a2e2-7a356814401e",
   "metadata": {},
   "outputs": [],
   "source": [
    "# Filtrar df con las fechas especificadas al comienzo.\n",
    "df = df[df['Fecha'].isin(Fechas)]"
   ]
  },
  {
   "cell_type": "code",
   "execution_count": null,
   "id": "64103c56-a4ee-494c-b3db-7962f7de2977",
   "metadata": {},
   "outputs": [],
   "source": [
    "# Resetear el índice del DataFrame.\n",
    "df = df.reset_index(drop=True)"
   ]
  },
  {
   "cell_type": "code",
   "execution_count": null,
   "id": "6b366dc4",
   "metadata": {},
   "outputs": [],
   "source": [
    "Fecha = df['Fecha']\n",
    "Descripcion = df['Descripción']\n",
    "Precio = df['Precio']"
   ]
  },
  {
   "cell_type": "markdown",
   "id": "c917b65b-76a9-4af0-b575-2cee9b454256",
   "metadata": {},
   "source": [
    "## AFIP"
   ]
  },
  {
   "cell_type": "code",
   "execution_count": null,
   "id": "9f91bc2d",
   "metadata": {},
   "outputs": [],
   "source": [
    "# Abrir pestaña.\n",
    "Driver = Chrome()\n",
    "\n",
    "# Ingreso a AFIP.\n",
    "Ingreso = Paso_0(Driver, Usuario_AFIP, Contraseña_AFIP)\n",
    "\n",
    "# Bucle de AFIP.\n",
    "for i in range (0, len(Descripcion)):\n",
    "    Pestaña_1 = Paso_1(Driver)\n",
    "    Pestaña_2 = Paso_2(Driver, Punto_de_Ventas, Tipo_Comprobante_Value)\n",
    "    Pestaña_3 = Paso_3(Driver, Fecha[i], Tipo_Concepto_Value)\n",
    "    Pestaña_4 = Paso_4(Driver, Tipo_Condicion_IVA_Value)\n",
    "    Pestaña_5 = Paso_5(Driver, Descripcion[i], Precio[i])\n",
    "    Pestaña_6 = Paso_6(Driver)"
   ]
  },
  {
   "cell_type": "markdown",
   "id": "2841ac06-d6c9-4c75-b477-1e74a9348a78",
   "metadata": {},
   "source": [
    "## Estadística"
   ]
  },
  {
   "cell_type": "code",
   "execution_count": null,
   "id": "75a9a35c-0bb9-47b8-af84-f375a85c6602",
   "metadata": {},
   "outputs": [],
   "source": [
    "# Ruta del archivo con los ingresos por día.\n",
    "Ingresos = f\"J:/My Drive/Forraje/Ingresos.xlsx\"\n",
    "\n",
    "# Crear DataFrame.\n",
    "df_Ingresos = pd.read_excel(Ingresos)"
   ]
  },
  {
   "cell_type": "code",
   "execution_count": null,
   "id": "21e39407-4320-481e-95cd-55c2c825cd05",
   "metadata": {},
   "outputs": [],
   "source": [
    "# Facturaciones de los días buscados.\n",
    "for i in range(0, len(Fechas)):\n",
    "    \n",
    "    # Filtrar el df con la fecha actual.\n",
    "    df_Facturacion = df[df['Fecha'] == Fechas[i]]\n",
    "    \n",
    "    # Facturación del día.\n",
    "    Facturacion = df_Facturacion['Precio'].sum()\n",
    "    \n",
    "    # Dato para agregar al df.\n",
    "    Dato = {'Fecha': Fechas[i], 'Ingreso': Facturacion}\n",
    "    df_Dato = pd.DataFrame([Dato])\n",
    "    \n",
    "    # Concatenar el nuevo DataFrame con el DataFrame original, colocando el nuevo dato al principio\n",
    "    df_Ingresos = pd.concat([df_Dato, df_Ingresos], ignore_index=True)"
   ]
  },
  {
   "cell_type": "code",
   "execution_count": null,
   "id": "15856a63-a25f-47ad-8dd4-e9cfa2bd5132",
   "metadata": {},
   "outputs": [],
   "source": [
    "# Guardar el DataFrame en un archivo Excel\n",
    "df_Ingresos.to_excel(Ingresos, index=False, sheet_name='Estadística')"
   ]
  },
  {
   "cell_type": "markdown",
   "id": "b4e80626-c3cf-4c57-9b25-3129264be39f",
   "metadata": {},
   "source": [
    "## Facturación"
   ]
  },
  {
   "cell_type": "code",
   "execution_count": null,
   "id": "97949aa4-45cc-4854-bfca-3ede5d90f4d0",
   "metadata": {},
   "outputs": [],
   "source": [
    "# Convertir la columna 'Fecha' a tipo datetime\n",
    "df_Ingresos['Fecha'] = pd.to_datetime(df_Ingresos['Fecha'], format=\"%d/%m/%Y\")"
   ]
  },
  {
   "cell_type": "code",
   "execution_count": null,
   "id": "8e05966f-49e9-4ae0-95ac-5aa04b62c89e",
   "metadata": {},
   "outputs": [],
   "source": [
    "# Establecer la localización a español.\n",
    "locale.setlocale(locale.LC_TIME, 'es_ES.UTF-8')\n",
    "\n",
    "# Mes actual\n",
    "Mes = datetime.now().month"
   ]
  },
  {
   "cell_type": "code",
   "execution_count": null,
   "id": "3685ce7f-a1fb-4a47-9204-a9f18e083aa3",
   "metadata": {},
   "outputs": [],
   "source": [
    "# Filtrar el DataFrame para solo los datos del mes actual\n",
    "df_Mes = df_Ingresos[df_Ingresos['Fecha'].dt.month == Mes]"
   ]
  },
  {
   "cell_type": "code",
   "execution_count": null,
   "id": "f901efde-3485-4e78-9c6b-4ee9f0a8f18e",
   "metadata": {},
   "outputs": [],
   "source": [
    "# Facturación del mes actual hasta ahora.\n",
    "Facturacion_Mensual = df_Mes['Ingreso'].sum()"
   ]
  },
  {
   "cell_type": "markdown",
   "id": "7490a0f4-5e10-4bfa-aa5a-00b49bfc2382",
   "metadata": {},
   "source": [
    "## Total"
   ]
  },
  {
   "cell_type": "code",
   "execution_count": null,
   "id": "cb9949a6-9c75-4095-8131-38795a05ab7b",
   "metadata": {},
   "outputs": [],
   "source": [
    "print('Facturación total del mes de', calendar.month_name[Mes], 'hasta ahora:', \"${:,.0f}\".format(Facturacion_Mensual).replace(',', '.'))"
   ]
  },
  {
   "cell_type": "code",
   "execution_count": null,
   "id": "ec0c59f3-e503-4dc1-ae46-010526773027",
   "metadata": {},
   "outputs": [],
   "source": []
  },
  {
   "cell_type": "code",
   "execution_count": null,
   "id": "21af2911-a678-4eda-81fe-9eefedbf103b",
   "metadata": {},
   "outputs": [],
   "source": []
  },
  {
   "cell_type": "code",
   "execution_count": null,
   "id": "743fdff6-a9e2-4244-9037-779bec15089a",
   "metadata": {},
   "outputs": [],
   "source": []
  },
  {
   "cell_type": "code",
   "execution_count": null,
   "id": "c9920788-6013-45bd-948d-1884dcc8f062",
   "metadata": {},
   "outputs": [],
   "source": []
  }
 ],
 "metadata": {
  "kernelspec": {
   "display_name": "Python 3 (ipykernel)",
   "language": "python",
   "name": "python3"
  },
  "language_info": {
   "codemirror_mode": {
    "name": "ipython",
    "version": 3
   },
   "file_extension": ".py",
   "mimetype": "text/x-python",
   "name": "python",
   "nbconvert_exporter": "python",
   "pygments_lexer": "ipython3",
   "version": "3.11.7"
  }
 },
 "nbformat": 4,
 "nbformat_minor": 5
}
