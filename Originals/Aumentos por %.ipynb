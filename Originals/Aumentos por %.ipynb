{
 "cells": [
  {
   "cell_type": "code",
   "execution_count": 14,
   "id": "ba5b4abc",
   "metadata": {},
   "outputs": [],
   "source": [
    "import pandas as pd\n",
    "import numpy as np\n",
    "import os"
   ]
  },
  {
   "cell_type": "code",
   "execution_count": 15,
   "id": "faf988d4",
   "metadata": {},
   "outputs": [],
   "source": [
    "from openpyxl import Workbook\n",
    "from openpyxl.styles import Font, Alignment, Border, Side, PatternFill\n",
    "from openpyxl.utils import get_column_letter\n",
    "from openpyxl.utils.dataframe import dataframe_to_rows"
   ]
  },
  {
   "cell_type": "code",
   "execution_count": 16,
   "id": "e08a90dd",
   "metadata": {},
   "outputs": [],
   "source": [
    "# Cargar funciones de otros archivos.\n",
    "\n",
    "\n",
    "%run \"Funciones para Excel.ipynb\"\n",
    "%run \"Funciones útiles.ipynb\""
   ]
  },
  {
   "cell_type": "code",
   "execution_count": 17,
   "id": "837bd6db",
   "metadata": {},
   "outputs": [],
   "source": [
    "Database = 'J:/Mi unidad/Forraje/Marcas y subcategorías.xlsx'\n",
    "\n",
    "# Crear el DataFrame utilizando esas columnas\n",
    "df = pd.read_excel(Database)"
   ]
  },
  {
   "cell_type": "code",
   "execution_count": 18,
   "id": "08b3e275",
   "metadata": {},
   "outputs": [],
   "source": [
    "Resultados = 'J:/Mi unidad/Forraje/Resultados/Resultados.xlsx'\n",
    "\n",
    "# Crear el DataFrame utilizando esas columnas\n",
    "df_Resultados = pd.read_excel(Resultados)"
   ]
  },
  {
   "cell_type": "code",
   "execution_count": 19,
   "id": "3d15590f",
   "metadata": {},
   "outputs": [],
   "source": [
    "# Verificación de cantidad de productos en ambas listas.\n",
    "\n",
    "if len(df['Descripcion']) != len(df_Resultados['Descripcion'])-1:\n",
    "    exit()\n",
    "    \n",
    "for i in range(len(df['Descripcion'])):\n",
    "    if df['Descripcion'][i] != df_Resultados['Descripcion'][i]:\n",
    "        print(f\"Diferencia encontrada en la posición {i}:\")\n",
    "        print(f\"Valor en Marcas y subcategorías['Descripcion'][{i}]: {df['Descripcion'][i]}\")\n",
    "        print(f\"Valor en Proveedores['Descripcion'][{i}]: {df_Resultados['Descripcion'][i]}\")\n",
    "        exit()"
   ]
  },
  {
   "cell_type": "code",
   "execution_count": 21,
   "id": "d8068b9e",
   "metadata": {},
   "outputs": [],
   "source": [
    "df['Precio'] = df_Resultados['Precio Final']"
   ]
  },
  {
   "cell_type": "code",
   "execution_count": 11,
   "id": "3e2f1b3b",
   "metadata": {},
   "outputs": [],
   "source": [
    "# Rellenamos con 0 los valores NaN\n",
    "df = df.fillna(0)\n",
    "\n",
    "# Convertimos a string algunas columnas\n",
    "df['Marca'] = df['Marca'].astype(str)"
   ]
  },
  {
   "cell_type": "code",
   "execution_count": 12,
   "id": "a8478786",
   "metadata": {},
   "outputs": [],
   "source": [
    "# Rellenado de columnas\n",
    "\n",
    "#df = Filtrar_y_Rellenar(df, 'Columna a Leer', 'Texto1', 'Columna a Rellenar', 'Texto2')"
   ]
  },
  {
   "cell_type": "code",
   "execution_count": 133,
   "id": "908df5e0",
   "metadata": {},
   "outputs": [
    {
     "name": "stderr",
     "output_type": "stream",
     "text": [
      "C:\\Users\\tomas\\AppData\\Local\\Temp\\ipykernel_9764\\1481029630.py:26: SettingWithCopyWarning: \n",
      "A value is trying to be set on a copy of a slice from a DataFrame.\n",
      "Try using .loc[row_indexer,col_indexer] = value instead\n",
      "\n",
      "See the caveats in the documentation: https://pandas.pydata.org/pandas-docs/stable/user_guide/indexing.html#returning-a-view-versus-a-copy\n",
      "  Filas_Filtradas[Columna_Operada_A] *= (1 + (Porcentaje / 100))\n",
      "C:\\Users\\tomas\\AppData\\Local\\Temp\\ipykernel_9764\\1481029630.py:27: SettingWithCopyWarning: \n",
      "A value is trying to be set on a copy of a slice from a DataFrame.\n",
      "Try using .loc[row_indexer,col_indexer] = value instead\n",
      "\n",
      "See the caveats in the documentation: https://pandas.pydata.org/pandas-docs/stable/user_guide/indexing.html#returning-a-view-versus-a-copy\n",
      "  Filas_Filtradas[Columna_Operada_B] *= (1 + (Porcentaje / 100))\n"
     ]
    }
   ],
   "source": [
    "# Aumentos porcentuales\n",
    "#df = Aumento_Porcentual(df, 'Marca', 'MARCA A AUMENTAR', 'Precio', 'Costo', PORCENTAJE EN NÚMERO ENTERO)\n",
    "\n",
    "df = Aumento_Porcentual(df, 'Marca', 'Zimpi', 'Precio', 'Costo', 8)\n",
    "df = Aumento_Porcentual(df, 'Marca', '9 Lives', 'Precio', 'Costo', 8)\n",
    "df = Aumento_Porcentual(df, 'Marca', 'Compinche', 'Precio', 'Costo', 8)\n",
    "df = Aumento_Porcentual(df, 'Marca', 'Caro Amici', 'Precio', 'Costo', 8)"
   ]
  },
  {
   "cell_type": "code",
   "execution_count": 134,
   "id": "e314a5c0",
   "metadata": {},
   "outputs": [],
   "source": [
    "# Redondeo a la columna 'Precio'\n",
    "df = Redondear_Arriba_Multiplo(df, 'Precio', 10)\n",
    "\n",
    "# Reemplazamos 0 por ''\n",
    "df['Marca'] = df['Marca'].replace(0, \"\")\n",
    "df['Categoría'] = df['Categoría'].replace(0, \"\")\n",
    "df['Subcategoria'] = df['Subcategoria'].replace(0, \"\")\n",
    "df['Proveedor'] = df['Proveedor'].replace(0, \"\")\n",
    "df['Unidad'] = df['Unidad'].replace(0, \"\")"
   ]
  },
  {
   "cell_type": "code",
   "execution_count": 135,
   "id": "46aecbb3",
   "metadata": {},
   "outputs": [],
   "source": [
    "# Guarda el df con los datos nuevos en la ubicación de Forraje\n",
    "Guarda_Excel_Diseñado(df, Database)"
   ]
  },
  {
   "cell_type": "code",
   "execution_count": 136,
   "id": "f4b57ab4",
   "metadata": {},
   "outputs": [],
   "source": [
    "# Guarda un df con todos los aumentados\n",
    "\n",
    "# Filtro las filas con los aumentados\n",
    "Grupo_Pilar = Filtrar_Filas(df, 'Subcategoria', 'Grupo Pilar')\n",
    "\n",
    "# Sumo esos mini df en uno que se llama df_Aumentados\n",
    "# df_Aumentado = Sumar_Filas_de_Dataframes(AUMENTADO_1, AUMENTADO_2,...)\n",
    "\n",
    "Guarda_Excel_Diseñado(Grupo_Pilar, 'J:/Mi unidad/Forraje/Aumentados.xlsx')"
   ]
  },
  {
   "cell_type": "code",
   "execution_count": null,
   "id": "8b6a0468",
   "metadata": {},
   "outputs": [],
   "source": []
  }
 ],
 "metadata": {
  "kernelspec": {
   "display_name": "Python 3 (ipykernel)",
   "language": "python",
   "name": "python3"
  },
  "language_info": {
   "codemirror_mode": {
    "name": "ipython",
    "version": 3
   },
   "file_extension": ".py",
   "mimetype": "text/x-python",
   "name": "python",
   "nbconvert_exporter": "python",
   "pygments_lexer": "ipython3",
   "version": "3.10.9"
  }
 },
 "nbformat": 4,
 "nbformat_minor": 5
}
