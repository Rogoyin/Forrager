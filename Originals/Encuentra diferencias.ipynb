{
 "cells": [
  {
   "cell_type": "code",
   "execution_count": 6,
   "id": "5cb16ae2-8d82-4463-bfae-213f0ebfa10a",
   "metadata": {},
   "outputs": [],
   "source": [
    "import pandas as pd"
   ]
  },
  {
   "cell_type": "code",
   "execution_count": 7,
   "id": "ab2894d2-0e41-43e6-9601-591f049e0901",
   "metadata": {},
   "outputs": [],
   "source": [
    "Database1 = 'J:/My Drive/Forraje/Marcas y subcategorías.xlsx'\n",
    "\n",
    "# Crear el DataFrame utilizando esas columnas\n",
    "df1 = pd.read_excel(Database1)"
   ]
  },
  {
   "cell_type": "code",
   "execution_count": 8,
   "id": "1a048fc8-4f94-42a2-9a69-e23fb4466a93",
   "metadata": {},
   "outputs": [],
   "source": [
    "Database2 = 'J:/My Drive/Forraje/Exportar.xls'\n",
    "\n",
    "# Crear el DataFrame utilizando esas columnas\n",
    "df2 = pd.read_excel(Database2)"
   ]
  },
  {
   "cell_type": "code",
   "execution_count": 9,
   "id": "3c391a73-4716-4331-b9cd-1b7b927945c8",
   "metadata": {},
   "outputs": [],
   "source": [
    "def comparar_columnas(df1, col1, df2, col2):\n",
    "    # Convertir las columnas a conjuntos para obtener valores únicos\n",
    "    set_col1 = set(df1[col1])\n",
    "    set_col2 = set(df2[col2])\n",
    "    \n",
    "    # Encontrar valores únicos en cada columna\n",
    "    unique_in_col1 = set_col1 - set_col2\n",
    "    unique_in_col2 = set_col2 - set_col1\n",
    "    \n",
    "    # Crear un dataframe con los resultados\n",
    "    unique_values = {\n",
    "        'Valor': list(unique_in_col1) + list(unique_in_col2),\n",
    "        'DataFrame': ['Proveedores'] * len(unique_in_col1) + ['Sistema/Marcas'] * len(unique_in_col2)\n",
    "    }\n",
    "    \n",
    "    result_df = pd.DataFrame(unique_values)\n",
    "\n",
    "    # Configura Pandas para mostrar todas las filas\n",
    "    pd.set_option('display.max_rows', None)\n",
    "    \n",
    "    return result_df"
   ]
  },
  {
   "cell_type": "code",
   "execution_count": 10,
   "id": "47a3d2cb-369d-4d49-90cb-21716910f2eb",
   "metadata": {},
   "outputs": [
    {
     "data": {
      "text/html": [
       "<div>\n",
       "<style scoped>\n",
       "    .dataframe tbody tr th:only-of-type {\n",
       "        vertical-align: middle;\n",
       "    }\n",
       "\n",
       "    .dataframe tbody tr th {\n",
       "        vertical-align: top;\n",
       "    }\n",
       "\n",
       "    .dataframe thead th {\n",
       "        text-align: right;\n",
       "    }\n",
       "</style>\n",
       "<table border=\"1\" class=\"dataframe\">\n",
       "  <thead>\n",
       "    <tr style=\"text-align: right;\">\n",
       "      <th></th>\n",
       "      <th>Valor</th>\n",
       "      <th>DataFrame</th>\n",
       "    </tr>\n",
       "  </thead>\n",
       "  <tbody>\n",
       "  </tbody>\n",
       "</table>\n",
       "</div>"
      ],
      "text/plain": [
       "Empty DataFrame\n",
       "Columns: [Valor, DataFrame]\n",
       "Index: []"
      ]
     },
     "execution_count": 10,
     "metadata": {},
     "output_type": "execute_result"
    }
   ],
   "source": [
    "comparar_columnas(df1, 'Descripcion', df2, 'Descripción')"
   ]
  },
  {
   "cell_type": "code",
   "execution_count": null,
   "id": "98a725b5-9fc2-4bf0-882d-a204141c99fe",
   "metadata": {},
   "outputs": [],
   "source": []
  },
  {
   "cell_type": "code",
   "execution_count": null,
   "id": "1c6170f3-3e98-4530-867b-31cc400c9bd1",
   "metadata": {},
   "outputs": [],
   "source": []
  },
  {
   "cell_type": "code",
   "execution_count": null,
   "id": "5cd674ed-81a4-491e-9bf4-d6327e572abf",
   "metadata": {},
   "outputs": [],
   "source": []
  }
 ],
 "metadata": {
  "kernelspec": {
   "display_name": "Python 3",
   "language": "python",
   "name": "python3"
  },
  "language_info": {
   "codemirror_mode": {
    "name": "ipython",
    "version": 3
   },
   "file_extension": ".py",
   "mimetype": "text/x-python",
   "name": "python",
   "nbconvert_exporter": "python",
   "pygments_lexer": "ipython3",
   "version": "3.11.9"
  }
 },
 "nbformat": 4,
 "nbformat_minor": 5
}
