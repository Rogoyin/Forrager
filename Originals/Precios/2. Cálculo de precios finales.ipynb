{
 "cells": [
  {
   "cell_type": "markdown",
   "id": "ecf2b231",
   "metadata": {},
   "source": [
    "El objetivo de este documento es producir un archivo .xlsx final en el que analizar qué precios subir y cuáles no."
   ]
  },
  {
   "cell_type": "markdown",
   "id": "b9c94921",
   "metadata": {},
   "source": [
    "#### Comandos útiles.\n",
    "\n",
    "- *Sumar una arriba.* A\n",
    "- *Sumar una abajo.* B\n",
    "- *Borrar.* D + D\n",
    "- *Convertirla en texto.* M"
   ]
  },
  {
   "cell_type": "code",
   "execution_count": 1,
   "id": "52dfa559",
   "metadata": {},
   "outputs": [],
   "source": [
    "import math \n",
    "import re\n",
    "import pandas as pd\n",
    "import openpyxl\n",
    "from openpyxl import Workbook, load_workbook\n",
    "from openpyxl.utils import get_column_letter\n",
    "from openpyxl.utils.dataframe import dataframe_to_rows\n",
    "from openpyxl.styles import NamedStyle, Font, PatternFill, Border, Side, Alignment, Color\n",
    "from openpyxl.worksheet.dimensions import ColumnDimension, DimensionHolder\n",
    "from openpyxl.worksheet.worksheet import Worksheet"
   ]
  },
  {
   "cell_type": "code",
   "execution_count": 2,
   "id": "8bc442e7",
   "metadata": {},
   "outputs": [],
   "source": [
    "# Cargar funciones de otros archivos.\n",
    "\n",
    "\n",
    "%run \"Funciones para Excel.ipynb\"\n",
    "%run \"Funciones útiles.ipynb\""
   ]
  },
  {
   "cell_type": "code",
   "execution_count": 3,
   "id": "b538a0ca-fe01-4f1a-a779-51cded983b42",
   "metadata": {},
   "outputs": [],
   "source": [
    "# Ofertas y precios establecidos.\n",
    "\n",
    "Ofertas = {'Solo x 15 kg.': 10900,\n",
    "           'Zimpi x 15 kg.': 11800,\n",
    "           'Leña x 10 kg.': 1900,\n",
    "           'Pipeta Hectopar 00-04 kg.': 1650,\n",
    "           'Pipeta Hectopar 05-10 kg.': 1650,\n",
    "           'Pipeta Hectopar 10-20 kg.': 1650,\n",
    "           'Pipeta Hectopar 20-40 kg.': 1650,\n",
    "           'Pipeta Hectopar 40-60 kg.': 1650,\n",
    "           'Pipeta Hectopar Gato 00-04 kg.': 1650,\n",
    "           'Pipeta Hectopar Gato 04-08 kg.': 1650,}"
   ]
  },
  {
   "cell_type": "markdown",
   "id": "3b988a92",
   "metadata": {},
   "source": [
    "### Etapa 0"
   ]
  },
  {
   "cell_type": "code",
   "execution_count": 4,
   "id": "ec8394fe",
   "metadata": {},
   "outputs": [],
   "source": [
    "#-.\n",
    "\n",
    "Sistema = 'J:/My Drive/Forraje/Exportar.xls'"
   ]
  },
  {
   "cell_type": "code",
   "execution_count": 5,
   "id": "e0f89e76",
   "metadata": {},
   "outputs": [],
   "source": [
    "#-.\n",
    "\n",
    "#Dataframe del archivo bajado de Nex.\n",
    "\n",
    "df_Sistema = pd.read_excel(Sistema)"
   ]
  },
  {
   "cell_type": "code",
   "execution_count": 6,
   "id": "1fe5b5db",
   "metadata": {},
   "outputs": [],
   "source": [
    "#-.\n",
    "\n",
    "# Reemplazar caracteres indeseados en Markup %.\n",
    "\n",
    "df_Sistema['Markup %'] = df_Sistema['Markup %'].str.replace('%', '')\n",
    "df_Sistema['Markup %'] = df_Sistema['Markup %'].str.replace(',', '.')"
   ]
  },
  {
   "cell_type": "code",
   "execution_count": 7,
   "id": "dcf6b66c",
   "metadata": {},
   "outputs": [],
   "source": [
    "#-.\n",
    "\n",
    "# Columna Markup % a float.\n",
    "\n",
    "df_Sistema['Markup %'] = df_Sistema['Markup %'].astype(float)"
   ]
  },
  {
   "cell_type": "code",
   "execution_count": 8,
   "id": "9bd04068",
   "metadata": {},
   "outputs": [],
   "source": [
    "#-.\n",
    "\n",
    "# Covertimos nombres de columnas a los deseados, sin acentos.\n",
    "\n",
    "df_Sistema.rename(columns={'Descripción': 'Descripcion'}, inplace=True)\n",
    "df_Sistema.rename(columns={'Código': 'Codigo'}, inplace=True)\n",
    "df_Sistema.rename(columns={'Costo Unitário': 'Costo'}, inplace=True)\n",
    "df_Sistema.rename(columns={'Categoría': 'Categoria'}, inplace=True)\n",
    "df_Sistema.rename(columns={'Proveedor Principal': 'Proveedor'}, inplace=True)"
   ]
  },
  {
   "cell_type": "markdown",
   "id": "8b421faa",
   "metadata": {},
   "source": [
    "### Etapa 1"
   ]
  },
  {
   "cell_type": "code",
   "execution_count": 9,
   "id": "1d77f56e",
   "metadata": {},
   "outputs": [],
   "source": [
    "#-.\n",
    "\n",
    "# Columnas de interés del archivo Sistema.\n",
    "\n",
    "columnas_Sistema = ['Codigo','Descripcion','Costo','Markup %','Precio','Proveedor','Categoria']\n",
    "\n",
    "# Eliminar las columnas que no están en la lista de columnas a mantener\n",
    "columnas_A_Eliminar = [col for col in df_Sistema.columns if col not in columnas_Sistema]\n",
    "df_Sistema = df_Sistema.drop(columns=columnas_A_Eliminar)"
   ]
  },
  {
   "cell_type": "code",
   "execution_count": 10,
   "id": "ea166a1e",
   "metadata": {},
   "outputs": [],
   "source": [
    "#-. \n",
    "\n",
    "#Renombramos columnas.\n",
    "\n",
    "df_Sistema.rename(columns={'Codigo': 'Codigo Sistema'}, inplace=True)\n",
    "df_Sistema.rename(columns={'Descripcion': 'Descripcion Sistema'}, inplace=True)\n",
    "df_Sistema.rename(columns={'Costo': 'Costo Sistema'}, inplace=True)\n",
    "df_Sistema.rename(columns={'Precio': 'Precio Sistema'}, inplace=True)\n",
    "df_Sistema.rename(columns={'Markup %': 'Markup % Sistema'}, inplace=True)\n",
    "df_Sistema.rename(columns={'Proveedor': 'Proveedor Sistema'}, inplace=True)\n",
    "df_Sistema.rename(columns={'Categoria': 'Categoria Sistema'}, inplace=True)"
   ]
  },
  {
   "cell_type": "markdown",
   "id": "bbf7a6e5",
   "metadata": {},
   "source": [
    "### Etapa 2"
   ]
  },
  {
   "cell_type": "code",
   "execution_count": 11,
   "id": "bb43ab34",
   "metadata": {},
   "outputs": [],
   "source": [
    "#-.\n",
    "\n",
    "Proveedores = f'J:/My Drive/Forraje/Calculados/Costos comparados.csv'"
   ]
  },
  {
   "cell_type": "code",
   "execution_count": 12,
   "id": "0273b2e9",
   "metadata": {},
   "outputs": [],
   "source": [
    "#-.\n",
    "\n",
    "# Crear el DataFrame utilizando esas columnas\n",
    "df_Proveedores = pd.read_csv(Proveedores)"
   ]
  },
  {
   "cell_type": "code",
   "execution_count": 13,
   "id": "168933e3",
   "metadata": {},
   "outputs": [],
   "source": [
    "#-.\n",
    "\n",
    "# Diccionario con cada cosa como debe ser.\n",
    "Correspondencia = {\n",
    "    \"Gato Granel\": {\"Markup %\": \"48\", \"Unidad\": \"KG\"},\n",
    "    \"Gato\": {\"Markup %\": \"32\", \"Unidad\": \"UN\"},\n",
    "    \"Perro Adulto Granel\": {\"Markup %\": \"48\", \"Unidad\": \"KG\"},\n",
    "    \"Perro Adulto\": {\"Markup %\": \"32\", \"Unidad\": \"UN\"},\n",
    "    \"Perro Cachorro Granel\": {\"Markup %\": \"48\", \"Unidad\": \"KG\"},\n",
    "    \"Perro Cachorro\": {\"Markup %\": \"32\", \"Unidad\": \"UN\"},\n",
    "    \"Ropa\": {\"Markup %\": \"70\", \"Unidad\": \"UN\"},\n",
    "    \"Mascotas\": {\"Markup %\": \"50\", \"Unidad\": \"UN\"},\n",
    "    \"Limpieza\": {\"Markup %\": \"45\", \"Unidad\": \"UN\"},\n",
    "    \"Veterinaria\": {\"Markup %\": \"60\", \"Unidad\": \"UN\"},\n",
    "    \"Balanceados Granel\": {\"Markup %\": \"45\", \"Unidad\": \"KG\"},\n",
    "    \"Balanceados\": {\"Markup %\": \"32\", \"Unidad\": \"UN\"},\n",
    "    \"Venenos\": {\"Markup %\": \"50\", \"Unidad\": \"UN\"},\n",
    "    \"Liquidos\": {\"Markup %\": \"40\", \"Unidad\": \"UN\"},\n",
    "    \"Pileta\": {\"Markup %\": \"50\", \"Unidad\": \"UN\"},\n",
    "    \"General\": {\"Markup %\": \"50\", \"Unidad\": \"UN\"},\n",
    "}"
   ]
  },
  {
   "cell_type": "code",
   "execution_count": 14,
   "id": "9e78c557",
   "metadata": {},
   "outputs": [],
   "source": [
    "#-.\n",
    "\n",
    "df_Proveedores['Markup %'] = 0\n",
    "df_Proveedores['Unidad'] = 0\n",
    "\n",
    "# Utilizar el método map de pandas para aplicar el mapeo a las columnas B y C basado en los valores de la columna A\n",
    "df_Proveedores['Markup %'] = df_Proveedores['Categoria'].map(lambda x: Correspondencia[x]['Markup %'])\n",
    "df_Proveedores['Unidad'] = df_Proveedores['Categoria'].map(lambda x: Correspondencia[x]['Unidad'])\n"
   ]
  },
  {
   "cell_type": "code",
   "execution_count": 15,
   "id": "64b048a6",
   "metadata": {},
   "outputs": [],
   "source": [
    "#-.\n",
    "\n",
    "#Renombramos columnas.\n",
    "\n",
    "df_Proveedores.rename(columns={'Codigo': 'Codigo Proveedores'}, inplace=True)\n",
    "df_Proveedores.rename(columns={'Descripcion': 'Descripcion Proveedores'}, inplace=True)\n",
    "df_Proveedores.rename(columns={'Costo': 'Costo Proveedores'}, inplace=True)\n",
    "df_Proveedores.rename(columns={'Proveedor': 'Proveedor Proveedores'}, inplace=True)\n",
    "df_Proveedores.rename(columns={'Categoria': 'Categoria Proveedores'}, inplace=True)\n",
    "df_Proveedores.rename(columns={'Markup %': 'Markup % Proveedores'}, inplace=True)"
   ]
  },
  {
   "cell_type": "markdown",
   "id": "7ca7219f",
   "metadata": {},
   "source": [
    "### Etapa intermedia. Control"
   ]
  },
  {
   "cell_type": "code",
   "execution_count": 16,
   "id": "d518a90f",
   "metadata": {},
   "outputs": [],
   "source": [
    "#-. \n",
    "\n",
    "# Verificación de cantidad de productos en ambas listas.\n",
    "\n",
    "if len(df_Sistema['Descripcion Sistema']) != len(df_Proveedores['Descripcion Proveedores']):\n",
    "    exit()\n",
    "    \n",
    "for i in range(len(df_Sistema['Descripcion Sistema'])):\n",
    "    if df_Sistema['Descripcion Sistema'][i] != df_Proveedores['Descripcion Proveedores'][i]:\n",
    "        print(f\"Diferencia encontrada en la posición {i}:\")\n",
    "        print(f\"Valor en df_Sistema['Descripcion Sistema'][{i}]: {df_Sistema['Descripcion Sistema'][i]}\")\n",
    "        print(f\"Valor en df_Proveedores['Descripcion Proveedores'][{i}]: {df_Proveedores['Descripcion Proveedores'][i]}\")\n",
    "        exit()"
   ]
  },
  {
   "cell_type": "markdown",
   "id": "ec773f87",
   "metadata": {},
   "source": [
    "### Etapa 3"
   ]
  },
  {
   "cell_type": "code",
   "execution_count": 17,
   "id": "3f933079",
   "metadata": {},
   "outputs": [],
   "source": [
    "#-.\n",
    "\n",
    "# Creamos un df combinando los dos anteriores.\n",
    "df = pd.concat([df_Sistema, df_Proveedores], axis=1)"
   ]
  },
  {
   "cell_type": "code",
   "execution_count": 18,
   "id": "51963325",
   "metadata": {},
   "outputs": [],
   "source": [
    "#-.\n",
    "\n",
    "Columnas_a_Borrar = [\"Descripcion Sistema\",\"Markup % Sistema\", 'Categoria Proveedores',\n",
    "           \"Codigo Proveedores\", \"Proveedor Proveedores\", \"Unidad\"]\n",
    "\n",
    "# Borrar columnas.\n",
    "df = df.drop(columns=Columnas_a_Borrar)"
   ]
  },
  {
   "cell_type": "code",
   "execution_count": 19,
   "id": "0ad7b6d5",
   "metadata": {},
   "outputs": [],
   "source": [
    "#-.\n",
    "\n",
    "# Agregamos columnas nuevas.\n",
    "\n",
    "columnas_Nuevas = ['Costo Calculado', 'Costo Final', 'Costo Relacion',\n",
    "                   'Precio Calculado', 'Precio Final', 'Precio Relacion']\n",
    "\n",
    "# Agregar las nuevas columnas al DataFrame con valores vacíos\n",
    "for i in columnas_Nuevas:\n",
    "    df = df.assign(**{i: pd.Series([0] * len(df))})"
   ]
  },
  {
   "cell_type": "code",
   "execution_count": 20,
   "id": "f5aaa70f",
   "metadata": {},
   "outputs": [],
   "source": [
    "#-.\n",
    "\n",
    "#Renombramos columnas.\n",
    "\n",
    "df.rename(columns={'Codigo Sistema': 'Codigo'}, inplace=True)\n",
    "df.rename(columns={'Descripcion Proveedores': 'Descripcion'}, inplace=True)\n",
    "df.rename(columns={'Proveedor Sistema': 'Proveedor'}, inplace=True)\n",
    "df.rename(columns={'Categoria Sistema': 'Categoria'}, inplace=True)\n",
    "df.rename(columns={'Markup % Proveedores': 'Markup %'}, inplace=True)"
   ]
  },
  {
   "cell_type": "code",
   "execution_count": 21,
   "id": "8449655d",
   "metadata": {},
   "outputs": [],
   "source": [
    "#-.\n",
    "\n",
    "# Convertimos a float las columnas.\n",
    "df['Costo Sistema'] = df['Costo Sistema'].astype(float)\n",
    "df['Costo Proveedores'] = df['Costo Proveedores'].astype(str)\n",
    "df['Costo Proveedores'] = df['Costo Proveedores'].str.replace(',','.')\n",
    "df['Costo Proveedores'] = df['Costo Proveedores'].astype(float)"
   ]
  },
  {
   "cell_type": "code",
   "execution_count": 22,
   "id": "12d5e5c5",
   "metadata": {},
   "outputs": [],
   "source": [
    "#-.\n",
    "\n",
    "# Columna Costo Final.\n",
    "df['Costo Final'] = df.apply(lambda row: max(row['Costo Sistema'], row['Costo Proveedores']), axis=1)\n"
   ]
  },
  {
   "cell_type": "code",
   "execution_count": 23,
   "id": "666b4c07",
   "metadata": {},
   "outputs": [],
   "source": [
    "#-.\n",
    "\n",
    "# Si da NaN, se reemplaza por 0.\n",
    "df['Costo Final'] = df['Costo Final'].fillna(0)"
   ]
  },
  {
   "cell_type": "code",
   "execution_count": 24,
   "id": "dea887bb",
   "metadata": {},
   "outputs": [],
   "source": [
    "#-.\n",
    "\n",
    "#Reordenamos las columnas.\n",
    "\n",
    "Orden_Columnas = [\"Codigo\", \"Descripcion\", \"Precio Sistema\", \"Costo Sistema\", \"Costo Proveedores\", \"Costo Final\",\n",
    "                  \"Markup %\", \"Categoria\", \"Proveedor\"]\n",
    "\n",
    "# Ordenar las columnas del DataFrame según la lista de columnas\n",
    "df = df.reindex(columns=Orden_Columnas)"
   ]
  },
  {
   "cell_type": "markdown",
   "id": "52a3c0f1",
   "metadata": {},
   "source": [
    "### Etapa 4"
   ]
  },
  {
   "cell_type": "code",
   "execution_count": 25,
   "id": "aea0753d",
   "metadata": {},
   "outputs": [],
   "source": [
    "#-.\n",
    "\n",
    "Granel = 'J:/My Drive/Forraje/Granel.xlsx'"
   ]
  },
  {
   "cell_type": "code",
   "execution_count": 26,
   "id": "869bad0e",
   "metadata": {},
   "outputs": [],
   "source": [
    "#-.\n",
    "\n",
    "# Dataframe de Granel.\n",
    "\n",
    "df_Granel = pd.read_excel(Granel)"
   ]
  },
  {
   "cell_type": "code",
   "execution_count": 27,
   "id": "e745ff4f",
   "metadata": {},
   "outputs": [],
   "source": [
    "#-. \n",
    "\n",
    "# Extracción de números.\n",
    "\n",
    "df_Granel = Extraer_Ultimos_Numeros(df_Granel, 'Bolsa', 'Kilos')\n"
   ]
  },
  {
   "cell_type": "code",
   "execution_count": 28,
   "id": "57efecae",
   "metadata": {},
   "outputs": [],
   "source": [
    "#-.\n",
    "\n",
    "# Creamos Costo Bolsa y Costo Kilo\n",
    "df_Granel['Costo Bolsa'], df_Granel['Costo Kilo'] = '', ''"
   ]
  },
  {
   "cell_type": "code",
   "execution_count": 29,
   "id": "362d34b7",
   "metadata": {},
   "outputs": [],
   "source": [
    "#-.\n",
    "\n",
    "# Adicionamos los costos de las bolsas del df.\n",
    "df_Granel = Comparar_Df_y_Copiar(df_Granel, df, 'Bolsa', 'Descripcion', 'Costo Bolsa', 'Costo Final')"
   ]
  },
  {
   "cell_type": "code",
   "execution_count": 30,
   "id": "ccf47021",
   "metadata": {},
   "outputs": [
    {
     "name": "stderr",
     "output_type": "stream",
     "text": [
      "C:\\Users\\tomas\\AppData\\Local\\Temp\\ipykernel_11512\\768723876.py:4: FutureWarning: Downcasting behavior in `replace` is deprecated and will be removed in a future version. To retain the old behavior, explicitly call `result.infer_objects(copy=False)`. To opt-in to the future behavior, set `pd.set_option('future.no_silent_downcasting', True)`\n",
      "  df_Granel = df_Granel.replace('', 0)\n"
     ]
    }
   ],
   "source": [
    "#-.\n",
    "\n",
    "# Reemplazar los valores vacíos con 0\n",
    "df_Granel = df_Granel.replace('', 0)\n",
    "\n",
    "# Convertimos las columnas a float.\n",
    "df_Granel['Costo Bolsa'] = df_Granel['Costo Bolsa'].astype(float)\n",
    "df_Granel['Kilos'] = df_Granel['Kilos'].astype(float)\n"
   ]
  },
  {
   "cell_type": "code",
   "execution_count": 31,
   "id": "48a8fc94",
   "metadata": {},
   "outputs": [],
   "source": [
    "#-. \n",
    "\n",
    "# Generamos la columna Costo Kilo.\n",
    "\n",
    "df_Granel['Costo Kilo'] = df_Granel['Costo Bolsa']/df_Granel['Kilos']"
   ]
  },
  {
   "cell_type": "code",
   "execution_count": 32,
   "id": "b3142daa",
   "metadata": {},
   "outputs": [],
   "source": [
    "#-.\n",
    "\n",
    "# Adicionamos los costos de los kilos al df.\n",
    "df = Comparar_Df_y_Copiar(df, df_Granel, 'Descripcion', 'Granel', 'Costo Proveedores', 'Costo Kilo')"
   ]
  },
  {
   "cell_type": "markdown",
   "id": "c01f61bc",
   "metadata": {},
   "source": [
    "### Etapa 5"
   ]
  },
  {
   "cell_type": "code",
   "execution_count": 33,
   "id": "75a3db1c",
   "metadata": {},
   "outputs": [],
   "source": [
    "#-.\n",
    "\n",
    "Fraccion = 'J:/My Drive/Forraje/Fraccionables.xls'"
   ]
  },
  {
   "cell_type": "code",
   "execution_count": 34,
   "id": "0ef4c6c4",
   "metadata": {},
   "outputs": [],
   "source": [
    "#-.\n",
    "\n",
    "# Dataframe de Fraccionables.\n",
    "\n",
    "df_Fraccion = pd.read_excel(Fraccion)"
   ]
  },
  {
   "cell_type": "code",
   "execution_count": 35,
   "id": "d88319e7",
   "metadata": {},
   "outputs": [],
   "source": [
    "#-.\n",
    "\n",
    "# Extracción de números.\n",
    "\n",
    "df_Fraccion = Extraer_Ultimos_Numeros(df_Fraccion, 'Fraccionable', 'Unidades')"
   ]
  },
  {
   "cell_type": "code",
   "execution_count": 36,
   "id": "77a6d430",
   "metadata": {},
   "outputs": [],
   "source": [
    "#-.\n",
    "\n",
    "# Creamos Costo Bolsa y Costo Kilo\n",
    "df_Fraccion['Costo Paquete'], df_Fraccion['Costo Unidad'] = '', ''"
   ]
  },
  {
   "cell_type": "code",
   "execution_count": 37,
   "id": "8ae44612",
   "metadata": {},
   "outputs": [],
   "source": [
    "#-.\n",
    "\n",
    "# Adicionamos los costos de los paquetes del df.\n",
    "df_Fraccion = Comparar_Df_y_Copiar(df_Fraccion, df, 'Fraccionable', 'Descripcion', 'Costo Paquete', 'Costo Final')"
   ]
  },
  {
   "cell_type": "code",
   "execution_count": 38,
   "id": "44db391c",
   "metadata": {},
   "outputs": [
    {
     "name": "stderr",
     "output_type": "stream",
     "text": [
      "C:\\Users\\tomas\\AppData\\Local\\Temp\\ipykernel_11512\\3055173048.py:4: FutureWarning: Downcasting behavior in `replace` is deprecated and will be removed in a future version. To retain the old behavior, explicitly call `result.infer_objects(copy=False)`. To opt-in to the future behavior, set `pd.set_option('future.no_silent_downcasting', True)`\n",
      "  df_Fraccion = df_Fraccion.replace('', 0)\n"
     ]
    }
   ],
   "source": [
    "#-.\n",
    "\n",
    "# Reemplazar los valores vacíos con 0\n",
    "df_Fraccion = df_Fraccion.replace('', 0)\n",
    "\n",
    "# Convertimos las columnas a float.\n",
    "df_Fraccion['Costo Paquete'] = df_Fraccion['Costo Paquete'].astype(float)\n",
    "df_Fraccion['Unidades'] = df_Fraccion['Unidades'].astype(float)"
   ]
  },
  {
   "cell_type": "code",
   "execution_count": 39,
   "id": "03647a1d",
   "metadata": {},
   "outputs": [],
   "source": [
    "#-.\n",
    "\n",
    "# Generamos la columna Costo Kilo.\n",
    "\n",
    "df_Fraccion['Costo Unidad'] = df_Fraccion['Costo Paquete']/df_Fraccion['Unidades']"
   ]
  },
  {
   "cell_type": "code",
   "execution_count": 40,
   "id": "e86cee86",
   "metadata": {},
   "outputs": [
    {
     "name": "stderr",
     "output_type": "stream",
     "text": [
      "C:\\Users\\tomas\\AppData\\Local\\Temp\\ipykernel_11512\\629439551.py:5: FutureWarning: ChainedAssignmentError: behaviour will change in pandas 3.0!\n",
      "You are setting values through chained assignment. Currently this works in certain cases, but when using Copy-on-Write (which will become the default behaviour in pandas 3.0) this will never work to update the original DataFrame or Series, because the intermediate object on which we are setting values will behave as a copy.\n",
      "A typical example is when you are setting values in a column of a DataFrame, like:\n",
      "\n",
      "df[\"col\"][row_indexer] = value\n",
      "\n",
      "Use `df.loc[row_indexer, \"col\"] = values` instead, to perform the assignment in a single step and ensure this keeps updating the original `df`.\n",
      "\n",
      "See the caveats in the documentation: https://pandas.pydata.org/pandas-docs/stable/user_guide/indexing.html#returning-a-view-versus-a-copy\n",
      "\n",
      "  df_Fraccion['Costo Unidad'].iloc[34] = df_Fraccion['Costo Unidad'].iloc[34] + df_Fraccion['Costo Unidad'].iloc[33]\n",
      "C:\\Users\\tomas\\AppData\\Local\\Temp\\ipykernel_11512\\629439551.py:5: SettingWithCopyWarning: \n",
      "A value is trying to be set on a copy of a slice from a DataFrame\n",
      "\n",
      "See the caveats in the documentation: https://pandas.pydata.org/pandas-docs/stable/user_guide/indexing.html#returning-a-view-versus-a-copy\n",
      "  df_Fraccion['Costo Unidad'].iloc[34] = df_Fraccion['Costo Unidad'].iloc[34] + df_Fraccion['Costo Unidad'].iloc[33]\n"
     ]
    }
   ],
   "source": [
    "#-.\n",
    "\n",
    "# Ivomec.\n",
    "\n",
    "df_Fraccion['Costo Unidad'].iloc[34] = df_Fraccion['Costo Unidad'].iloc[34] + df_Fraccion['Costo Unidad'].iloc[33]"
   ]
  },
  {
   "cell_type": "code",
   "execution_count": 41,
   "id": "89b0c161",
   "metadata": {},
   "outputs": [
    {
     "name": "stderr",
     "output_type": "stream",
     "text": [
      "C:\\Users\\tomas\\AppData\\Local\\Temp\\ipykernel_11512\\3733208705.py:12: FutureWarning: ChainedAssignmentError: behaviour will change in pandas 3.0!\n",
      "You are setting values through chained assignment. Currently this works in certain cases, but when using Copy-on-Write (which will become the default behaviour in pandas 3.0) this will never work to update the original DataFrame or Series, because the intermediate object on which we are setting values will behave as a copy.\n",
      "A typical example is when you are setting values in a column of a DataFrame, like:\n",
      "\n",
      "df[\"col\"][row_indexer] = value\n",
      "\n",
      "Use `df.loc[row_indexer, \"col\"] = values` instead, to perform the assignment in a single step and ensure this keeps updating the original `df`.\n",
      "\n",
      "See the caveats in the documentation: https://pandas.pydata.org/pandas-docs/stable/user_guide/indexing.html#returning-a-view-versus-a-copy\n",
      "\n",
      "  df_Fraccion['Costo Unidad'].iloc[0] = df_Fraccion['Costo Unidad'].iloc[0]*25 + Costo_Botellita\n",
      "C:\\Users\\tomas\\AppData\\Local\\Temp\\ipykernel_11512\\3733208705.py:12: SettingWithCopyWarning: \n",
      "A value is trying to be set on a copy of a slice from a DataFrame\n",
      "\n",
      "See the caveats in the documentation: https://pandas.pydata.org/pandas-docs/stable/user_guide/indexing.html#returning-a-view-versus-a-copy\n",
      "  df_Fraccion['Costo Unidad'].iloc[0] = df_Fraccion['Costo Unidad'].iloc[0]*25 + Costo_Botellita\n"
     ]
    }
   ],
   "source": [
    "#-.\n",
    "\n",
    "# A otra parte.\n",
    "\n",
    "# Encontrar la fila donde la columna \"Descripcion\" es igual a \"Envase x 250 cc.\"\n",
    "Fila_Botellita = df.loc[df['Descripcion'] == 'Envase x 250 cc.']\n",
    "\n",
    "# Extraer el valor de la columna \"Costo Final\" de la fila encontrada\n",
    "Costo_Botellita = Fila_Botellita['Costo Final'].values[0]\n",
    "\n",
    "# Utiliza el método .iloc para acceder al primer elemento de la columna y asignarle el nuevo valor\n",
    "df_Fraccion['Costo Unidad'].iloc[0] = df_Fraccion['Costo Unidad'].iloc[0]*25 + Costo_Botellita\n"
   ]
  },
  {
   "cell_type": "code",
   "execution_count": 42,
   "id": "82192e3a",
   "metadata": {},
   "outputs": [
    {
     "name": "stderr",
     "output_type": "stream",
     "text": [
      "C:\\Users\\tomas\\AppData\\Local\\Temp\\ipykernel_11512\\3029145534.py:7: FutureWarning: ChainedAssignmentError: behaviour will change in pandas 3.0!\n",
      "You are setting values through chained assignment. Currently this works in certain cases, but when using Copy-on-Write (which will become the default behaviour in pandas 3.0) this will never work to update the original DataFrame or Series, because the intermediate object on which we are setting values will behave as a copy.\n",
      "A typical example is when you are setting values in a column of a DataFrame, like:\n",
      "\n",
      "df[\"col\"][row_indexer] = value\n",
      "\n",
      "Use `df.loc[row_indexer, \"col\"] = values` instead, to perform the assignment in a single step and ensure this keeps updating the original `df`.\n",
      "\n",
      "See the caveats in the documentation: https://pandas.pydata.org/pandas-docs/stable/user_guide/indexing.html#returning-a-view-versus-a-copy\n",
      "\n",
      "  df_Fraccion['Costo Unidad'].iloc[35] = Costo*0.06\n",
      "C:\\Users\\tomas\\AppData\\Local\\Temp\\ipykernel_11512\\3029145534.py:7: SettingWithCopyWarning: \n",
      "A value is trying to be set on a copy of a slice from a DataFrame\n",
      "\n",
      "See the caveats in the documentation: https://pandas.pydata.org/pandas-docs/stable/user_guide/indexing.html#returning-a-view-versus-a-copy\n",
      "  df_Fraccion['Costo Unidad'].iloc[35] = Costo*0.06\n",
      "C:\\Users\\tomas\\AppData\\Local\\Temp\\ipykernel_11512\\3029145534.py:8: FutureWarning: ChainedAssignmentError: behaviour will change in pandas 3.0!\n",
      "You are setting values through chained assignment. Currently this works in certain cases, but when using Copy-on-Write (which will become the default behaviour in pandas 3.0) this will never work to update the original DataFrame or Series, because the intermediate object on which we are setting values will behave as a copy.\n",
      "A typical example is when you are setting values in a column of a DataFrame, like:\n",
      "\n",
      "df[\"col\"][row_indexer] = value\n",
      "\n",
      "Use `df.loc[row_indexer, \"col\"] = values` instead, to perform the assignment in a single step and ensure this keeps updating the original `df`.\n",
      "\n",
      "See the caveats in the documentation: https://pandas.pydata.org/pandas-docs/stable/user_guide/indexing.html#returning-a-view-versus-a-copy\n",
      "\n",
      "  df_Fraccion['Costo Unidad'].iloc[36] = Costo*0.10\n",
      "C:\\Users\\tomas\\AppData\\Local\\Temp\\ipykernel_11512\\3029145534.py:8: SettingWithCopyWarning: \n",
      "A value is trying to be set on a copy of a slice from a DataFrame\n",
      "\n",
      "See the caveats in the documentation: https://pandas.pydata.org/pandas-docs/stable/user_guide/indexing.html#returning-a-view-versus-a-copy\n",
      "  df_Fraccion['Costo Unidad'].iloc[36] = Costo*0.10\n",
      "C:\\Users\\tomas\\AppData\\Local\\Temp\\ipykernel_11512\\3029145534.py:9: FutureWarning: ChainedAssignmentError: behaviour will change in pandas 3.0!\n",
      "You are setting values through chained assignment. Currently this works in certain cases, but when using Copy-on-Write (which will become the default behaviour in pandas 3.0) this will never work to update the original DataFrame or Series, because the intermediate object on which we are setting values will behave as a copy.\n",
      "A typical example is when you are setting values in a column of a DataFrame, like:\n",
      "\n",
      "df[\"col\"][row_indexer] = value\n",
      "\n",
      "Use `df.loc[row_indexer, \"col\"] = values` instead, to perform the assignment in a single step and ensure this keeps updating the original `df`.\n",
      "\n",
      "See the caveats in the documentation: https://pandas.pydata.org/pandas-docs/stable/user_guide/indexing.html#returning-a-view-versus-a-copy\n",
      "\n",
      "  df_Fraccion['Costo Unidad'].iloc[37] = Costo*0.12\n",
      "C:\\Users\\tomas\\AppData\\Local\\Temp\\ipykernel_11512\\3029145534.py:9: SettingWithCopyWarning: \n",
      "A value is trying to be set on a copy of a slice from a DataFrame\n",
      "\n",
      "See the caveats in the documentation: https://pandas.pydata.org/pandas-docs/stable/user_guide/indexing.html#returning-a-view-versus-a-copy\n",
      "  df_Fraccion['Costo Unidad'].iloc[37] = Costo*0.12\n",
      "C:\\Users\\tomas\\AppData\\Local\\Temp\\ipykernel_11512\\3029145534.py:10: FutureWarning: ChainedAssignmentError: behaviour will change in pandas 3.0!\n",
      "You are setting values through chained assignment. Currently this works in certain cases, but when using Copy-on-Write (which will become the default behaviour in pandas 3.0) this will never work to update the original DataFrame or Series, because the intermediate object on which we are setting values will behave as a copy.\n",
      "A typical example is when you are setting values in a column of a DataFrame, like:\n",
      "\n",
      "df[\"col\"][row_indexer] = value\n",
      "\n",
      "Use `df.loc[row_indexer, \"col\"] = values` instead, to perform the assignment in a single step and ensure this keeps updating the original `df`.\n",
      "\n",
      "See the caveats in the documentation: https://pandas.pydata.org/pandas-docs/stable/user_guide/indexing.html#returning-a-view-versus-a-copy\n",
      "\n",
      "  df_Fraccion['Costo Unidad'].iloc[38] = Costo*0.14\n",
      "C:\\Users\\tomas\\AppData\\Local\\Temp\\ipykernel_11512\\3029145534.py:10: SettingWithCopyWarning: \n",
      "A value is trying to be set on a copy of a slice from a DataFrame\n",
      "\n",
      "See the caveats in the documentation: https://pandas.pydata.org/pandas-docs/stable/user_guide/indexing.html#returning-a-view-versus-a-copy\n",
      "  df_Fraccion['Costo Unidad'].iloc[38] = Costo*0.14\n",
      "C:\\Users\\tomas\\AppData\\Local\\Temp\\ipykernel_11512\\3029145534.py:11: FutureWarning: ChainedAssignmentError: behaviour will change in pandas 3.0!\n",
      "You are setting values through chained assignment. Currently this works in certain cases, but when using Copy-on-Write (which will become the default behaviour in pandas 3.0) this will never work to update the original DataFrame or Series, because the intermediate object on which we are setting values will behave as a copy.\n",
      "A typical example is when you are setting values in a column of a DataFrame, like:\n",
      "\n",
      "df[\"col\"][row_indexer] = value\n",
      "\n",
      "Use `df.loc[row_indexer, \"col\"] = values` instead, to perform the assignment in a single step and ensure this keeps updating the original `df`.\n",
      "\n",
      "See the caveats in the documentation: https://pandas.pydata.org/pandas-docs/stable/user_guide/indexing.html#returning-a-view-versus-a-copy\n",
      "\n",
      "  df_Fraccion['Costo Unidad'].iloc[39] = Costo*0.16\n",
      "C:\\Users\\tomas\\AppData\\Local\\Temp\\ipykernel_11512\\3029145534.py:11: SettingWithCopyWarning: \n",
      "A value is trying to be set on a copy of a slice from a DataFrame\n",
      "\n",
      "See the caveats in the documentation: https://pandas.pydata.org/pandas-docs/stable/user_guide/indexing.html#returning-a-view-versus-a-copy\n",
      "  df_Fraccion['Costo Unidad'].iloc[39] = Costo*0.16\n",
      "C:\\Users\\tomas\\AppData\\Local\\Temp\\ipykernel_11512\\3029145534.py:12: FutureWarning: ChainedAssignmentError: behaviour will change in pandas 3.0!\n",
      "You are setting values through chained assignment. Currently this works in certain cases, but when using Copy-on-Write (which will become the default behaviour in pandas 3.0) this will never work to update the original DataFrame or Series, because the intermediate object on which we are setting values will behave as a copy.\n",
      "A typical example is when you are setting values in a column of a DataFrame, like:\n",
      "\n",
      "df[\"col\"][row_indexer] = value\n",
      "\n",
      "Use `df.loc[row_indexer, \"col\"] = values` instead, to perform the assignment in a single step and ensure this keeps updating the original `df`.\n",
      "\n",
      "See the caveats in the documentation: https://pandas.pydata.org/pandas-docs/stable/user_guide/indexing.html#returning-a-view-versus-a-copy\n",
      "\n",
      "  df_Fraccion['Costo Unidad'].iloc[40] = Costo*0.20\n",
      "C:\\Users\\tomas\\AppData\\Local\\Temp\\ipykernel_11512\\3029145534.py:12: SettingWithCopyWarning: \n",
      "A value is trying to be set on a copy of a slice from a DataFrame\n",
      "\n",
      "See the caveats in the documentation: https://pandas.pydata.org/pandas-docs/stable/user_guide/indexing.html#returning-a-view-versus-a-copy\n",
      "  df_Fraccion['Costo Unidad'].iloc[40] = Costo*0.20\n",
      "C:\\Users\\tomas\\AppData\\Local\\Temp\\ipykernel_11512\\3029145534.py:13: FutureWarning: ChainedAssignmentError: behaviour will change in pandas 3.0!\n",
      "You are setting values through chained assignment. Currently this works in certain cases, but when using Copy-on-Write (which will become the default behaviour in pandas 3.0) this will never work to update the original DataFrame or Series, because the intermediate object on which we are setting values will behave as a copy.\n",
      "A typical example is when you are setting values in a column of a DataFrame, like:\n",
      "\n",
      "df[\"col\"][row_indexer] = value\n",
      "\n",
      "Use `df.loc[row_indexer, \"col\"] = values` instead, to perform the assignment in a single step and ensure this keeps updating the original `df`.\n",
      "\n",
      "See the caveats in the documentation: https://pandas.pydata.org/pandas-docs/stable/user_guide/indexing.html#returning-a-view-versus-a-copy\n",
      "\n",
      "  df_Fraccion['Costo Unidad'].iloc[41] = Costo*0.22\n",
      "C:\\Users\\tomas\\AppData\\Local\\Temp\\ipykernel_11512\\3029145534.py:13: SettingWithCopyWarning: \n",
      "A value is trying to be set on a copy of a slice from a DataFrame\n",
      "\n",
      "See the caveats in the documentation: https://pandas.pydata.org/pandas-docs/stable/user_guide/indexing.html#returning-a-view-versus-a-copy\n",
      "  df_Fraccion['Costo Unidad'].iloc[41] = Costo*0.22\n"
     ]
    }
   ],
   "source": [
    "#-.\n",
    "\n",
    "# Bozales.\n",
    "\n",
    "Costo = df_Fraccion['Costo Paquete'].iloc[35]\n",
    "\n",
    "df_Fraccion['Costo Unidad'].iloc[35] = Costo*0.06\n",
    "df_Fraccion['Costo Unidad'].iloc[36] = Costo*0.10\n",
    "df_Fraccion['Costo Unidad'].iloc[37] = Costo*0.12\n",
    "df_Fraccion['Costo Unidad'].iloc[38] = Costo*0.14\n",
    "df_Fraccion['Costo Unidad'].iloc[39] = Costo*0.16\n",
    "df_Fraccion['Costo Unidad'].iloc[40] = Costo*0.20\n",
    "df_Fraccion['Costo Unidad'].iloc[41] = Costo*0.22"
   ]
  },
  {
   "cell_type": "code",
   "execution_count": 43,
   "id": "9a857d56",
   "metadata": {},
   "outputs": [],
   "source": [
    "#-.\n",
    "\n",
    "# Adicionamos los costos por unidad al df.\n",
    "df = Comparar_Df_y_Copiar(df, df_Fraccion, 'Descripcion', 'Unidad', 'Costo Proveedores', 'Costo Unidad')"
   ]
  },
  {
   "cell_type": "markdown",
   "id": "63eda1c4",
   "metadata": {
    "jp-MarkdownHeadingCollapsed": true
   },
   "source": [
    "### Etapa 6"
   ]
  },
  {
   "cell_type": "code",
   "execution_count": 44,
   "id": "116f56e2",
   "metadata": {},
   "outputs": [],
   "source": [
    "#-.\n",
    "\n",
    "# Convertir Markup a float.\n",
    "\n",
    "df['Markup %'] = df['Markup %'].astype(float)"
   ]
  },
  {
   "cell_type": "code",
   "execution_count": 45,
   "id": "6a86ee45",
   "metadata": {},
   "outputs": [
    {
     "name": "stderr",
     "output_type": "stream",
     "text": [
      "C:\\Users\\tomas\\AppData\\Local\\Temp\\ipykernel_11512\\621744001.py:16: SettingWithCopyWarning: \n",
      "A value is trying to be set on a copy of a slice from a DataFrame.\n",
      "Try using .loc[row_indexer,col_indexer] = value instead\n",
      "\n",
      "See the caveats in the documentation: https://pandas.pydata.org/pandas-docs/stable/user_guide/indexing.html#returning-a-view-versus-a-copy\n",
      "  df[Columna] = Valor\n"
     ]
    }
   ],
   "source": [
    "#-.\n",
    "\n",
    "# Definir markup diferencial para algunas pipetas.\n",
    "\n",
    "\n",
    "# Pulmax Perro.\n",
    "Pulmax = ['Pipeta Pulmax 02-05 kg.', 'Pipeta Pulmax 05-10 kg.', 'Pipeta Pulmax 10-20 kg.', \n",
    "          'Pipeta Pulmax 20-40 kg.', 'Pipeta Pulmax 40-60 kg.']\n",
    "    \n",
    "Contador = 50\n",
    "for i in range (0, len(Pulmax)):\n",
    "    df = Filtrar_y_Rellenar(df, 'Descripcion', Pulmax[i], 'Markup %', Contador)\n",
    "    Contador = Contador + 5\n",
    "\n",
    "    \n",
    "# Pulmax Gato.\n",
    "Pulmax_Gato = ['Pipeta Pulmax Gato 00-04 kg.', 'Pipeta Pulmax Gato 04-08 kg.']\n",
    "\n",
    "Contador = 50 \n",
    "for i in range (0, len(Pulmax_Gato)):    \n",
    "    df = Filtrar_y_Rellenar(df, 'Descripcion', Pulmax_Gato[i], 'Markup %', Contador)\n",
    "    Contador = Contador + 5\n",
    "    \n",
    "    \n",
    "# Hectopar.\n",
    "Hectopar = ['Pipeta Hectopar 00-04 kg.', 'Pipeta Hectopar 05-10 kg.', 'Pipeta Hectopar 10-25 kg.',\n",
    "            'Pipeta Hectopar 25-40 kg.', 'Pipeta Hectopar 40-60 kg.']\n",
    "Contador = 50 \n",
    "for i in range (0, len(Hectopar)):    \n",
    "    df = Filtrar_y_Rellenar(df, 'Descripcion', Hectopar[i], 'Markup %', Contador)\n",
    "    Contador = Contador + 5\n",
    "    \n",
    "    \n",
    "# Hectopar Gato.\n",
    "Hectopar_Gato = ['Pipeta Hectopar Gato 00-04 kg.', 'Pipeta Hectopar Gato 05-08 kg.']\n",
    "Contador = 50 \n",
    "for i in range (0, len(Hectopar_Gato)):    \n",
    "    df = Filtrar_y_Rellenar(df, 'Descripcion', Hectopar_Gato[i], 'Markup %', Contador)\n",
    "    Contador = Contador + 5"
   ]
  },
  {
   "cell_type": "code",
   "execution_count": 46,
   "id": "67323f6e",
   "metadata": {},
   "outputs": [],
   "source": [
    "#-.\n",
    "\n",
    "# Columna Precio Proveedores.\n",
    "\n",
    "df['Precio Proveedores'] = df['Costo Proveedores']* (1 + (df['Markup %']/100))\n"
   ]
  },
  {
   "cell_type": "code",
   "execution_count": 47,
   "id": "f1b1e432",
   "metadata": {},
   "outputs": [],
   "source": [
    "#-.\n",
    "\n",
    "# Llenamos df de 0 si hay NaN.\n",
    "df = df.fillna(0)\n",
    "\n",
    "# Columna de Relaciones.\n",
    "\n",
    "df['Precio Relacion'] = df['Precio Proveedores'] / df['Precio Sistema']\n",
    "df['Costo Relacion'] = df['Costo Proveedores'] / df['Costo Sistema']\n"
   ]
  },
  {
   "cell_type": "code",
   "execution_count": 48,
   "id": "757a6cf8",
   "metadata": {},
   "outputs": [],
   "source": [
    "#-.\n",
    "\n",
    "# Columna Costo Final.\n",
    "df['Costo Final'] = df.apply(lambda row: max(row['Costo Sistema'], row['Costo Proveedores']), axis=1)"
   ]
  },
  {
   "cell_type": "code",
   "execution_count": 49,
   "id": "414d74fc",
   "metadata": {},
   "outputs": [],
   "source": [
    "#-.\n",
    "\n",
    "# Columna Precio Final.\n",
    "df['Precio Final'] = df.apply(lambda row: max(row['Precio Sistema'], row['Precio Proveedores']), axis=1)"
   ]
  },
  {
   "cell_type": "code",
   "execution_count": 50,
   "id": "69be748a",
   "metadata": {},
   "outputs": [],
   "source": [
    "#-.\n",
    "\n",
    "# Redondeo de Precio Final.\n",
    "df['Precio Final'] = df['Precio Final'].apply(lambda x: math.ceil(x / 100) * 100)"
   ]
  },
  {
   "cell_type": "code",
   "execution_count": 51,
   "id": "738d2cb6",
   "metadata": {},
   "outputs": [],
   "source": [
    "#-.\n",
    "\n",
    "# Columna Markup Final.\n",
    "df['Markup Final'] = (df['Precio Final']/df['Costo Final']) - 1"
   ]
  },
  {
   "cell_type": "code",
   "execution_count": 52,
   "id": "6cbe927c",
   "metadata": {},
   "outputs": [],
   "source": [
    "#-.\n",
    "\n",
    "# Columna Markup.\n",
    "df['Markup %'] = df['Markup %']/100"
   ]
  },
  {
   "cell_type": "code",
   "execution_count": 53,
   "id": "7913f5e2-1847-449d-a768-0f846332194c",
   "metadata": {},
   "outputs": [],
   "source": [
    "# Arreglamos precios de ofertas.\n",
    "for i in range(0, len(df)):\n",
    "    Producto = df['Descripcion'][i]\n",
    "    for j in range(0, len(Ofertas)):\n",
    "        if Producto in Ofertas:\n",
    "            df.at[i, 'Precio Final'] = Ofertas[Producto]"
   ]
  },
  {
   "cell_type": "code",
   "execution_count": 54,
   "id": "e06c1233-2cd5-405e-8f26-9f6b572480ef",
   "metadata": {},
   "outputs": [
    {
     "data": {
      "text/html": [
       "<div>\n",
       "<style scoped>\n",
       "    .dataframe tbody tr th:only-of-type {\n",
       "        vertical-align: middle;\n",
       "    }\n",
       "\n",
       "    .dataframe tbody tr th {\n",
       "        vertical-align: top;\n",
       "    }\n",
       "\n",
       "    .dataframe thead th {\n",
       "        text-align: right;\n",
       "    }\n",
       "</style>\n",
       "<table border=\"1\" class=\"dataframe\">\n",
       "  <thead>\n",
       "    <tr style=\"text-align: right;\">\n",
       "      <th></th>\n",
       "      <th>Codigo</th>\n",
       "      <th>Descripcion</th>\n",
       "      <th>Precio Sistema</th>\n",
       "      <th>Costo Sistema</th>\n",
       "      <th>Costo Proveedores</th>\n",
       "      <th>Costo Final</th>\n",
       "      <th>Markup %</th>\n",
       "      <th>Categoria</th>\n",
       "      <th>Proveedor</th>\n",
       "      <th>Precio Proveedores</th>\n",
       "      <th>Precio Relacion</th>\n",
       "      <th>Costo Relacion</th>\n",
       "      <th>Precio Final</th>\n",
       "      <th>Markup Final</th>\n",
       "    </tr>\n",
       "  </thead>\n",
       "  <tbody>\n",
       "    <tr>\n",
       "      <th>1862</th>\n",
       "      <td>1905982</td>\n",
       "      <td>Solo x 15 kg.</td>\n",
       "      <td>10900.0</td>\n",
       "      <td>8232.0</td>\n",
       "      <td>7448.0</td>\n",
       "      <td>8232.0</td>\n",
       "      <td>0.32</td>\n",
       "      <td>Perro Adulto</td>\n",
       "      <td>Mundo Mascotas</td>\n",
       "      <td>9831.36</td>\n",
       "      <td>0.90196</td>\n",
       "      <td>0.904762</td>\n",
       "      <td>10900</td>\n",
       "      <td>0.324101</td>\n",
       "    </tr>\n",
       "  </tbody>\n",
       "</table>\n",
       "</div>"
      ],
      "text/plain": [
       "       Codigo    Descripcion  Precio Sistema  Costo Sistema  \\\n",
       "1862  1905982  Solo x 15 kg.         10900.0         8232.0   \n",
       "\n",
       "      Costo Proveedores  Costo Final  Markup %     Categoria       Proveedor  \\\n",
       "1862             7448.0       8232.0      0.32  Perro Adulto  Mundo Mascotas   \n",
       "\n",
       "      Precio Proveedores  Precio Relacion  Costo Relacion  Precio Final  \\\n",
       "1862             9831.36          0.90196        0.904762         10900   \n",
       "\n",
       "      Markup Final  \n",
       "1862      0.324101  "
      ]
     },
     "execution_count": 54,
     "metadata": {},
     "output_type": "execute_result"
    }
   ],
   "source": [
    "df[df['Descripcion'] == 'Solo x 15 kg.']"
   ]
  },
  {
   "cell_type": "code",
   "execution_count": 55,
   "id": "a72be12e",
   "metadata": {},
   "outputs": [],
   "source": [
    "#-.\n",
    "\n",
    "# Ordenar columnas.\n",
    "Orden = ['Codigo', 'Descripcion', 'Precio Final', 'Costo Final', 'Markup Final',\n",
    "         'Costo Sistema', 'Costo Proveedores', 'Precio Sistema', 'Precio Proveedores', \n",
    "         'Precio Relacion','Costo Relacion', \n",
    "         'Markup %', 'Proveedor', 'Categoria']\n",
    "\n",
    "# Reasigna el DataFrame con el nuevo orden de columnas\n",
    "df = df[Orden]"
   ]
  },
  {
   "cell_type": "code",
   "execution_count": 56,
   "id": "9fbdb770",
   "metadata": {},
   "outputs": [
    {
     "data": {
      "text/html": [
       "<div>\n",
       "<style scoped>\n",
       "    .dataframe tbody tr th:only-of-type {\n",
       "        vertical-align: middle;\n",
       "    }\n",
       "\n",
       "    .dataframe tbody tr th {\n",
       "        vertical-align: top;\n",
       "    }\n",
       "\n",
       "    .dataframe thead th {\n",
       "        text-align: right;\n",
       "    }\n",
       "</style>\n",
       "<table border=\"1\" class=\"dataframe\">\n",
       "  <thead>\n",
       "    <tr style=\"text-align: right;\">\n",
       "      <th></th>\n",
       "      <th>Codigo</th>\n",
       "      <th>Descripcion</th>\n",
       "      <th>Precio Final</th>\n",
       "      <th>Costo Final</th>\n",
       "      <th>Markup Final</th>\n",
       "      <th>Costo Sistema</th>\n",
       "      <th>Costo Proveedores</th>\n",
       "      <th>Precio Sistema</th>\n",
       "      <th>Precio Proveedores</th>\n",
       "      <th>Precio Relacion</th>\n",
       "      <th>Costo Relacion</th>\n",
       "      <th>Markup %</th>\n",
       "      <th>Proveedor</th>\n",
       "      <th>Categoria</th>\n",
       "    </tr>\n",
       "  </thead>\n",
       "  <tbody>\n",
       "    <tr>\n",
       "      <th>0</th>\n",
       "      <td>1905248</td>\n",
       "      <td>9 Lives Gatitos</td>\n",
       "      <td>3500</td>\n",
       "      <td>2314.00</td>\n",
       "      <td>0.51</td>\n",
       "      <td>2314.00</td>\n",
       "      <td>2313.75</td>\n",
       "      <td>3500.00</td>\n",
       "      <td>3424.35</td>\n",
       "      <td>0.98</td>\n",
       "      <td>1.00</td>\n",
       "      <td>0.48</td>\n",
       "      <td>0</td>\n",
       "      <td>Gato Granel</td>\n",
       "    </tr>\n",
       "    <tr>\n",
       "      <th>1</th>\n",
       "      <td>1002</td>\n",
       "      <td>9 Lives Gatitos x 8 kg.</td>\n",
       "      <td>24500</td>\n",
       "      <td>18510.00</td>\n",
       "      <td>0.32</td>\n",
       "      <td>18510.00</td>\n",
       "      <td>17493.00</td>\n",
       "      <td>24500.00</td>\n",
       "      <td>23090.76</td>\n",
       "      <td>0.94</td>\n",
       "      <td>0.95</td>\n",
       "      <td>0.32</td>\n",
       "      <td>Benavidez</td>\n",
       "      <td>Gato</td>\n",
       "    </tr>\n",
       "    <tr>\n",
       "      <th>2</th>\n",
       "      <td>1905001</td>\n",
       "      <td>9 Lives Pescado</td>\n",
       "      <td>3000</td>\n",
       "      <td>2000.00</td>\n",
       "      <td>0.50</td>\n",
       "      <td>2000.00</td>\n",
       "      <td>1998.00</td>\n",
       "      <td>3000.00</td>\n",
       "      <td>2957.04</td>\n",
       "      <td>0.99</td>\n",
       "      <td>1.00</td>\n",
       "      <td>0.48</td>\n",
       "      <td>0</td>\n",
       "      <td>Gato Granel</td>\n",
       "    </tr>\n",
       "    <tr>\n",
       "      <th>3</th>\n",
       "      <td>28391001</td>\n",
       "      <td>9 Lives Pescado x 15 kg.</td>\n",
       "      <td>39600</td>\n",
       "      <td>29970.00</td>\n",
       "      <td>0.32</td>\n",
       "      <td>29970.00</td>\n",
       "      <td>15903.00</td>\n",
       "      <td>39600.00</td>\n",
       "      <td>20991.96</td>\n",
       "      <td>0.53</td>\n",
       "      <td>0.53</td>\n",
       "      <td>0.32</td>\n",
       "      <td>Benavidez</td>\n",
       "      <td>Gato</td>\n",
       "    </tr>\n",
       "    <tr>\n",
       "      <th>4</th>\n",
       "      <td>7209</td>\n",
       "      <td>A Otra Parte Concentrado x 600 cc.</td>\n",
       "      <td>15000</td>\n",
       "      <td>9968.00</td>\n",
       "      <td>0.50</td>\n",
       "      <td>9968.00</td>\n",
       "      <td>9968.00</td>\n",
       "      <td>15000.00</td>\n",
       "      <td>14952.00</td>\n",
       "      <td>1.00</td>\n",
       "      <td>1.00</td>\n",
       "      <td>0.50</td>\n",
       "      <td>El Gallo</td>\n",
       "      <td>Mascotas</td>\n",
       "    </tr>\n",
       "    <tr>\n",
       "      <th>5</th>\n",
       "      <td>1905237</td>\n",
       "      <td>A Otra Parte x 0,25 lts.</td>\n",
       "      <td>1000</td>\n",
       "      <td>625.33</td>\n",
       "      <td>0.60</td>\n",
       "      <td>625.00</td>\n",
       "      <td>625.33</td>\n",
       "      <td>1000.00</td>\n",
       "      <td>938.00</td>\n",
       "      <td>0.94</td>\n",
       "      <td>1.00</td>\n",
       "      <td>0.50</td>\n",
       "      <td>0</td>\n",
       "      <td>Mascotas</td>\n",
       "    </tr>\n",
       "    <tr>\n",
       "      <th>6</th>\n",
       "      <td>4438</td>\n",
       "      <td>Abrigo Fantasia N° 0</td>\n",
       "      <td>3300</td>\n",
       "      <td>902.00</td>\n",
       "      <td>2.66</td>\n",
       "      <td>820.00</td>\n",
       "      <td>902.00</td>\n",
       "      <td>3300.00</td>\n",
       "      <td>1353.00</td>\n",
       "      <td>0.41</td>\n",
       "      <td>1.10</td>\n",
       "      <td>0.50</td>\n",
       "      <td>Anea</td>\n",
       "      <td>Mascotas</td>\n",
       "    </tr>\n",
       "    <tr>\n",
       "      <th>7</th>\n",
       "      <td>4439</td>\n",
       "      <td>Abrigo Fantasia N° 1</td>\n",
       "      <td>3500</td>\n",
       "      <td>1305.00</td>\n",
       "      <td>1.68</td>\n",
       "      <td>1055.00</td>\n",
       "      <td>1305.00</td>\n",
       "      <td>3500.00</td>\n",
       "      <td>1957.50</td>\n",
       "      <td>0.56</td>\n",
       "      <td>1.24</td>\n",
       "      <td>0.50</td>\n",
       "      <td>Anea</td>\n",
       "      <td>Mascotas</td>\n",
       "    </tr>\n",
       "    <tr>\n",
       "      <th>8</th>\n",
       "      <td>4440</td>\n",
       "      <td>Abrigo Fantasia N° 2</td>\n",
       "      <td>3700</td>\n",
       "      <td>1344.00</td>\n",
       "      <td>1.75</td>\n",
       "      <td>1222.00</td>\n",
       "      <td>1344.00</td>\n",
       "      <td>3700.00</td>\n",
       "      <td>2016.00</td>\n",
       "      <td>0.54</td>\n",
       "      <td>1.10</td>\n",
       "      <td>0.50</td>\n",
       "      <td>Anea</td>\n",
       "      <td>Mascotas</td>\n",
       "    </tr>\n",
       "    <tr>\n",
       "      <th>9</th>\n",
       "      <td>4441</td>\n",
       "      <td>Abrigo Fantasia N° 3</td>\n",
       "      <td>3900</td>\n",
       "      <td>1518.00</td>\n",
       "      <td>1.57</td>\n",
       "      <td>1518.00</td>\n",
       "      <td>1518.00</td>\n",
       "      <td>3900.00</td>\n",
       "      <td>2277.00</td>\n",
       "      <td>0.58</td>\n",
       "      <td>1.00</td>\n",
       "      <td>0.50</td>\n",
       "      <td>Anea</td>\n",
       "      <td>Mascotas</td>\n",
       "    </tr>\n",
       "  </tbody>\n",
       "</table>\n",
       "</div>"
      ],
      "text/plain": [
       "     Codigo                         Descripcion  Precio Final  Costo Final  \\\n",
       "0   1905248                     9 Lives Gatitos          3500      2314.00   \n",
       "1      1002             9 Lives Gatitos x 8 kg.         24500     18510.00   \n",
       "2   1905001                     9 Lives Pescado          3000      2000.00   \n",
       "3  28391001            9 Lives Pescado x 15 kg.         39600     29970.00   \n",
       "4      7209  A Otra Parte Concentrado x 600 cc.         15000      9968.00   \n",
       "5   1905237            A Otra Parte x 0,25 lts.          1000       625.33   \n",
       "6      4438                Abrigo Fantasia N° 0          3300       902.00   \n",
       "7      4439                Abrigo Fantasia N° 1          3500      1305.00   \n",
       "8      4440                Abrigo Fantasia N° 2          3700      1344.00   \n",
       "9      4441                Abrigo Fantasia N° 3          3900      1518.00   \n",
       "\n",
       "   Markup Final  Costo Sistema  Costo Proveedores  Precio Sistema  \\\n",
       "0          0.51        2314.00            2313.75         3500.00   \n",
       "1          0.32       18510.00           17493.00        24500.00   \n",
       "2          0.50        2000.00            1998.00         3000.00   \n",
       "3          0.32       29970.00           15903.00        39600.00   \n",
       "4          0.50        9968.00            9968.00        15000.00   \n",
       "5          0.60         625.00             625.33         1000.00   \n",
       "6          2.66         820.00             902.00         3300.00   \n",
       "7          1.68        1055.00            1305.00         3500.00   \n",
       "8          1.75        1222.00            1344.00         3700.00   \n",
       "9          1.57        1518.00            1518.00         3900.00   \n",
       "\n",
       "   Precio Proveedores  Precio Relacion  Costo Relacion  Markup %  Proveedor  \\\n",
       "0             3424.35             0.98            1.00      0.48          0   \n",
       "1            23090.76             0.94            0.95      0.32  Benavidez   \n",
       "2             2957.04             0.99            1.00      0.48          0   \n",
       "3            20991.96             0.53            0.53      0.32  Benavidez   \n",
       "4            14952.00             1.00            1.00      0.50   El Gallo   \n",
       "5              938.00             0.94            1.00      0.50          0   \n",
       "6             1353.00             0.41            1.10      0.50       Anea   \n",
       "7             1957.50             0.56            1.24      0.50       Anea   \n",
       "8             2016.00             0.54            1.10      0.50       Anea   \n",
       "9             2277.00             0.58            1.00      0.50       Anea   \n",
       "\n",
       "     Categoria  \n",
       "0  Gato Granel  \n",
       "1         Gato  \n",
       "2  Gato Granel  \n",
       "3         Gato  \n",
       "4     Mascotas  \n",
       "5     Mascotas  \n",
       "6     Mascotas  \n",
       "7     Mascotas  \n",
       "8     Mascotas  \n",
       "9     Mascotas  "
      ]
     },
     "execution_count": 56,
     "metadata": {},
     "output_type": "execute_result"
    }
   ],
   "source": [
    "#.-\n",
    "\n",
    "# Mostrar dos decimales en la columna Precio Relacion y Costo Relacion.\n",
    "\n",
    "# Configurar la opción de Pandas para mostrar dos decimales\n",
    "pd.options.display.float_format = '{:.2f}'.format\n",
    "\n",
    "# Configurar Pandas para mostrar todas las filas.\n",
    "pd.set_option('display.max_rows', None)\n",
    "\n",
    "df.head(10)"
   ]
  },
  {
   "cell_type": "markdown",
   "id": "b9876dd4",
   "metadata": {},
   "source": [
    "### Etapa 7"
   ]
  },
  {
   "cell_type": "code",
   "execution_count": 57,
   "id": "8a85b0f6",
   "metadata": {},
   "outputs": [],
   "source": [
    "#-. \n",
    "\n",
    "# Database entero.\n",
    "\n",
    "# Guardar archivo.\n",
    "Ruta = 'J:/My Drive/Forraje/Resultados/Resultados.xlsx'\n",
    "\n",
    "# Guardar\n",
    "df.to_excel(Ruta, index=False)"
   ]
  },
  {
   "cell_type": "code",
   "execution_count": 58,
   "id": "429a2d51",
   "metadata": {},
   "outputs": [],
   "source": [
    "#-. \n",
    "\n",
    "# Cargamos Excel.\n",
    "Libro = load_workbook(Ruta)"
   ]
  },
  {
   "cell_type": "code",
   "execution_count": 59,
   "id": "af00fcd2",
   "metadata": {},
   "outputs": [],
   "source": [
    "#-. \n",
    "\n",
    "# Seleccionar hoja activa.\n",
    "Hoja = Libro.active"
   ]
  },
  {
   "cell_type": "code",
   "execution_count": 60,
   "id": "9539b10c",
   "metadata": {},
   "outputs": [],
   "source": [
    "#-. \n",
    "\n",
    "# Anchos.\n",
    "Hoja.column_dimensions[\"A\"].width = 15 \n",
    "Hoja.column_dimensions[\"B\"].width = 40\n",
    "Hoja.column_dimensions[\"C\"].width = 15 \n",
    "Hoja.column_dimensions[\"D\"].width = 15 \n",
    "Hoja.column_dimensions[\"E\"].width = 15 \n",
    "Hoja.column_dimensions[\"F\"].width = 15 \n",
    "Hoja.column_dimensions[\"G\"].width = 15 \n",
    "Hoja.column_dimensions[\"H\"].width = 15 \n",
    "Hoja.column_dimensions[\"I\"].width = 15 \n",
    "Hoja.column_dimensions[\"J\"].width = 15 \n",
    "Hoja.column_dimensions[\"K\"].width = 15 \n",
    "Hoja.column_dimensions[\"L\"].width = 15 \n",
    "Hoja.column_dimensions[\"M\"].width = 20 \n",
    "Hoja.column_dimensions[\"N\"].width = 20"
   ]
  },
  {
   "cell_type": "code",
   "execution_count": 61,
   "id": "b0668cba",
   "metadata": {},
   "outputs": [],
   "source": [
    "#-. \n",
    "\n",
    "# Inmovilizar paneles\n",
    "Hoja.freeze_panes = 'C2'"
   ]
  },
  {
   "cell_type": "code",
   "execution_count": 62,
   "id": "e7ec3b8d",
   "metadata": {},
   "outputs": [],
   "source": [
    "#.-\n",
    "\n",
    "# Formato $ con dos decimales para columnas de precios y costos.\n",
    "Estilo = NamedStyle(name=\"currency\")\n",
    "\n",
    "# Decimales.\n",
    "Estilo.number_format = '$#,##0'\n",
    "\n",
    "# Columnas.\n",
    "Columnas_con_Peso = [\"F\", \"G\", \"H\", \"I\"]\n",
    "\n",
    "for Columna in Columnas_con_Peso:\n",
    "    for Celda in Hoja[Columna]:\n",
    "        Celda.style = Estilo"
   ]
  },
  {
   "cell_type": "code",
   "execution_count": 63,
   "id": "af9c48f4",
   "metadata": {},
   "outputs": [],
   "source": [
    "#.-\n",
    "\n",
    "# Formato general con dos decimales para columnas de relación.\n",
    "General = NamedStyle(name=\"general\")\n",
    "\n",
    "# Decimales.\n",
    "General.number_format = '0.00'\n",
    "\n",
    "# Columnas.\n",
    "for Columna in [\"J\", \"K\"]:\n",
    "    for Celda in Hoja[Columna]:\n",
    "        Celda.style = General"
   ]
  },
  {
   "cell_type": "code",
   "execution_count": 64,
   "id": "b1f5a814",
   "metadata": {},
   "outputs": [],
   "source": [
    "#.-\n",
    "\n",
    "# Formato general con porcentaje y sin decimales para columna de markup.\n",
    "General.number_format = '0%'\n",
    "\n",
    "# Columnas.\n",
    "for Columna in [\"E\", \"L\"]:\n",
    "    for Celda in Hoja[Columna]:\n",
    "        Celda.style = General"
   ]
  },
  {
   "cell_type": "code",
   "execution_count": 65,
   "id": "4e248130",
   "metadata": {},
   "outputs": [],
   "source": [
    "#.-\n",
    "\n",
    "# Formato general con cero decimales para columnas de precio final y costo final.\n",
    "for Columna in [\"C\", \"D\"]:\n",
    "    for Celda in Hoja[Columna]:\n",
    "        Celda.number_format = '0'"
   ]
  },
  {
   "cell_type": "code",
   "execution_count": 66,
   "id": "1dbed876",
   "metadata": {},
   "outputs": [],
   "source": [
    "#-.\n",
    "\n",
    "# Centrar.\n",
    "Centrar = Alignment(horizontal='center', vertical='center')\n",
    "\n",
    "# Iteración sobre cada celda de la fila.\n",
    "\n",
    "for i in Hoja.columns:\n",
    "    for Celda in i:\n",
    "        Celda.alignment = Centrar"
   ]
  },
  {
   "cell_type": "code",
   "execution_count": 67,
   "id": "b9441353",
   "metadata": {},
   "outputs": [],
   "source": [
    "#-.\n",
    "\n",
    "# Duplica la hoja 2 veces.\n",
    "Hoja2_Nombre = \"Hoja2\"\n",
    "Hoja2 = Libro.copy_worksheet(Hoja)\n",
    "Hoja2.title = Hoja2_Nombre\n",
    "\n",
    "Hoja3_Nombre = \"Hoja3\"\n",
    "Hoja3 = Libro.copy_worksheet(Hoja)\n",
    "Hoja3.title = Hoja3_Nombre"
   ]
  },
  {
   "cell_type": "code",
   "execution_count": 68,
   "id": "0a9f4dd2",
   "metadata": {},
   "outputs": [],
   "source": [
    "#-. \n",
    "\n",
    "# Formato condicional de color rojo en Costo Final para comparación Costo Final - Costo Sistema anterior.\n",
    "for Fila in Hoja.iter_rows(min_row=2, min_col=4, max_row=Hoja.max_row, max_col=6):  \n",
    "    for Celda1, Celda2 in zip(Fila, Fila[2:]):\n",
    "        if abs(Celda1.value - Celda2.value) < 5:\n",
    "            None\n",
    "        else:\n",
    "            Celda1.fill = PatternFill(start_color=\"FF6666\", end_color=\"FF6666\", fill_type=\"solid\")"
   ]
  },
  {
   "cell_type": "code",
   "execution_count": 69,
   "id": "fb128a9d",
   "metadata": {},
   "outputs": [],
   "source": [
    "#-. \n",
    "\n",
    "# Formato condicional de color verde en Precio Final para comparación Precio Final - Precio Sistema.\n",
    "for Fila in Hoja.iter_rows(min_row=2, min_col=3, max_row=Hoja.max_row, max_col=8):  \n",
    "    for Celda1, Celda2 in zip(Fila, Fila[5:]):\n",
    "        if abs(Celda1.value - Celda2.value) < 21:\n",
    "            None\n",
    "        else:\n",
    "            Celda1.fill = PatternFill(start_color=\"89ac76\", end_color=\"89ac76\", fill_type=\"solid\")\n",
    "            Celda1.font = Font(bold=True)"
   ]
  },
  {
   "cell_type": "code",
   "execution_count": 70,
   "id": "112b3f87",
   "metadata": {},
   "outputs": [],
   "source": [
    "#-. \n",
    "\n",
    "# Formato condicional de color azul en Costo Proveedores para comparación Costo Final - Costo Proveedores (cuando este sea bajo).\n",
    "for Fila in Hoja2.iter_rows(min_row=2, min_col=4, max_row=Hoja2.max_row-1, max_col=7):  \n",
    "    for Celda1, Celda2 in zip(Fila, Fila[3:]):\n",
    "        if abs(Celda1.value - Celda2.value) > 21:\n",
    "            if Celda2.value == 0:\n",
    "                None\n",
    "            else:\n",
    "                Celda2.fill = PatternFill(start_color=\"B0E0E6\", end_color=\"B0E0E6\", fill_type=\"solid\")\n",
    "                Celda2.font = Font(bold=True)"
   ]
  },
  {
   "cell_type": "code",
   "execution_count": 71,
   "id": "c5493200",
   "metadata": {},
   "outputs": [],
   "source": [
    "#-. \n",
    "\n",
    "# Formato condicional de color naranja en Costo Final para comparación Costo Final - Costo Proveedores (cuando este sea alto).\n",
    "for Fila in Hoja3.iter_rows(min_row=2, min_col=4, max_row=Hoja3.max_row-1, max_col=7):  \n",
    "    for Celda1, Celda2 in zip(Fila, Fila[3:]):\n",
    "        if Celda1.value - Celda2.value < 0:\n",
    "            if Celda2.value == 0:\n",
    "                None\n",
    "            else:\n",
    "                Celda1.fill = PatternFill(start_color=\"FFA500\", end_color=\"FFA500\", fill_type=\"solid\")\n",
    "                Celda1.font = Font(bold=True)"
   ]
  },
  {
   "cell_type": "code",
   "execution_count": 72,
   "id": "e7b0b373",
   "metadata": {},
   "outputs": [],
   "source": [
    "#-. \n",
    "\n",
    "# Formato de filtro a la primera fila de la Hoja 1.\n",
    "Hoja.auto_filter.ref = Hoja.dimensions\n",
    "\n",
    "# Obtener las filas que tienen formato condicional aplicado.\n",
    "Filas_Negrita = set()\n",
    "for Fila in Hoja.iter_rows(min_row=2, max_row=Hoja.max_row, min_col=3, max_col=3):  \n",
    "    for Celda in Fila:\n",
    "        if Celda.font == Font(bold=True): \n",
    "            Filas_Negrita.add(Fila[0].row)\n",
    "\n",
    "# Ocultar todas las filas.\n",
    "for i in range(2, Hoja.max_row + 1):  # Empezar desde la fila 2 ya que la fila 1 contiene los encabezados\n",
    "    Hoja.row_dimensions[i].hidden = True\n",
    "\n",
    "# Mostrar solo las filas con formato condicional aplicado.\n",
    "for Fila in Filas_Negrita:\n",
    "    Hoja.row_dimensions[Fila].hidden = False\n"
   ]
  },
  {
   "cell_type": "code",
   "execution_count": 73,
   "id": "829c62cf",
   "metadata": {},
   "outputs": [],
   "source": [
    "#-. \n",
    "\n",
    "# Contar el número de celdas con negrita.\n",
    "Negrita = len(Filas_Negrita)\n",
    "\n",
    "# Escribir el número de celdas con negrita en la fila siguiente a la última fila del documento\n",
    "Fila_Ultima = Hoja.max_row + 1\n",
    "Celda_Texto = Hoja.cell(row=Fila_Ultima, column=3)\n",
    "Celda_Texto.value = \"Productos:\"\n",
    "Celda_Texto.alignment = Alignment(horizontal=\"center\")\n",
    "Celda_Resultado = Hoja.cell(row=Fila_Ultima, column=4)\n",
    "Celda_Resultado.value = Negrita\n",
    "Celda_Resultado.alignment = Alignment(horizontal=\"center\")"
   ]
  },
  {
   "cell_type": "code",
   "execution_count": 74,
   "id": "a17654af",
   "metadata": {},
   "outputs": [],
   "source": [
    "#-. \n",
    "\n",
    "# Formato de filtro a la primera fila de la Hoja 2 y 3.\n",
    "Hoja2.auto_filter.ref = Hoja2.dimensions\n",
    "Hoja3.auto_filter.ref = Hoja3.dimensions"
   ]
  },
  {
   "cell_type": "code",
   "execution_count": 75,
   "id": "c5166ee0",
   "metadata": {},
   "outputs": [],
   "source": [
    "#-.\n",
    "\n",
    "# Obtener las filas que tienen formato condicional aplicado en Hoja 2 y 3.\n",
    "Filas_Negrita_2 = set()\n",
    "for Fila in Hoja2.iter_rows(min_row=2, max_row=Hoja2.max_row, min_col=7, max_col=7):  \n",
    "    for Celda in Fila:\n",
    "        if Celda.font == Font(bold=True): \n",
    "            Filas_Negrita_2.add(Fila[0].row)"
   ]
  },
  {
   "cell_type": "code",
   "execution_count": 76,
   "id": "bf232037",
   "metadata": {},
   "outputs": [],
   "source": [
    "#-.\n",
    "\n",
    "# Ocultar todas las filas en Hoja 2.\n",
    "for i in range(2, Hoja2.max_row + 1):  # Empezar desde la fila 2 ya que la fila 1 contiene los encabezados\n",
    "    Hoja2.row_dimensions[i].hidden = True"
   ]
  },
  {
   "cell_type": "code",
   "execution_count": 77,
   "id": "3c864578",
   "metadata": {},
   "outputs": [],
   "source": [
    "#-.\n",
    "\n",
    "# Mostrar solo las filas con formato condicional aplicado en Hoja 2.\n",
    "for Fila in Filas_Negrita_2:\n",
    "    Hoja2.row_dimensions[Fila].hidden = False"
   ]
  },
  {
   "cell_type": "code",
   "execution_count": 78,
   "id": "e73d2e83",
   "metadata": {},
   "outputs": [],
   "source": [
    "#-.\n",
    "\n",
    "# Lo mismo para la Hoja 3. \n",
    "    \n",
    "Filas_Negrita_3 = set()\n",
    "for Fila in Hoja3.iter_rows(min_row=2, max_row=Hoja3.max_row, min_col=7, max_col=7):  \n",
    "    for Celda in Fila:\n",
    "        if Celda.font == Font(bold=True): \n",
    "            Filas_Negrita_3.add(Fila[0].row)\n",
    "            \n",
    "for i in range(2, Hoja3.max_row + 1):  # Empezar desde la fila 2 ya que la fila 1 contiene los encabezados\n",
    "    Hoja3.row_dimensions[i].hidden = True           \n",
    "            \n",
    "for Fila in Filas_Negrita_3:\n",
    "    Hoja3.row_dimensions[Fila].hidden = False"
   ]
  },
  {
   "cell_type": "code",
   "execution_count": 79,
   "id": "159576ff",
   "metadata": {},
   "outputs": [],
   "source": [
    "#-.\n",
    "\n",
    "# Inmovilizar paneles en Hoja2 y 3.\n",
    "Hoja2.freeze_panes = 'C2'\n",
    "Hoja3.freeze_panes = 'C2'"
   ]
  },
  {
   "cell_type": "code",
   "execution_count": 80,
   "id": "034799f7",
   "metadata": {},
   "outputs": [],
   "source": [
    "#-.\n",
    "\n",
    "# Calcula el número de filas en la Hoja2.\n",
    "Filas = Hoja2.max_row\n",
    "\n",
    "# Itera sobre todas las filas y mueve los valores de la columna\n",
    "for i in range(1, Filas):\n",
    "    # Obtiene el valor de la celda en la columna de origen\n",
    "    Valor_Celda_Origen = Hoja2.cell(row=i, column=7).value\n",
    "    \n",
    "    # Inserta el valor en la nueva posición\n",
    "    Hoja2.cell(row=i, column=5).value = Valor_Celda_Origen\n",
    "\n",
    "# Elimina la columna original\n",
    "Hoja2.delete_cols(7)"
   ]
  },
  {
   "cell_type": "code",
   "execution_count": 81,
   "id": "6e30bad0",
   "metadata": {},
   "outputs": [],
   "source": [
    "#-.\n",
    "\n",
    "# Calcula el número de filas en la Hoja3.\n",
    "Filas = Hoja3.max_row\n",
    "\n",
    "# Itera sobre todas las filas y mueve los valores de la columna\n",
    "for i in range(1, Filas):\n",
    "    # Obtiene el valor de la celda en la columna de origen\n",
    "    Valor_Celda_Origen = Hoja3.cell(row=i, column=7).value\n",
    "    \n",
    "    # Inserta el valor en la nueva posición\n",
    "    Hoja3.cell(row=i, column=5).value = Valor_Celda_Origen\n",
    "\n",
    "# Elimina la columna original\n",
    "Hoja3.delete_cols(7)"
   ]
  },
  {
   "cell_type": "code",
   "execution_count": 82,
   "id": "43134c2d",
   "metadata": {},
   "outputs": [],
   "source": [
    "#.-\n",
    "\n",
    "# Formato para las columnas de interés en Hoja2.\n",
    "\n",
    "# Decimales.\n",
    "General.number_format = '0'\n",
    "\n",
    "# Columnas.\n",
    "for Columna in [\"D\",\"E\"]:\n",
    "    for Celda in Hoja2[Columna]:\n",
    "        Celda.style = General\n",
    "        Celda.alignment = Centrar\n",
    "        Celda.fill = PatternFill(start_color=\"808080\", end_color=\"808080\", fill_type=\"solid\")\n",
    "        \n",
    "for Celda in Hoja2[\"E\"]:\n",
    "    Celda.fill = PatternFill(start_color=\"87CEEB\", end_color=\"87CEEB\", fill_type=\"solid\")"
   ]
  },
  {
   "cell_type": "code",
   "execution_count": 83,
   "id": "03dd479a",
   "metadata": {},
   "outputs": [],
   "source": [
    "#.-\n",
    "\n",
    "# Formato para las columnas de interés en Hoja3.\n",
    "\n",
    "# Decimales.\n",
    "General.number_format = '0'\n",
    "\n",
    "# Columnas.\n",
    "for Columna in [\"D\",\"E\"]:\n",
    "    for Celda in Hoja3[Columna]:\n",
    "        Celda.style = General\n",
    "        Celda.alignment = Centrar\n",
    "        Celda.fill = PatternFill(start_color=\"808080\", end_color=\"808080\", fill_type=\"solid\")\n",
    "        \n",
    "for Celda in Hoja3[\"E\"]:\n",
    "    Celda.fill = PatternFill(start_color=\"FFA500\", end_color=\"FFA500\", fill_type=\"solid\")"
   ]
  },
  {
   "cell_type": "code",
   "execution_count": 84,
   "id": "5939045f",
   "metadata": {},
   "outputs": [],
   "source": [
    "#.-\n",
    "\n",
    "# Cambiar nombres de hojas.\n",
    "Hoja.title = 'Precio Calculado Alto'\n",
    "Hoja2.title = 'Costo Calculado Bajo'\n",
    "Hoja3.title = 'Costo Calculado Alto'"
   ]
  },
  {
   "cell_type": "code",
   "execution_count": 85,
   "id": "f16dc9bd",
   "metadata": {},
   "outputs": [],
   "source": [
    "#-. \n",
    "\n",
    "# Guardar el archivo\n",
    "Libro.save(Ruta)"
   ]
  },
  {
   "cell_type": "code",
   "execution_count": 86,
   "id": "3781ae67",
   "metadata": {},
   "outputs": [],
   "source": [
    "#-.\n",
    "\n",
    "# Generación de archivo con Costos Proveedor más altos que el Costo Sistema.\n",
    "\n",
    "# Creamos df.\n",
    "df_Costo_Alto = df[df['Costo Sistema'] < df['Costo Proveedores']]"
   ]
  },
  {
   "cell_type": "code",
   "execution_count": 87,
   "id": "a819f1ad",
   "metadata": {},
   "outputs": [],
   "source": [
    "#-.\n",
    "\n",
    "# Generación de archivo con Costos Proveedor más bajos que el Costo Sistema.\n",
    "\n",
    "# Creamos df.\n",
    "df_Costo_Bajo = df[df['Costo Sistema'] > df['Costo Proveedores']]"
   ]
  },
  {
   "cell_type": "code",
   "execution_count": 88,
   "id": "1124b27c",
   "metadata": {},
   "outputs": [],
   "source": [
    "#-.\n",
    "\n",
    "# Generación de archivo con Precios Proveedor más altos que el Costo Sistema.\n",
    "\n",
    "# Creamos df.\n",
    "df_Precio_Alto = df[df['Precio Sistema'] < df['Precio Proveedores']]"
   ]
  },
  {
   "cell_type": "code",
   "execution_count": 89,
   "id": "1ecb3a36",
   "metadata": {},
   "outputs": [],
   "source": [
    "#-.\n",
    "\n",
    "# Generación de archivo con Precios Proveedor más bajos que el Costo Sistema.\n",
    "\n",
    "# Creamos df.\n",
    "df_Precio_Bajo = df[df['Precio Sistema'] > df['Precio Proveedores']]"
   ]
  },
  {
   "cell_type": "code",
   "execution_count": 90,
   "id": "fdbc65f1",
   "metadata": {},
   "outputs": [],
   "source": [
    "#-.\n",
    "\n",
    "# Generación de archivo con Costos nulos.\n",
    "\n",
    "# Creamos df.\n",
    "df_Costo_Nulo = df[(df['Costo Sistema'] == 0) & (df['Costo Proveedores'] == 0)]"
   ]
  },
  {
   "cell_type": "code",
   "execution_count": 91,
   "id": "4baddd4c",
   "metadata": {},
   "outputs": [],
   "source": [
    "#.-\n",
    "\n",
    "# Lista con los df.\n",
    "Lista_Df = [df_Costo_Alto, df_Costo_Bajo, df_Precio_Alto, df_Precio_Bajo, df_Costo_Nulo]"
   ]
  },
  {
   "cell_type": "code",
   "execution_count": 92,
   "id": "d316106a",
   "metadata": {},
   "outputs": [],
   "source": [
    "#.-\n",
    "\n",
    "# Lista con los nombres que vamos a poner en las hojas de cálculo.\n",
    "Lista_Nombres = ['Costo Alto', 'Costo Bajo', 'Precio Alto', 'Precio Bajo', 'Costo Nulo']"
   ]
  },
  {
   "cell_type": "code",
   "execution_count": 93,
   "id": "6924a11f",
   "metadata": {},
   "outputs": [],
   "source": [
    "#.-\n",
    "\n",
    "# Generamos el archivo con el análisis detallado de la generación de precios.\n",
    "# Ruta_Completa = 'J:/My Drive/Forraje/Resultados/Análisis de precios.xlsx'\n",
    "\n",
    "# Excel_Con_Df_Por_Hoja(Ruta_Completa, Lista_Df, Lista_Nombres)"
   ]
  }
 ],
 "metadata": {
  "kernelspec": {
   "display_name": "Python 3",
   "language": "python",
   "name": "python3"
  },
  "language_info": {
   "codemirror_mode": {
    "name": "ipython",
    "version": 3
   },
   "file_extension": ".py",
   "mimetype": "text/x-python",
   "name": "python",
   "nbconvert_exporter": "python",
   "pygments_lexer": "ipython3",
   "version": "3.12.6"
  }
 },
 "nbformat": 4,
 "nbformat_minor": 5
}
