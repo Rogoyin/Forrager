{
 "cells": [
  {
   "cell_type": "code",
   "execution_count": 1,
   "id": "9a9966e6",
   "metadata": {},
   "outputs": [],
   "source": [
    "import pandas as pd\n",
    "import numpy as np\n",
    "import re as re"
   ]
  },
  {
   "cell_type": "code",
   "execution_count": 2,
   "id": "d01572aa-9855-4cad-92a3-ef2e54863629",
   "metadata": {},
   "outputs": [],
   "source": [
    "pd.set_option('display.max_rows', None)\n",
    "pd.set_option('display.max_columns', None)"
   ]
  },
  {
   "cell_type": "code",
   "execution_count": 3,
   "id": "f71915e7-65a1-43fd-ad7f-b28a8582bb3e",
   "metadata": {},
   "outputs": [],
   "source": [
    "%run \"Funciones para Excel.ipynb\"\n",
    "%run \"Funciones útiles.ipynb\""
   ]
  },
  {
   "cell_type": "code",
   "execution_count": 4,
   "id": "6bd44338",
   "metadata": {},
   "outputs": [],
   "source": [
    "Proveedores = 'J:/My Drive/Forraje/Proveedores.xlsx'\n",
    "df_Proveedores = pd.read_excel(Proveedores, sheet_name='Centro')"
   ]
  },
  {
   "cell_type": "code",
   "execution_count": 5,
   "id": "d7078fe5-0ac4-4fb6-bf74-76f67fb7b8cd",
   "metadata": {},
   "outputs": [],
   "source": [
    "Baratos = 'J:/My Drive/Forraje/Baratos.xlsx'\n",
    "df_Baratos = pd.read_excel(Baratos)"
   ]
  },
  {
   "cell_type": "code",
   "execution_count": 6,
   "id": "e4a2ff38-4bef-4af1-a223-20f470ad6f79",
   "metadata": {},
   "outputs": [],
   "source": [
    "Pedidos = 'J:/My Drive/Forraje/Pedidos.xlsx'\n",
    "df = pd.read_excel(Pedidos)"
   ]
  },
  {
   "cell_type": "code",
   "execution_count": 7,
   "id": "28104f41-94a3-4123-89c9-ca96a7bd3aa4",
   "metadata": {},
   "outputs": [],
   "source": [
    "Proveedores = ['Benavídez', 'Gallo', 'Anea', 'Pilar', 'Tortuguitas', 'Del Viso',\n",
    "               'Limpieza', 'San Martín', 'Hipocampus', 'Mundo Mascotas', 'Yaguar',\n",
    "               'King Clor', 'Diserquim', 'Moreno', 'Roberto', 'Viejo Gets', 'Viejo Cuero', 'Mis Nietos', \n",
    "               'Profesional Vet']"
   ]
  },
  {
   "cell_type": "code",
   "execution_count": 8,
   "id": "0da6434b-cc23-4f1f-b93b-6b9a5b3c5e96",
   "metadata": {},
   "outputs": [],
   "source": [
    "df = Comparar_Df_y_Copiar(df, df_Baratos, 'Descripción', 'Descripcion', 'Precio', 'Precio 1')"
   ]
  },
  {
   "cell_type": "code",
   "execution_count": 9,
   "id": "b3a6fd8c-cbf1-471f-a4ec-5f47270fa9bf",
   "metadata": {},
   "outputs": [],
   "source": [
    "df = Comparar_Df_y_Copiar(df, df_Baratos, 'Descripción', 'Descripcion', 'Proveedor', 'Proveedor 1')"
   ]
  },
  {
   "cell_type": "code",
   "execution_count": 10,
   "id": "c72d6b88-3b32-411e-90f6-28f358807ff1",
   "metadata": {},
   "outputs": [],
   "source": [
    "df['Total'] = df['Precio'] * df['Cantidad']"
   ]
  },
  {
   "cell_type": "code",
   "execution_count": 11,
   "id": "2f753b7e-5ac4-4417-b4be-c01dc681753d",
   "metadata": {},
   "outputs": [],
   "source": [
    "for i in range (0, len(df)):\n",
    "    if not pd.isnull(df['Proveedor de preferencia'][i]):\n",
    "        Proveedor = df['Proveedor de preferencia'][i]\n",
    "        df = Comparar_Df_y_Copiar(df, df_Proveedores, 'Descripción', 'Descripcion', 'Precio', Proveedor)"
   ]
  },
  {
   "cell_type": "code",
   "execution_count": 12,
   "id": "e7938823-4fe8-41c7-abf2-6dfded101c47",
   "metadata": {},
   "outputs": [],
   "source": [
    "for i in range (0, len(df)):\n",
    "    if not pd.isnull(df['Proveedor de preferencia'][i]):\n",
    "        df['Proveedor'][i] = df['Proveedor de preferencia'][i]"
   ]
  },
  {
   "cell_type": "code",
   "execution_count": 13,
   "id": "cf34f282-ddcc-4f53-8554-793eafd5ff49",
   "metadata": {},
   "outputs": [],
   "source": [
    "df.drop(columns=['Proveedor de preferencia'], inplace=True)"
   ]
  },
  {
   "cell_type": "code",
   "execution_count": 14,
   "id": "ce036ccc-9db8-4def-8b44-484846b13c80",
   "metadata": {},
   "outputs": [],
   "source": [
    "Benavidez = df[df['Proveedor'] == 'Benavídez'].drop('Proveedor', axis=1)\n",
    "Gallo = df[df['Proveedor'] == 'Gallo'].drop('Proveedor', axis=1)\n",
    "Anea = df[df['Proveedor'] == 'Anea'].drop('Proveedor', axis=1)\n",
    "Pilar = df[df['Proveedor'] == 'Pilar'].drop('Proveedor', axis=1)\n",
    "Tortuguitas = df[df['Proveedor'] == 'Tortuguitas'].drop('Proveedor', axis=1)\n",
    "Mundo_Mascotas = df[df['Proveedor'] == 'Mundo Mascotas'].drop('Proveedor', axis=1)\n",
    "King_Clor = df[df['Proveedor'] == 'King Clor'].drop('Proveedor', axis=1)\n",
    "Diserquim = df[df['Proveedor'] == 'Diserquim'].drop('Proveedor', axis=1)\n",
    "Roberto = df[df['Proveedor'] == 'Roberto'].drop('Proveedor', axis=1)\n",
    "Mis_Nietos = df[df['Proveedor'] == 'Mis Nietos'].drop('Proveedor', axis=1)\n",
    "Limpieza = df[df['Proveedor'] == 'Limpieza'].drop('Proveedor', axis=1)\n",
    "Hipocampus = df[df['Proveedor'] == 'Hipocampus'].drop('Proveedor', axis=1)\n",
    "Profesional_Vet = df[df['Proveedor'] == 'Profesional Vet'].drop('Proveedor', axis=1)\n",
    "Del_Viso = df[df['Proveedor'] == 'Del Viso'].drop('Proveedor', axis=1)"
   ]
  },
  {
   "cell_type": "code",
   "execution_count": 15,
   "id": "15698ddf-67b8-45ff-94e9-06b494967c1e",
   "metadata": {},
   "outputs": [],
   "source": [
    "df['Proveedor 2'] = 0\n",
    "df['Proveedor 3'] = 0"
   ]
  },
  {
   "cell_type": "code",
   "execution_count": 16,
   "id": "6f0d7311-aeca-4b85-8db2-ad974763cb0a",
   "metadata": {},
   "outputs": [],
   "source": [
    "df = Comparar_Df_y_Copiar(df, df_Baratos, 'Descripción', 'Descripcion', 'Proveedor 2', 'Proveedor 2')\n",
    "df = Comparar_Df_y_Copiar(df, df_Baratos, 'Descripción', 'Descripcion', 'Precio 2', 'Precio 2')\n",
    "df = Comparar_Df_y_Copiar(df, df_Baratos, 'Descripción', 'Descripcion', 'Proveedor 3', 'Proveedor 3')\n",
    "df = Comparar_Df_y_Copiar(df, df_Baratos, 'Descripción', 'Descripcion', 'Precio 3', 'Precio 3')"
   ]
  },
  {
   "cell_type": "code",
   "execution_count": 17,
   "id": "73aee546-0bea-4f38-a222-5c9b9d58200b",
   "metadata": {},
   "outputs": [],
   "source": [
    "Orden = ['Descripción', 'Cantidad', 'Proveedor', 'Precio', 'Total', 'Proveedor 2', 'Precio 2', 'Proveedor 3', 'Precio 3']"
   ]
  },
  {
   "cell_type": "code",
   "execution_count": 18,
   "id": "d7e74714-9a92-4237-b6ae-b9d25bdd6b23",
   "metadata": {},
   "outputs": [],
   "source": [
    "Mas_Baratos = df[Orden]"
   ]
  },
  {
   "cell_type": "code",
   "execution_count": 19,
   "id": "780d0705-0324-4857-ae48-0e21e961cbbc",
   "metadata": {},
   "outputs": [],
   "source": [
    "def Pedido(Proveedor):\n",
    "    print('Total del pedido:', Proveedor['Total'].sum())\n",
    "    display(Proveedor)"
   ]
  },
  {
   "cell_type": "code",
   "execution_count": 20,
   "id": "a18332cf-1029-44a2-9e6b-ca99afb7188e",
   "metadata": {},
   "outputs": [],
   "source": [
    "def Todos():\n",
    "\n",
    "    if len(Benavidez) != 0:\n",
    "        print(\"Benavídez\")\n",
    "        print(\"Total del pedido:\", Benavidez['Total'].sum())\n",
    "        display(Benavidez)\n",
    "\n",
    "    if len(Gallo) != 0:\n",
    "        print(\"Gallo\")\n",
    "        print(\"Total del pedido:\", Gallo['Total'].sum())\n",
    "        display(Gallo)\n",
    "\n",
    "    if len(Anea) != 0:\n",
    "        print(\"Anea\")\n",
    "        print(\"Total del pedido:\", Anea['Total'].sum())\n",
    "        display(Anea)\n",
    "\n",
    "    if len(Pilar) != 0:\n",
    "        print(\"Pilar\")\n",
    "        print(\"Total del pedido:\", Pilar['Total'].sum())\n",
    "        display(Pilar)\n",
    "\n",
    "    if len(Tortuguitas) != 0:\n",
    "        print(\"Tortuguitas\")\n",
    "        print(\"Total del pedido:\", Tortuguitas['Total'].sum())\n",
    "        display(Tortuguitas)\n",
    "\n",
    "    if len(Mundo_Mascotas) != 0:\n",
    "        print(\"Mundo Mascotas\")\n",
    "        print(\"Total del pedido:\", Mundo_Mascotas['Total'].sum())\n",
    "        display(Mundo_Mascotas)\n",
    "\n",
    "    if len(King_Clor) != 0:\n",
    "        print(\"King Clor\")\n",
    "        print(\"Total del pedido:\", King_Clor['Total'].sum())\n",
    "        display(King_Clor)\n",
    "\n",
    "    if len(Diserquim) != 0:\n",
    "        print(\"Diserquim\")\n",
    "        print(\"Total del pedido:\", Diserquim['Total'].sum())\n",
    "        display(Diserquim)\n",
    "\n",
    "    if len(Roberto) != 0:\n",
    "        print(\"Roberto\")\n",
    "        print(\"Total del pedido:\", Roberto['Total'].sum())\n",
    "        display(Roberto)\n",
    "\n",
    "    if len(Mis_Nietos) != 0:\n",
    "        print(\"Mis Nietos\")\n",
    "        print(\"Total del pedido:\", Mis_Nietos['Total'].sum())\n",
    "        display(Mis_Nietos)\n",
    "\n",
    "    if len(Limpieza) != 0:\n",
    "        print(\"Limpieza\")\n",
    "        print(\"Total del pedido:\", Limpieza['Total'].sum())\n",
    "        display(Limpieza)\n",
    "\n",
    "    if len(Hipocampus) != 0:\n",
    "        print(\"Hipocampus\")\n",
    "        print(\"Total del pedido:\", Hipocampus['Total'].sum())\n",
    "        display(Hipocampus)\n",
    "\n",
    "    if len(Profesional_Vet)!= 0:\n",
    "        print(\"Profesional Vet\")\n",
    "        print(\"Total del pedido:\", Profesional_Vet['Total'].sum())\n",
    "        display(Profesional_Vet)\n",
    "    \n",
    "    if len(Del_Viso) != 0:\n",
    "        print(\"Del Viso\")\n",
    "        print(\"Total del pedido:\", Del_Viso['Total'].sum())\n",
    "        display(Del_Viso)"
   ]
  }
 ],
 "metadata": {
  "kernelspec": {
   "display_name": "Python 3 (ipykernel)",
   "language": "python",
   "name": "python3"
  },
  "language_info": {
   "codemirror_mode": {
    "name": "ipython",
    "version": 3
   },
   "file_extension": ".py",
   "mimetype": "text/x-python",
   "name": "python",
   "nbconvert_exporter": "python",
   "pygments_lexer": "ipython3",
   "version": "3.11.7"
  }
 },
 "nbformat": 4,
 "nbformat_minor": 5
}
