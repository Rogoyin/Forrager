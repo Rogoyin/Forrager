{
 "cells": [
  {
   "cell_type": "code",
   "execution_count": 143,
   "metadata": {},
   "outputs": [],
   "source": [
    "import pandas as pd\n",
    "import numpy as np\n",
    "import re as re"
   ]
  },
  {
   "cell_type": "code",
   "execution_count": 144,
   "metadata": {},
   "outputs": [],
   "source": [
    "Exportar = 'J:/My Drive/Forraje/Exportar.xls'\n",
    "df_Exportar = pd.read_excel(Exportar)"
   ]
  },
  {
   "cell_type": "code",
   "execution_count": 145,
   "metadata": {},
   "outputs": [],
   "source": [
    "df_Exportar = df_Exportar.rename(columns={'Descripción': 'Descripcion'})\n",
    "df_Exportar = df_Exportar.rename(columns={'Costo Unitário': 'Costo'})"
   ]
  },
  {
   "cell_type": "code",
   "execution_count": 146,
   "metadata": {},
   "outputs": [],
   "source": [
    "Marcas = 'J:/My Drive/Forraje/Marcas y subcategorías.xlsx'\n",
    "df_Marcas = pd.read_excel(Marcas)"
   ]
  },
  {
   "cell_type": "code",
   "execution_count": 147,
   "metadata": {},
   "outputs": [],
   "source": [
    "df = pd.merge(df_Exportar, df_Marcas, how='left', on='Descripcion')"
   ]
  },
  {
   "cell_type": "code",
   "execution_count": 148,
   "metadata": {},
   "outputs": [],
   "source": [
    "df = df[['Descripcion', 'Categoría_y', 'Subcategoria', 'Marca_y', 'Costo', 'Precio', 'Markup %']]"
   ]
  },
  {
   "cell_type": "code",
   "execution_count": 149,
   "metadata": {},
   "outputs": [],
   "source": [
    "df = df.rename(columns={'Categoría_y': 'Categoria'})\n",
    "df = df.rename(columns={'Marca_y': 'Marca'})\n",
    "df = df.rename(columns={'Markup %': 'Markup'})"
   ]
  },
  {
   "cell_type": "code",
   "execution_count": 150,
   "metadata": {},
   "outputs": [],
   "source": [
    "df['Markup'] = (\n",
    "    df['Markup']\n",
    "    .str.replace(',', '.', regex=False) \n",
    "    .str.replace('%', '', regex=False) \n",
    "    .astype(float) \n",
    ")"
   ]
  },
  {
   "cell_type": "code",
   "execution_count": 151,
   "metadata": {},
   "outputs": [
    {
     "data": {
      "text/plain": [
       "Index(['Descripcion', 'Categoria', 'Subcategoria', 'Marca', 'Costo', 'Precio',\n",
       "       'Markup'],\n",
       "      dtype='object')"
      ]
     },
     "execution_count": 151,
     "metadata": {},
     "output_type": "execute_result"
    }
   ],
   "source": [
    "df.columns"
   ]
  },
  {
   "cell_type": "code",
   "execution_count": 152,
   "metadata": {},
   "outputs": [],
   "source": [
    "Aumentos_Subcategoria = {\n",
    "    \"Purina\": 5\n",
    "}"
   ]
  },
  {
   "cell_type": "code",
   "execution_count": 153,
   "metadata": {},
   "outputs": [],
   "source": [
    "Aumentos_Marcas = {\n",
    "    \"9 Lives\": 8,\n",
    "    \"Zimpi\": 6,\n",
    "    \"Compinche\": 6,\n",
    "    \"Pedigree\": 8.5,\n",
    "    \"Whiskas\": 8.5,\n",
    "    \"Eukanuba\": 9,\n",
    "    \"Royal Canin\": 9\n",
    "}"
   ]
  },
  {
   "cell_type": "code",
   "execution_count": 154,
   "metadata": {},
   "outputs": [],
   "source": [
    "Aumentos_Nombres = {\n",
    "    \"Dentastix\": 20,\n",
    "    \"Pedigree/Whiskas Latas\": 20,\n",
    "    \"Pedigree/Whiskas Pouch\": 20\n",
    "}"
   ]
  },
  {
   "cell_type": "code",
   "execution_count": 155,
   "metadata": {},
   "outputs": [],
   "source": [
    "df_Resultados = pd.DataFrame()"
   ]
  },
  {
   "cell_type": "code",
   "execution_count": 161,
   "metadata": {},
   "outputs": [
    {
     "data": {
      "text/html": [
       "<div>\n",
       "<style scoped>\n",
       "    .dataframe tbody tr th:only-of-type {\n",
       "        vertical-align: middle;\n",
       "    }\n",
       "\n",
       "    .dataframe tbody tr th {\n",
       "        vertical-align: top;\n",
       "    }\n",
       "\n",
       "    .dataframe thead th {\n",
       "        text-align: right;\n",
       "    }\n",
       "</style>\n",
       "<table border=\"1\" class=\"dataframe\">\n",
       "  <thead>\n",
       "    <tr style=\"text-align: right;\">\n",
       "      <th></th>\n",
       "      <th>Descripcion</th>\n",
       "      <th>Categoria</th>\n",
       "      <th>Subcategoria</th>\n",
       "      <th>Marca</th>\n",
       "      <th>Costo</th>\n",
       "      <th>Precio</th>\n",
       "      <th>Markup</th>\n",
       "    </tr>\n",
       "  </thead>\n",
       "  <tbody>\n",
       "    <tr>\n",
       "      <th>1410</th>\n",
       "      <td>Pedigree Dentastix Razas Medianas</td>\n",
       "      <td>Mascotas</td>\n",
       "      <td>Pedigree</td>\n",
       "      <td>Pedigree</td>\n",
       "      <td>328.0</td>\n",
       "      <td>500.0</td>\n",
       "      <td>52.4</td>\n",
       "    </tr>\n",
       "    <tr>\n",
       "      <th>1411</th>\n",
       "      <td>Pedigree Dentastix Razas Medianas x 3 u.</td>\n",
       "      <td>Mascotas</td>\n",
       "      <td>Pedigree</td>\n",
       "      <td>Pedigree</td>\n",
       "      <td>943.0</td>\n",
       "      <td>1500.0</td>\n",
       "      <td>59.0</td>\n",
       "    </tr>\n",
       "    <tr>\n",
       "      <th>1412</th>\n",
       "      <td>Pedigree Dentastix Razas Medianas x 7 u.</td>\n",
       "      <td>Mascotas</td>\n",
       "      <td>Pedigree</td>\n",
       "      <td>Pedigree</td>\n",
       "      <td>2462.0</td>\n",
       "      <td>3500.0</td>\n",
       "      <td>42.1</td>\n",
       "    </tr>\n",
       "    <tr>\n",
       "      <th>1413</th>\n",
       "      <td>Pedigree Dentastix Razas Pequeñas</td>\n",
       "      <td>Mascotas</td>\n",
       "      <td>Pedigree</td>\n",
       "      <td>Pedigree</td>\n",
       "      <td>270.0</td>\n",
       "      <td>500.0</td>\n",
       "      <td>85.1</td>\n",
       "    </tr>\n",
       "    <tr>\n",
       "      <th>1414</th>\n",
       "      <td>Pedigree Dentastix Razas Pequeñas x 3 u.</td>\n",
       "      <td>Mascotas</td>\n",
       "      <td>Pedigree</td>\n",
       "      <td>Pedigree</td>\n",
       "      <td>800.0</td>\n",
       "      <td>1200.0</td>\n",
       "      <td>50.0</td>\n",
       "    </tr>\n",
       "    <tr>\n",
       "      <th>1415</th>\n",
       "      <td>Pedigree Dentastix Razas Pequeñas x 7 u.</td>\n",
       "      <td>Mascotas</td>\n",
       "      <td>Pedigree</td>\n",
       "      <td>Pedigree</td>\n",
       "      <td>1553.0</td>\n",
       "      <td>2400.0</td>\n",
       "      <td>54.5</td>\n",
       "    </tr>\n",
       "  </tbody>\n",
       "</table>\n",
       "</div>"
      ],
      "text/plain": [
       "                                   Descripcion Categoria Subcategoria  \\\n",
       "1410         Pedigree Dentastix Razas Medianas  Mascotas     Pedigree   \n",
       "1411  Pedigree Dentastix Razas Medianas x 3 u.  Mascotas     Pedigree   \n",
       "1412  Pedigree Dentastix Razas Medianas x 7 u.  Mascotas     Pedigree   \n",
       "1413         Pedigree Dentastix Razas Pequeñas  Mascotas     Pedigree   \n",
       "1414  Pedigree Dentastix Razas Pequeñas x 3 u.  Mascotas     Pedigree   \n",
       "1415  Pedigree Dentastix Razas Pequeñas x 7 u.  Mascotas     Pedigree   \n",
       "\n",
       "         Marca   Costo  Precio  Markup  \n",
       "1410  Pedigree   328.0   500.0    52.4  \n",
       "1411  Pedigree   943.0  1500.0    59.0  \n",
       "1412  Pedigree  2462.0  3500.0    42.1  \n",
       "1413  Pedigree   270.0   500.0    85.1  \n",
       "1414  Pedigree   800.0  1200.0    50.0  \n",
       "1415  Pedigree  1553.0  2400.0    54.5  "
      ]
     },
     "execution_count": 161,
     "metadata": {},
     "output_type": "execute_result"
    }
   ],
   "source": [
    "df[df['Descripcion'].str.contains('Dentastix', case=False, na=False)]"
   ]
  },
  {
   "cell_type": "code",
   "execution_count": 157,
   "metadata": {},
   "outputs": [],
   "source": [
    "for Subcategoria, Aumento in Aumentos_Subcategoria.items():\n",
    "    df_Provisorio = df[df['Subcategoria'] == Subcategoria]\n",
    "    df_Provisorio = df_Provisorio[['Descripcion', 'Precio', 'Costo', 'Markup']]\n",
    "    \n",
    "    # Convertir las columnas 'Costo' y 'Precio' a valores numéricos.\n",
    "    df_Provisorio['Costo'] = pd.to_numeric(df_Provisorio['Costo'], errors='coerce')\n",
    "    df_Provisorio['Precio'] = pd.to_numeric(df_Provisorio['Precio'], errors='coerce')\n",
    "    \n",
    "    # Aplicar el aumento al costo.\n",
    "    df_Provisorio['Costo'] = df_Provisorio['Costo'] * (1 + (Aumento / 100))\n",
    "    \n",
    "    # Calcular el nuevo precio y redondearlo al múltiplo.\n",
    "    df_Provisorio['Precio'] = df_Provisorio['Costo'] * (1 + (df_Provisorio['Markup'] / 100))\n",
    "    df_Provisorio['Precio'] = (df_Provisorio['Precio'] / 50).round() * 50 \n",
    "    \n",
    "    # Concatenar los resultados.\n",
    "    df_Resultados = pd.concat([df_Resultados, df_Provisorio])\n"
   ]
  },
  {
   "cell_type": "code",
   "execution_count": 158,
   "metadata": {},
   "outputs": [],
   "source": [
    "for Marca, Aumento in Aumentos_Marcas.items():\n",
    "    df_Provisorio = df[df['Marca'] == Marca]\n",
    "    df_Provisorio = df_Provisorio[['Descripcion', 'Precio', 'Costo', 'Markup']]\n",
    "    \n",
    "    # Convertir las columnas 'Costo' y 'Precio' a valores numéricos.\n",
    "    df_Provisorio['Costo'] = pd.to_numeric(df_Provisorio['Costo'], errors='coerce')\n",
    "    df_Provisorio['Precio'] = pd.to_numeric(df_Provisorio['Precio'], errors='coerce')\n",
    "    \n",
    "    # Aplicar el aumento al costo.\n",
    "    df_Provisorio['Costo'] = df_Provisorio['Costo'] * (1 + (Aumento / 100))\n",
    "    \n",
    "    # Calcular el nuevo precio y redondearlo al múltiplo.\n",
    "    df_Provisorio['Precio'] = df_Provisorio['Costo'] * (1 + (df_Provisorio['Markup'] / 100))\n",
    "    df_Provisorio['Precio'] = (df_Provisorio['Precio'] / 50).round() * 50 \n",
    "    \n",
    "    # Concatenar los resultados.\n",
    "    df_Resultados = pd.concat([df_Resultados, df_Provisorio])"
   ]
  },
  {
   "cell_type": "code",
   "execution_count": 159,
   "metadata": {},
   "outputs": [],
   "source": [
    "for Nombre, Aumento in Aumentos_Nombres.items():\n",
    "    df_Provisorio = df[df['Descripcion'].str.contains(Nombre, case=False, na=False)]\n",
    "    df_Provisorio = df_Provisorio[['Descripcion', 'Precio', 'Costo', 'Markup']]\n",
    "    \n",
    "    # Convertir las columnas 'Costo' y 'Precio' a valores numéricos.\n",
    "    df_Provisorio['Costo'] = pd.to_numeric(df_Provisorio['Costo'], errors='coerce')\n",
    "    df_Provisorio['Precio'] = pd.to_numeric(df_Provisorio['Precio'], errors='coerce')\n",
    "    \n",
    "    # Aplicar el aumento al costo.\n",
    "    df_Provisorio['Costo'] = df_Provisorio['Costo'] * (1 + (Aumento / 100))\n",
    "    \n",
    "    # Calcular el nuevo precio y redondearlo al múltiplo.\n",
    "    df_Provisorio['Precio'] = df_Provisorio['Costo'] * (1 + (df_Provisorio['Markup'] / 100))\n",
    "    df_Provisorio['Precio'] = (df_Provisorio['Precio'] / 50).round() * 50 \n",
    "    \n",
    "    # Concatenar los resultados.\n",
    "    df_Resultados = pd.concat([df_Resultados, df_Provisorio])"
   ]
  },
  {
   "cell_type": "code",
   "execution_count": 160,
   "metadata": {},
   "outputs": [
    {
     "data": {
      "text/html": [
       "<div>\n",
       "<style scoped>\n",
       "    .dataframe tbody tr th:only-of-type {\n",
       "        vertical-align: middle;\n",
       "    }\n",
       "\n",
       "    .dataframe tbody tr th {\n",
       "        vertical-align: top;\n",
       "    }\n",
       "\n",
       "    .dataframe thead th {\n",
       "        text-align: right;\n",
       "    }\n",
       "</style>\n",
       "<table border=\"1\" class=\"dataframe\">\n",
       "  <thead>\n",
       "    <tr style=\"text-align: right;\">\n",
       "      <th></th>\n",
       "      <th>Descripcion</th>\n",
       "      <th>Precio</th>\n",
       "      <th>Costo</th>\n",
       "      <th>Markup</th>\n",
       "    </tr>\n",
       "  </thead>\n",
       "  <tbody>\n",
       "    <tr>\n",
       "      <th>390</th>\n",
       "      <td>Cat Chow Carne/Pescado</td>\n",
       "      <td>5050.0</td>\n",
       "      <td>3339.00</td>\n",
       "      <td>50.9</td>\n",
       "    </tr>\n",
       "    <tr>\n",
       "      <th>391</th>\n",
       "      <td>Cat Chow Carne/Pescado x 15 kg.</td>\n",
       "      <td>66100.0</td>\n",
       "      <td>50091.30</td>\n",
       "      <td>32.0</td>\n",
       "    </tr>\n",
       "    <tr>\n",
       "      <th>392</th>\n",
       "      <td>Cat Chow Carne/Pescado x 8 kg.</td>\n",
       "      <td>38950.0</td>\n",
       "      <td>29466.15</td>\n",
       "      <td>32.2</td>\n",
       "    </tr>\n",
       "    <tr>\n",
       "      <th>393</th>\n",
       "      <td>Cat Chow Esterilizados</td>\n",
       "      <td>5250.0</td>\n",
       "      <td>3582.60</td>\n",
       "      <td>46.2</td>\n",
       "    </tr>\n",
       "    <tr>\n",
       "      <th>394</th>\n",
       "      <td>Cat Chow Esterilizados x 15 kg.</td>\n",
       "      <td>80000.0</td>\n",
       "      <td>60547.20</td>\n",
       "      <td>32.1</td>\n",
       "    </tr>\n",
       "    <tr>\n",
       "      <th>...</th>\n",
       "      <td>...</td>\n",
       "      <td>...</td>\n",
       "      <td>...</td>\n",
       "      <td>...</td>\n",
       "    </tr>\n",
       "    <tr>\n",
       "      <th>1411</th>\n",
       "      <td>Pedigree Dentastix Razas Medianas x 3 u.</td>\n",
       "      <td>1800.0</td>\n",
       "      <td>1131.60</td>\n",
       "      <td>59.0</td>\n",
       "    </tr>\n",
       "    <tr>\n",
       "      <th>1412</th>\n",
       "      <td>Pedigree Dentastix Razas Medianas x 7 u.</td>\n",
       "      <td>4200.0</td>\n",
       "      <td>2954.40</td>\n",
       "      <td>42.1</td>\n",
       "    </tr>\n",
       "    <tr>\n",
       "      <th>1413</th>\n",
       "      <td>Pedigree Dentastix Razas Pequeñas</td>\n",
       "      <td>600.0</td>\n",
       "      <td>324.00</td>\n",
       "      <td>85.1</td>\n",
       "    </tr>\n",
       "    <tr>\n",
       "      <th>1414</th>\n",
       "      <td>Pedigree Dentastix Razas Pequeñas x 3 u.</td>\n",
       "      <td>1450.0</td>\n",
       "      <td>960.00</td>\n",
       "      <td>50.0</td>\n",
       "    </tr>\n",
       "    <tr>\n",
       "      <th>1415</th>\n",
       "      <td>Pedigree Dentastix Razas Pequeñas x 7 u.</td>\n",
       "      <td>2900.0</td>\n",
       "      <td>1863.60</td>\n",
       "      <td>54.5</td>\n",
       "    </tr>\n",
       "  </tbody>\n",
       "</table>\n",
       "<p>158 rows × 4 columns</p>\n",
       "</div>"
      ],
      "text/plain": [
       "                                   Descripcion   Precio     Costo  Markup\n",
       "390                     Cat Chow Carne/Pescado   5050.0   3339.00    50.9\n",
       "391            Cat Chow Carne/Pescado x 15 kg.  66100.0  50091.30    32.0\n",
       "392             Cat Chow Carne/Pescado x 8 kg.  38950.0  29466.15    32.2\n",
       "393                     Cat Chow Esterilizados   5250.0   3582.60    46.2\n",
       "394            Cat Chow Esterilizados x 15 kg.  80000.0  60547.20    32.1\n",
       "...                                        ...      ...       ...     ...\n",
       "1411  Pedigree Dentastix Razas Medianas x 3 u.   1800.0   1131.60    59.0\n",
       "1412  Pedigree Dentastix Razas Medianas x 7 u.   4200.0   2954.40    42.1\n",
       "1413         Pedigree Dentastix Razas Pequeñas    600.0    324.00    85.1\n",
       "1414  Pedigree Dentastix Razas Pequeñas x 3 u.   1450.0    960.00    50.0\n",
       "1415  Pedigree Dentastix Razas Pequeñas x 7 u.   2900.0   1863.60    54.5\n",
       "\n",
       "[158 rows x 4 columns]"
      ]
     },
     "execution_count": 160,
     "metadata": {},
     "output_type": "execute_result"
    }
   ],
   "source": [
    "df_Resultados"
   ]
  },
  {
   "cell_type": "code",
   "execution_count": null,
   "metadata": {},
   "outputs": [],
   "source": []
  }
 ],
 "metadata": {
  "kernelspec": {
   "display_name": "Python 3",
   "language": "python",
   "name": "python3"
  },
  "language_info": {
   "codemirror_mode": {
    "name": "ipython",
    "version": 3
   },
   "file_extension": ".py",
   "mimetype": "text/x-python",
   "name": "python",
   "nbconvert_exporter": "python",
   "pygments_lexer": "ipython3",
   "version": "3.12.6"
  }
 },
 "nbformat": 4,
 "nbformat_minor": 2
}
