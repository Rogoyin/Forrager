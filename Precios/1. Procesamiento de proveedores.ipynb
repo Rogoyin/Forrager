{
 "cells": [
  {
   "cell_type": "code",
   "execution_count": 25,
   "id": "8f3cf77a",
   "metadata": {},
   "outputs": [],
   "source": [
    "import pandas as pd\n",
    "import numpy as np\n",
    "import re as re"
   ]
  },
  {
   "cell_type": "markdown",
   "id": "5bef887d",
   "metadata": {},
   "source": [
    "La idea es tomar el dataframe de Proveedores, con todos los precios de los proveedores, y comparar para sacar el más barato. Con esto, dejamos un .csv nuevo que va a estar listo para usarse en el aumento de precios. \n",
    "La idea es que compare estos precios con los que se bajan en el exporte.\n",
    "\n",
    "Siempre asegurémonos de eliminar símbolos y demás cuando pasamos precios al Excel de Proveedores, así queda todo bien, y no hay que convertir strings, etc.\n",
    "\n",
    "Creamos el dataframe."
   ]
  },
  {
   "cell_type": "code",
   "execution_count": 26,
   "id": "2606a1e4",
   "metadata": {},
   "outputs": [],
   "source": [
    "Proveedores = 'J:/My Drive/Forraje/Proveedores.xlsx'\n",
    "\n",
    "# Crear el DataFrame utilizando esas columnas\n",
    "df_Proveedores = pd.read_excel(Proveedores, sheet_name='Centro')\n"
   ]
  },
  {
   "cell_type": "markdown",
   "id": "44103bc1",
   "metadata": {},
   "source": [
    "Ponemos las listas de columnas."
   ]
  },
  {
   "cell_type": "code",
   "execution_count": 27,
   "id": "09ca359e",
   "metadata": {},
   "outputs": [],
   "source": [
    "lista_proveedores = ['Benavídez', 'Gallo', 'Anea', 'Pilar', 'Tortuguitas', 'Del Viso',\n",
    "                     'Chica Glade', 'San Martín', 'Hipocampus', 'Mundo Mascotas', 'Yaguar',\n",
    "                     'King Clor', 'Diserquim', 'Moreno', 'Roberto', 'Viejo Gets', 'Viejo Cuero', 'Mis Nietos', \n",
    "                     'Profesional Vet', 'Premier', 'Dacam']"
   ]
  },
  {
   "cell_type": "code",
   "execution_count": 17,
   "id": "160e821d",
   "metadata": {},
   "outputs": [],
   "source": []
  },
  {
   "cell_type": "markdown",
   "id": "ce256298",
   "metadata": {},
   "source": [
    "Convertimos a float los valores strings que puedan llegar a ser problemáticos. También borramos en el caso de que haya palabras."
   ]
  },
  {
   "cell_type": "code",
   "execution_count": 28,
   "id": "94f10cde",
   "metadata": {},
   "outputs": [],
   "source": [
    "# Convertir las columnas especificadas a float64\n",
    "# for i in lista_proveedores:\n",
    "#     df_Proveedores[i] = df_Proveedores[i].astype(float)\n"
   ]
  },
  {
   "cell_type": "markdown",
   "id": "742beda0",
   "metadata": {},
   "source": [
    "Calcula el mínimo entre todas las columnas, e ignora los cero. Si todas son cero, queda cero."
   ]
  },
  {
   "cell_type": "code",
   "execution_count": 29,
   "id": "4a98cfb9",
   "metadata": {},
   "outputs": [],
   "source": [
    "# Calcula el mínimo de las columnas especificadas, excluyendo los valores de cero\n",
    "min_sin_cero = df_Proveedores[lista_proveedores].replace(0, np.nan).min(axis=1, skipna=True)\n"
   ]
  },
  {
   "cell_type": "code",
   "execution_count": 30,
   "id": "14b5afe0",
   "metadata": {},
   "outputs": [],
   "source": [
    "# Actualiza la columna 'Precios' con los mínimos calculados\n",
    "df_Proveedores['Precio'] = min_sin_cero\n"
   ]
  },
  {
   "cell_type": "markdown",
   "id": "1adcd664",
   "metadata": {},
   "source": [
    "Ahora lo que hace es llenar la columna \"Proveedor\" con el proveedor que tiene más barato el producto."
   ]
  },
  {
   "cell_type": "code",
   "execution_count": 31,
   "id": "5a3cc592",
   "metadata": {},
   "outputs": [],
   "source": [
    "# Iteramos sobre cada fila del DataFrame\n",
    "for indice, fila in df_Proveedores.iterrows():\n",
    "    # Iteramos sobre cada columna de lista_proveedores\n",
    "    for columna in lista_proveedores:\n",
    "        # Comparamos el valor de \"Precio\" con el valor en la columna actual\n",
    "        if fila[\"Precio\"] == fila[columna]:\n",
    "            # Si coinciden, actualizamos la columna \"Proveedores\" con el nombre de la columna actual\n",
    "            df_Proveedores.at[indice, \"Proveedor\"] = columna\n",
    "            # Salimos del bucle interno\n",
    "            break\n"
   ]
  },
  {
   "cell_type": "markdown",
   "id": "2fa6a0b3",
   "metadata": {},
   "source": [
    "Creamos un nuevo dataframe con las columnas correspondientes."
   ]
  },
  {
   "cell_type": "code",
   "execution_count": 32,
   "id": "57c82593",
   "metadata": {},
   "outputs": [],
   "source": [
    "# Crear el DataFrame utilizando esas columnas\n",
    "df = pd.DataFrame()"
   ]
  },
  {
   "cell_type": "markdown",
   "id": "05a80e29",
   "metadata": {},
   "source": [
    "Asignamos las columnas correspondientes al nuevo df."
   ]
  },
  {
   "cell_type": "code",
   "execution_count": 33,
   "id": "2e60964b",
   "metadata": {},
   "outputs": [
    {
     "data": {
      "text/html": [
       "<div>\n",
       "<style scoped>\n",
       "    .dataframe tbody tr th:only-of-type {\n",
       "        vertical-align: middle;\n",
       "    }\n",
       "\n",
       "    .dataframe tbody tr th {\n",
       "        vertical-align: top;\n",
       "    }\n",
       "\n",
       "    .dataframe thead th {\n",
       "        text-align: right;\n",
       "    }\n",
       "</style>\n",
       "<table border=\"1\" class=\"dataframe\">\n",
       "  <thead>\n",
       "    <tr style=\"text-align: right;\">\n",
       "      <th></th>\n",
       "      <th>Codigo</th>\n",
       "      <th>Descripcion</th>\n",
       "      <th>Costo</th>\n",
       "      <th>Categoria</th>\n",
       "      <th>Proveedor</th>\n",
       "    </tr>\n",
       "  </thead>\n",
       "  <tbody>\n",
       "    <tr>\n",
       "      <th>0</th>\n",
       "      <td>1905248.0</td>\n",
       "      <td>9 Lives Gatitos</td>\n",
       "      <td>NaN</td>\n",
       "      <td>Gato Granel</td>\n",
       "      <td>NaN</td>\n",
       "    </tr>\n",
       "    <tr>\n",
       "      <th>1</th>\n",
       "      <td>1002.0</td>\n",
       "      <td>9 Lives Gatitos x 8 kg.</td>\n",
       "      <td>18165.0</td>\n",
       "      <td>Gato</td>\n",
       "      <td>Benavídez</td>\n",
       "    </tr>\n",
       "    <tr>\n",
       "      <th>2</th>\n",
       "      <td>1905001.0</td>\n",
       "      <td>9 Lives Pescado</td>\n",
       "      <td>NaN</td>\n",
       "      <td>Gato Granel</td>\n",
       "      <td>NaN</td>\n",
       "    </tr>\n",
       "    <tr>\n",
       "      <th>3</th>\n",
       "      <td>28391001.0</td>\n",
       "      <td>9 Lives Pescado x 15 kg.</td>\n",
       "      <td>29417.0</td>\n",
       "      <td>Gato</td>\n",
       "      <td>Benavídez</td>\n",
       "    </tr>\n",
       "    <tr>\n",
       "      <th>4</th>\n",
       "      <td>7209.0</td>\n",
       "      <td>A Otra Parte Concentrado x 600 cc.</td>\n",
       "      <td>9008.0</td>\n",
       "      <td>Mascotas</td>\n",
       "      <td>Gallo</td>\n",
       "    </tr>\n",
       "  </tbody>\n",
       "</table>\n",
       "</div>"
      ],
      "text/plain": [
       "       Codigo                         Descripcion    Costo    Categoria  \\\n",
       "0   1905248.0                     9 Lives Gatitos      NaN  Gato Granel   \n",
       "1      1002.0             9 Lives Gatitos x 8 kg.  18165.0         Gato   \n",
       "2   1905001.0                     9 Lives Pescado      NaN  Gato Granel   \n",
       "3  28391001.0            9 Lives Pescado x 15 kg.  29417.0         Gato   \n",
       "4      7209.0  A Otra Parte Concentrado x 600 cc.   9008.0     Mascotas   \n",
       "\n",
       "   Proveedor  \n",
       "0        NaN  \n",
       "1  Benavídez  \n",
       "2        NaN  \n",
       "3  Benavídez  \n",
       "4      Gallo  "
      ]
     },
     "execution_count": 33,
     "metadata": {},
     "output_type": "execute_result"
    }
   ],
   "source": [
    "df['Codigo'] = df_Proveedores['Codigo']\n",
    "df['Descripcion'] = df_Proveedores['Descripcion']\n",
    "df['Costo'] = df_Proveedores['Precio']\n",
    "df['Categoria'] = df_Proveedores['Categoria']\n",
    "df['Proveedor'] = df_Proveedores['Proveedor']\n",
    "\n",
    "df.head()"
   ]
  },
  {
   "cell_type": "markdown",
   "id": "d37b4bf2",
   "metadata": {},
   "source": [
    "Creamos un .csv con la fecha actual."
   ]
  },
  {
   "cell_type": "code",
   "execution_count": 34,
   "id": "dda6f411",
   "metadata": {},
   "outputs": [],
   "source": [
    "# Guardar el DataFrame en un archivo CSV con la fecha actual en el nombre\n",
    "nombre_archivo = f\"J:/My Drive/Forraje/Calculados/Costos comparados.csv\"\n",
    "df.to_csv(nombre_archivo, index=False)"
   ]
  }
 ],
 "metadata": {
  "kernelspec": {
   "display_name": "Python 3 (ipykernel)",
   "language": "python",
   "name": "python3"
  },
  "language_info": {
   "codemirror_mode": {
    "name": "ipython",
    "version": 3
   },
   "file_extension": ".py",
   "mimetype": "text/x-python",
   "name": "python",
   "nbconvert_exporter": "python",
   "pygments_lexer": "ipython3",
   "version": "3.11.9"
  }
 },
 "nbformat": 4,
 "nbformat_minor": 5
}
