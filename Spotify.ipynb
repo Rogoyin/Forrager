{
 "cells": [
  {
   "cell_type": "code",
   "execution_count": 1,
   "metadata": {},
   "outputs": [],
   "source": [
    "from typing import List, Dict, Any\n",
    "import spotipy\n",
    "from spotipy.oauth2 import SpotifyOAuth"
   ]
  },
  {
   "cell_type": "code",
   "execution_count": 2,
   "metadata": {},
   "outputs": [],
   "source": [
    "# Configuración de autenticación.\n",
    "SPOTIPY_CLIENT_ID = \"bad5756382e744b189437e7d92e1bd1f\"\n",
    "SPOTIPY_CLIENT_SECRET = \"9bd792ef5f59442b881154256825b41d\"\n",
    "SPOTIPY_REDIRECT_URI = \"http://localhost:8888/callback\""
   ]
  },
  {
   "cell_type": "code",
   "execution_count": 8,
   "metadata": {},
   "outputs": [],
   "source": [
    "# Configuración de permisos para la biblioteca y playlists.\n",
    "SCOPE = \"user-library-modify user-library-read\""
   ]
  },
  {
   "cell_type": "code",
   "execution_count": 9,
   "metadata": {},
   "outputs": [],
   "source": [
    "# Autenticación con Spotipy.\n",
    "Spotify_Client = spotipy.Spotify(auth_manager=SpotifyOAuth(\n",
    "    client_id=SPOTIPY_CLIENT_ID,\n",
    "    client_secret=SPOTIPY_CLIENT_SECRET,\n",
    "    redirect_uri=SPOTIPY_REDIRECT_URI,\n",
    "    scope=SCOPE\n",
    "))"
   ]
  },
  {
   "cell_type": "code",
   "execution_count": 10,
   "metadata": {},
   "outputs": [],
   "source": [
    "def Remove_All_Albums_From_Library(Spotify_Client: Any) -> None:\n",
    "\n",
    "    \"\"\"\n",
    "    Removes all albums from the user's Spotify library.\n",
    "\n",
    "    Parameters:\n",
    "        Spotify_Client (Any): An authenticated Spotify client instance.\n",
    "\n",
    "    Example:\n",
    "        >>> from spotipy import Spotify\n",
    "        >>> Remove_All_Albums_From_Library(Spotify_Client)\n",
    "        \n",
    "    \"\"\"\n",
    "\n",
    "    # Fetch and delete albums in batches of up to 50.\n",
    "    Results = Spotify_Client.current_user_saved_albums(limit=50)\n",
    "    while Results[\"items\"]:\n",
    "        Album_Ids = [Album[\"album\"][\"id\"] for Album in Results[\"items\"]]\n",
    "\n",
    "        # Remove albums in the current batch.\n",
    "        Spotify_Client.current_user_saved_albums_delete(Album_Ids)\n",
    "        print(f\"Removed {len(Album_Ids)} albums.\")\n",
    "\n",
    "        # Fetch the next batch of albums.\n",
    "        Results = Spotify_Client.current_user_saved_albums(limit=50)\n",
    "\n",
    "    print(\"All albums have been removed from your library.\")"
   ]
  },
  {
   "cell_type": "code",
   "execution_count": 41,
   "metadata": {},
   "outputs": [],
   "source": [
    "def Get_Saved_Albums() -> List[Dict[str, Dict]]:\n",
    "\n",
    "    \"\"\"\n",
    "    Retrieves all saved albums from the user's Spotify library.\n",
    "\n",
    "    Returns:\n",
    "        A list of dictionaries containing album details.\n",
    "\n",
    "    Example:\n",
    "        >>> Get_Saved_Albums()\n",
    "        [{'name': 'Album 1', 'uri': 'spotify:album:123', 'tracks': {...}}, ...]\n",
    "\n",
    "    \"\"\"\n",
    "\n",
    "    Saved_Albums = []\n",
    "    Results = Spotify_Client.current_user_saved_albums(limit=50)\n",
    "\n",
    "    while Results:\n",
    "        for Item in Results['items']:\n",
    "            Album = Item['album']\n",
    "            Saved_Albums.append(Album)\n",
    "\n",
    "        # Check if there are more albums to paginate through.\n",
    "        Results = Spotify_Client.next(Results) if Results['next'] else None\n",
    "\n",
    "    return Saved_Albums"
   ]
  },
  {
   "cell_type": "code",
   "execution_count": 42,
   "metadata": {},
   "outputs": [],
   "source": [
    "def Create_Playlists_From_Albums(Albums: List[Dict[str, Dict]]) -> None:\n",
    "\n",
    "    \"\"\"\n",
    "    Creates a playlist for each album and adds all its tracks.\n",
    "\n",
    "    Parameters:\n",
    "        Albums: A list of album dictionaries from the Spotify API.\n",
    "\n",
    "    Returns:\n",
    "        None.\n",
    "\n",
    "    Example:\n",
    "        >>> Albums = Get_Saved_Albums()\n",
    "        >>> Create_Playlists_From_Albums(Albums)\n",
    "\n",
    "    \"\"\"\n",
    "\n",
    "    User_Id = Spotify_Client.current_user()['id']\n",
    "\n",
    "    for Album in Albums:\n",
    "        Album_Name = Album['name'].capitalize()  # Format album name.\n",
    "        Artist_Name = Album['artists'][0]['name']  # Get the first artist's name.\n",
    "        Release_Year = Album['release_date'][:4]  # Extract the year from release date.\n",
    "\n",
    "        Playlist_Name = f\"{Artist_Name}. {Album_Name} ({Release_Year})\"\n",
    "\n",
    "        Album_Tracks = [Track['uri'] for Track in Album['tracks']['items']]\n",
    "\n",
    "        # Create a new playlist for the album.\n",
    "        Playlist = Spotify_Client.user_playlist_create(\n",
    "            user=User_Id,\n",
    "            name=Playlist_Name,\n",
    "            public=False\n",
    "        )\n",
    "        Playlist_Id = Playlist['id']\n",
    "\n",
    "        # Add tracks to the created playlist.\n",
    "        Spotify_Client.user_playlist_add_tracks(\n",
    "            user=User_Id,\n",
    "            playlist_id=Playlist_Id,\n",
    "            tracks=Album_Tracks\n",
    "        )\n",
    "        print(f\"Playlist created: {Playlist_Name}\")"
   ]
  },
  {
   "cell_type": "code",
   "execution_count": 43,
   "metadata": {},
   "outputs": [],
   "source": [
    "def Delete_All_Playlists_Starting_With(\n",
    "    Prefix: str,\n",
    "    Client_ID: str,\n",
    "    Client_Secret: str,\n",
    "    Redirect_URI: str\n",
    ") -> None:\n",
    "\n",
    "    \"\"\"\n",
    "    Deletes all playlists whose names start with a specified prefix.\n",
    "\n",
    "    Parameters:\n",
    "        Prefix: A string representing the prefix to match playlist names.\n",
    "        Client_ID: Spotify API Client ID.\n",
    "        Client_Secret: Spotify API Client Secret.\n",
    "        Redirect_URI: Redirect URI for Spotify authentication.\n",
    "\n",
    "    Returns:\n",
    "        None.\n",
    "\n",
    "    Example:\n",
    "        >>> Delete_All_Playlists_Starting_With(\"Album:\", \"your_client_id\", \n",
    "        >>>                                     \"your_client_secret\", \n",
    "        >>>                                     \"http://localhost:8888/callback\")\n",
    "\n",
    "    \"\"\"\n",
    "\n",
    "    from spotipy import Spotify\n",
    "    from spotipy.oauth2 import SpotifyOAuth\n",
    "\n",
    "    # Authenticate using the provided credentials.\n",
    "    Spotify_Client = Spotify(auth_manager=SpotifyOAuth(\n",
    "        client_id=Client_ID,\n",
    "        client_secret=Client_Secret,\n",
    "        redirect_uri=Redirect_URI,\n",
    "        scope=\"playlist-read-private playlist-modify-private playlist-modify-public\"\n",
    "    ))\n",
    "\n",
    "    User_Id = Spotify_Client.current_user()['id']  # Fetch the current user's ID.\n",
    "    Playlists = Spotify_Client.current_user_playlists(limit=50)\n",
    "\n",
    "    while Playlists:\n",
    "        for Playlist in Playlists['items']:\n",
    "            if Playlist['name'].startswith(Prefix):\n",
    "                # Unfollow (delete) the playlist.\n",
    "                Spotify_Client.user_playlist_unfollow(user=User_Id, playlist_id=Playlist['id'])\n",
    "                print(f\"Playlist deleted: {Playlist['name']}\")\n",
    "\n",
    "        # Fetch the next batch of playlists if available.\n",
    "        Playlists = Spotify_Client.next(Playlists) if Playlists['next'] else None"
   ]
  },
  {
   "cell_type": "code",
   "execution_count": null,
   "metadata": {},
   "outputs": [],
   "source": [
    "# Crear playlist de álbumes.\n",
    "if __name__ == \"__main__\":\n",
    "\n",
    "    \"\"\"\n",
    "    Main execution script to fetch saved albums and create playlists.\n",
    "    \n",
    "    \"\"\"\n",
    "\n",
    "    #print(\"Fetching saved albums...\")\n",
    "    #Saved_Albums = Get_Saved_Albums()\n",
    "    #print(f\"Found {len(Saved_Albums)} albums.\")\n",
    "\n",
    "    #Create_Playlists_From_Albums(Saved_Albums)"
   ]
  },
  {
   "cell_type": "code",
   "execution_count": 11,
   "metadata": {},
   "outputs": [
    {
     "name": "stdout",
     "output_type": "stream",
     "text": [
      "Removed 50 albums.\n",
      "Removed 50 albums.\n",
      "Removed 50 albums.\n",
      "Removed 50 albums.\n",
      "Removed 50 albums.\n",
      "Removed 50 albums.\n",
      "Removed 50 albums.\n",
      "Removed 50 albums.\n",
      "Removed 50 albums.\n",
      "Removed 3 albums.\n",
      "All albums have been removed from your library.\n"
     ]
    }
   ],
   "source": [
    "# Borrar todos los álbumes de la biblioteca.\n",
    "Remove_All_Albums_From_Library(Spotify_Client)"
   ]
  },
  {
   "cell_type": "code",
   "execution_count": null,
   "metadata": {},
   "outputs": [],
   "source": []
  }
 ],
 "metadata": {
  "kernelspec": {
   "display_name": "Python 3",
   "language": "python",
   "name": "python3"
  },
  "language_info": {
   "codemirror_mode": {
    "name": "ipython",
    "version": 3
   },
   "file_extension": ".py",
   "mimetype": "text/x-python",
   "name": "python",
   "nbconvert_exporter": "python",
   "pygments_lexer": "ipython3",
   "version": "3.11.9"
  }
 },
 "nbformat": 4,
 "nbformat_minor": 2
}
